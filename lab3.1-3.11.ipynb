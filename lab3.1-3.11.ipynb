{
 "cells": [
  {
   "cell_type": "code",
   "execution_count": 1,
   "id": "e907336f",
   "metadata": {},
   "outputs": [
    {
     "data": {
      "text/plain": [
       "1.2"
      ]
     },
     "execution_count": 1,
     "metadata": {},
     "output_type": "execute_result"
    }
   ],
   "source": [
    "round(1.23,1)"
   ]
  },
  {
   "cell_type": "code",
   "execution_count": 2,
   "id": "3e0701c8",
   "metadata": {},
   "outputs": [
    {
     "data": {
      "text/plain": [
       "1.3"
      ]
     },
     "execution_count": 2,
     "metadata": {},
     "output_type": "execute_result"
    }
   ],
   "source": [
    "round(1.27,1)"
   ]
  },
  {
   "cell_type": "code",
   "execution_count": 3,
   "id": "ec100822",
   "metadata": {},
   "outputs": [
    {
     "data": {
      "text/plain": [
       "-1.3"
      ]
     },
     "execution_count": 3,
     "metadata": {},
     "output_type": "execute_result"
    }
   ],
   "source": [
    "round(-1.27,1)"
   ]
  },
  {
   "cell_type": "code",
   "execution_count": 4,
   "id": "1953a179",
   "metadata": {},
   "outputs": [
    {
     "data": {
      "text/plain": [
       "1.254"
      ]
     },
     "execution_count": 4,
     "metadata": {},
     "output_type": "execute_result"
    }
   ],
   "source": [
    "round(1.25361,3)"
   ]
  },
  {
   "cell_type": "code",
   "execution_count": 5,
   "id": "cbc87ebe",
   "metadata": {},
   "outputs": [],
   "source": [
    "a=1627731"
   ]
  },
  {
   "cell_type": "code",
   "execution_count": 6,
   "id": "5e8b2fc9",
   "metadata": {},
   "outputs": [
    {
     "data": {
      "text/plain": [
       "1627730"
      ]
     },
     "execution_count": 6,
     "metadata": {},
     "output_type": "execute_result"
    }
   ],
   "source": [
    "round(a,-1)"
   ]
  },
  {
   "cell_type": "code",
   "execution_count": 7,
   "id": "fb943c38",
   "metadata": {},
   "outputs": [
    {
     "data": {
      "text/plain": [
       "1627700"
      ]
     },
     "execution_count": 7,
     "metadata": {},
     "output_type": "execute_result"
    }
   ],
   "source": [
    "round(a,-2)"
   ]
  },
  {
   "cell_type": "code",
   "execution_count": 8,
   "id": "e357d633",
   "metadata": {},
   "outputs": [
    {
     "data": {
      "text/plain": [
       "1628000"
      ]
     },
     "execution_count": 8,
     "metadata": {},
     "output_type": "execute_result"
    }
   ],
   "source": [
    "round(a,-3)"
   ]
  },
  {
   "cell_type": "code",
   "execution_count": 9,
   "id": "fa8cff99",
   "metadata": {},
   "outputs": [],
   "source": [
    "x=1.23456"
   ]
  },
  {
   "cell_type": "code",
   "execution_count": 10,
   "id": "b75a18fe",
   "metadata": {},
   "outputs": [
    {
     "data": {
      "text/plain": [
       "'1.23'"
      ]
     },
     "execution_count": 10,
     "metadata": {},
     "output_type": "execute_result"
    }
   ],
   "source": [
    "format(x,'0.2f')"
   ]
  },
  {
   "cell_type": "code",
   "execution_count": 11,
   "id": "432b3db1",
   "metadata": {},
   "outputs": [
    {
     "data": {
      "text/plain": [
       "'1.235'"
      ]
     },
     "execution_count": 11,
     "metadata": {},
     "output_type": "execute_result"
    }
   ],
   "source": [
    "format(x,'0.3f')"
   ]
  },
  {
   "cell_type": "code",
   "execution_count": 12,
   "id": "cb85fb36",
   "metadata": {},
   "outputs": [
    {
     "data": {
      "text/plain": [
       "'Value is 1.235'"
      ]
     },
     "execution_count": 12,
     "metadata": {},
     "output_type": "execute_result"
    }
   ],
   "source": [
    "'Value is {:0.3f}'.format(x)\n"
   ]
  },
  {
   "cell_type": "code",
   "execution_count": 13,
   "id": "bc406e5a",
   "metadata": {},
   "outputs": [],
   "source": [
    "a = 2.1"
   ]
  },
  {
   "cell_type": "code",
   "execution_count": 19,
   "id": "34b4ce72",
   "metadata": {},
   "outputs": [],
   "source": [
    "b = 4.2"
   ]
  },
  {
   "cell_type": "code",
   "execution_count": 20,
   "id": "cfbb11fd",
   "metadata": {},
   "outputs": [],
   "source": [
    "c = a + b"
   ]
  },
  {
   "cell_type": "code",
   "execution_count": 21,
   "id": "011e5923",
   "metadata": {},
   "outputs": [
    {
     "data": {
      "text/plain": [
       "6.300000000000001"
      ]
     },
     "execution_count": 21,
     "metadata": {},
     "output_type": "execute_result"
    }
   ],
   "source": [
    "c"
   ]
  },
  {
   "cell_type": "code",
   "execution_count": 22,
   "id": "e394b30a",
   "metadata": {},
   "outputs": [],
   "source": [
    "c = round(c,2)"
   ]
  },
  {
   "cell_type": "code",
   "execution_count": 23,
   "id": "15b0a3cf",
   "metadata": {},
   "outputs": [
    {
     "data": {
      "text/plain": [
       "6.3"
      ]
     },
     "execution_count": 23,
     "metadata": {},
     "output_type": "execute_result"
    }
   ],
   "source": [
    "c"
   ]
  },
  {
   "cell_type": "code",
   "execution_count": 24,
   "id": "8c8e4f17",
   "metadata": {},
   "outputs": [],
   "source": [
    "from decimal import Decimal"
   ]
  },
  {
   "cell_type": "code",
   "execution_count": 25,
   "id": "6dd3f0fa",
   "metadata": {},
   "outputs": [],
   "source": [
    "a = Decimal('4.2')"
   ]
  },
  {
   "cell_type": "code",
   "execution_count": 29,
   "id": "2939d696",
   "metadata": {},
   "outputs": [],
   "source": [
    "b = Decimal('2.1')"
   ]
  },
  {
   "cell_type": "code",
   "execution_count": 30,
   "id": "7d4fd18e",
   "metadata": {},
   "outputs": [
    {
     "data": {
      "text/plain": [
       "Decimal('6.3')"
      ]
     },
     "execution_count": 30,
     "metadata": {},
     "output_type": "execute_result"
    }
   ],
   "source": [
    "a + b"
   ]
  },
  {
   "cell_type": "code",
   "execution_count": 31,
   "id": "f0050361",
   "metadata": {},
   "outputs": [
    {
     "data": {
      "text/plain": [
       "True"
      ]
     },
     "execution_count": 31,
     "metadata": {},
     "output_type": "execute_result"
    }
   ],
   "source": [
    "a + b == Decimal('6.3')"
   ]
  },
  {
   "cell_type": "code",
   "execution_count": 32,
   "id": "7e4ac736",
   "metadata": {},
   "outputs": [],
   "source": [
    "from decimal import localcontext"
   ]
  },
  {
   "cell_type": "code",
   "execution_count": 33,
   "id": "f725db84",
   "metadata": {},
   "outputs": [],
   "source": [
    "a = Decimal('1.3')"
   ]
  },
  {
   "cell_type": "code",
   "execution_count": 34,
   "id": "c9c0cd4e",
   "metadata": {},
   "outputs": [],
   "source": [
    "b= Decimal('1.7')"
   ]
  },
  {
   "cell_type": "code",
   "execution_count": 35,
   "id": "aba65ce0",
   "metadata": {},
   "outputs": [
    {
     "name": "stdout",
     "output_type": "stream",
     "text": [
      "0.7647058823529411764705882353\n"
     ]
    }
   ],
   "source": [
    "print(a/b)"
   ]
  },
  {
   "cell_type": "code",
   "execution_count": 37,
   "id": "ad879ab4",
   "metadata": {},
   "outputs": [
    {
     "name": "stdout",
     "output_type": "stream",
     "text": [
      "0.765\n"
     ]
    }
   ],
   "source": [
    "with localcontext() as ctx:\n",
    "    ctx.prec = 3\n",
    "    print(a/b)"
   ]
  },
  {
   "cell_type": "code",
   "execution_count": 38,
   "id": "0cb4a82c",
   "metadata": {},
   "outputs": [
    {
     "name": "stdout",
     "output_type": "stream",
     "text": [
      "0.76470588235294117647058823529411764705882352941176\n"
     ]
    }
   ],
   "source": [
    "with localcontext() as ctx:\n",
    "    ctx.prec=50\n",
    "    print(a/b)"
   ]
  },
  {
   "cell_type": "code",
   "execution_count": 39,
   "id": "4579b7f4",
   "metadata": {},
   "outputs": [],
   "source": [
    "nums = [1.28e+18, 1, -1.23e+18]"
   ]
  },
  {
   "cell_type": "code",
   "execution_count": 40,
   "id": "e77896e4",
   "metadata": {},
   "outputs": [
    {
     "data": {
      "text/plain": [
       "5e+16"
      ]
     },
     "execution_count": 40,
     "metadata": {},
     "output_type": "execute_result"
    }
   ],
   "source": [
    "sum(nums)"
   ]
  },
  {
   "cell_type": "code",
   "execution_count": 42,
   "id": "85cfde6e",
   "metadata": {},
   "outputs": [],
   "source": [
    "import math\n"
   ]
  },
  {
   "cell_type": "code",
   "execution_count": 43,
   "id": "d8b679ff",
   "metadata": {},
   "outputs": [
    {
     "data": {
      "text/plain": [
       "5e+16"
      ]
     },
     "execution_count": 43,
     "metadata": {},
     "output_type": "execute_result"
    }
   ],
   "source": [
    "math.fsum(nums)"
   ]
  },
  {
   "cell_type": "code",
   "execution_count": 44,
   "id": "fe798bac",
   "metadata": {},
   "outputs": [],
   "source": [
    "x = 1234.56789"
   ]
  },
  {
   "cell_type": "code",
   "execution_count": 45,
   "id": "c16e75e5",
   "metadata": {},
   "outputs": [
    {
     "data": {
      "text/plain": [
       "'1234.57'"
      ]
     },
     "execution_count": 45,
     "metadata": {},
     "output_type": "execute_result"
    }
   ],
   "source": [
    "format(x,'0.2f')"
   ]
  },
  {
   "cell_type": "code",
   "execution_count": 46,
   "id": "b70497fd",
   "metadata": {},
   "outputs": [
    {
     "data": {
      "text/plain": [
       "'    1234.6'"
      ]
     },
     "execution_count": 46,
     "metadata": {},
     "output_type": "execute_result"
    }
   ],
   "source": [
    "format(x,'>10.1f')"
   ]
  },
  {
   "cell_type": "code",
   "execution_count": 47,
   "id": "87f20beb",
   "metadata": {},
   "outputs": [
    {
     "data": {
      "text/plain": [
       "'1234.6    '"
      ]
     },
     "execution_count": 47,
     "metadata": {},
     "output_type": "execute_result"
    }
   ],
   "source": [
    "format(x,'<10.1f')"
   ]
  },
  {
   "cell_type": "code",
   "execution_count": 48,
   "id": "f6ebd214",
   "metadata": {},
   "outputs": [
    {
     "data": {
      "text/plain": [
       "'  1234.6  '"
      ]
     },
     "execution_count": 48,
     "metadata": {},
     "output_type": "execute_result"
    }
   ],
   "source": [
    "format(x,'^10.1f')"
   ]
  },
  {
   "cell_type": "code",
   "execution_count": 49,
   "id": "5d55a794",
   "metadata": {},
   "outputs": [
    {
     "data": {
      "text/plain": [
       "'1,234.56789'"
      ]
     },
     "execution_count": 49,
     "metadata": {},
     "output_type": "execute_result"
    }
   ],
   "source": [
    "format(x,',')"
   ]
  },
  {
   "cell_type": "code",
   "execution_count": 50,
   "id": "aa7ea4db",
   "metadata": {},
   "outputs": [
    {
     "data": {
      "text/plain": [
       "'1,234.6'"
      ]
     },
     "execution_count": 50,
     "metadata": {},
     "output_type": "execute_result"
    }
   ],
   "source": [
    "format(x,'0,.1f')"
   ]
  },
  {
   "cell_type": "code",
   "execution_count": 51,
   "id": "6c232d90",
   "metadata": {},
   "outputs": [
    {
     "data": {
      "text/plain": [
       "'1.234568e+03'"
      ]
     },
     "execution_count": 51,
     "metadata": {},
     "output_type": "execute_result"
    }
   ],
   "source": [
    "format(x,'e')"
   ]
  },
  {
   "cell_type": "code",
   "execution_count": 52,
   "id": "9b6ab318",
   "metadata": {},
   "outputs": [
    {
     "data": {
      "text/plain": [
       "'1.23E+03'"
      ]
     },
     "execution_count": 52,
     "metadata": {},
     "output_type": "execute_result"
    }
   ],
   "source": [
    "format(x,'0.2E')"
   ]
  },
  {
   "cell_type": "code",
   "execution_count": 56,
   "id": "d7229eab",
   "metadata": {},
   "outputs": [
    {
     "data": {
      "text/plain": [
       "'The value is 1,234.57'"
      ]
     },
     "execution_count": 56,
     "metadata": {},
     "output_type": "execute_result"
    }
   ],
   "source": [
    "'The value is {:0,.2f}'.format(x)"
   ]
  },
  {
   "cell_type": "code",
   "execution_count": 57,
   "id": "1f146776",
   "metadata": {},
   "outputs": [
    {
     "data": {
      "text/plain": [
       "'1234.6'"
      ]
     },
     "execution_count": 57,
     "metadata": {},
     "output_type": "execute_result"
    }
   ],
   "source": [
    "format(x,'0.1f')"
   ]
  },
  {
   "cell_type": "code",
   "execution_count": 58,
   "id": "77dcaf6e",
   "metadata": {},
   "outputs": [
    {
     "data": {
      "text/plain": [
       "'-1234.6'"
      ]
     },
     "execution_count": 58,
     "metadata": {},
     "output_type": "execute_result"
    }
   ],
   "source": [
    "format(-x,'0.1f')"
   ]
  },
  {
   "cell_type": "code",
   "execution_count": 59,
   "id": "13bdfb6b",
   "metadata": {},
   "outputs": [],
   "source": [
    "swap_separators = {ord('.'):',',ord(','):'.'}"
   ]
  },
  {
   "cell_type": "code",
   "execution_count": 60,
   "id": "fba3c335",
   "metadata": {},
   "outputs": [
    {
     "data": {
      "text/plain": [
       "'1,234.56789'"
      ]
     },
     "execution_count": 60,
     "metadata": {},
     "output_type": "execute_result"
    }
   ],
   "source": [
    "format(x,',')"
   ]
  },
  {
   "cell_type": "code",
   "execution_count": 61,
   "id": "a5201f50",
   "metadata": {},
   "outputs": [
    {
     "data": {
      "text/plain": [
       "'1.234,56789'"
      ]
     },
     "execution_count": 61,
     "metadata": {},
     "output_type": "execute_result"
    }
   ],
   "source": [
    "format(x,',').translate(swap_separators)"
   ]
  },
  {
   "cell_type": "code",
   "execution_count": 62,
   "id": "f7c56a71",
   "metadata": {},
   "outputs": [
    {
     "data": {
      "text/plain": [
       "'1234.57'"
      ]
     },
     "execution_count": 62,
     "metadata": {},
     "output_type": "execute_result"
    }
   ],
   "source": [
    "'%0.2f' % x"
   ]
  },
  {
   "cell_type": "code",
   "execution_count": 63,
   "id": "e3dd025e",
   "metadata": {},
   "outputs": [
    {
     "data": {
      "text/plain": [
       "'    1234.6'"
      ]
     },
     "execution_count": 63,
     "metadata": {},
     "output_type": "execute_result"
    }
   ],
   "source": [
    "'%10.1f' % x\n"
   ]
  },
  {
   "cell_type": "code",
   "execution_count": 64,
   "id": "050e6adb",
   "metadata": {},
   "outputs": [
    {
     "data": {
      "text/plain": [
       "'1234.6    '"
      ]
     },
     "execution_count": 64,
     "metadata": {},
     "output_type": "execute_result"
    }
   ],
   "source": [
    "'%-10.1f'% x"
   ]
  },
  {
   "cell_type": "code",
   "execution_count": 65,
   "id": "faa8ae7c",
   "metadata": {},
   "outputs": [],
   "source": [
    "#adding thousands separators arent supported using % operator\n"
   ]
  },
  {
   "cell_type": "code",
   "execution_count": 66,
   "id": "0260e9b0",
   "metadata": {},
   "outputs": [],
   "source": [
    "#3.4 working with Binary,Octal, and Hexadecimal integers"
   ]
  },
  {
   "cell_type": "code",
   "execution_count": 68,
   "id": "1ebcdc57",
   "metadata": {},
   "outputs": [],
   "source": [
    "x= 1234"
   ]
  },
  {
   "cell_type": "code",
   "execution_count": 69,
   "id": "9716a92a",
   "metadata": {},
   "outputs": [
    {
     "data": {
      "text/plain": [
       "'0b10011010010'"
      ]
     },
     "execution_count": 69,
     "metadata": {},
     "output_type": "execute_result"
    }
   ],
   "source": [
    "bin(x)"
   ]
  },
  {
   "cell_type": "code",
   "execution_count": 70,
   "id": "a1ebe945",
   "metadata": {},
   "outputs": [
    {
     "data": {
      "text/plain": [
       "'0o2322'"
      ]
     },
     "execution_count": 70,
     "metadata": {},
     "output_type": "execute_result"
    }
   ],
   "source": [
    "oct(x)"
   ]
  },
  {
   "cell_type": "code",
   "execution_count": 71,
   "id": "b26043ef",
   "metadata": {},
   "outputs": [
    {
     "data": {
      "text/plain": [
       "'0x4d2'"
      ]
     },
     "execution_count": 71,
     "metadata": {},
     "output_type": "execute_result"
    }
   ],
   "source": [
    "hex(x)"
   ]
  },
  {
   "cell_type": "code",
   "execution_count": 72,
   "id": "de248b6e",
   "metadata": {},
   "outputs": [],
   "source": [
    "#can use the format() if you dont want the 0b,0o, or 0x"
   ]
  },
  {
   "cell_type": "code",
   "execution_count": 73,
   "id": "5d81bcc1",
   "metadata": {},
   "outputs": [
    {
     "data": {
      "text/plain": [
       "'10011010010'"
      ]
     },
     "execution_count": 73,
     "metadata": {},
     "output_type": "execute_result"
    }
   ],
   "source": [
    "format(x,'b')"
   ]
  },
  {
   "cell_type": "code",
   "execution_count": 74,
   "id": "5fd83a09",
   "metadata": {},
   "outputs": [
    {
     "data": {
      "text/plain": [
       "'2322'"
      ]
     },
     "execution_count": 74,
     "metadata": {},
     "output_type": "execute_result"
    }
   ],
   "source": [
    "format(x,'o')"
   ]
  },
  {
   "cell_type": "code",
   "execution_count": 75,
   "id": "88343acd",
   "metadata": {},
   "outputs": [
    {
     "data": {
      "text/plain": [
       "'4d2'"
      ]
     },
     "execution_count": 75,
     "metadata": {},
     "output_type": "execute_result"
    }
   ],
   "source": [
    "format(x,'x')"
   ]
  },
  {
   "cell_type": "code",
   "execution_count": 76,
   "id": "9765d653",
   "metadata": {},
   "outputs": [],
   "source": [
    "x=-1234\n"
   ]
  },
  {
   "cell_type": "code",
   "execution_count": 77,
   "id": "9b68d74f",
   "metadata": {},
   "outputs": [
    {
     "data": {
      "text/plain": [
       "'-10011010010'"
      ]
     },
     "execution_count": 77,
     "metadata": {},
     "output_type": "execute_result"
    }
   ],
   "source": [
    "format(x,'b')"
   ]
  },
  {
   "cell_type": "code",
   "execution_count": 78,
   "id": "63ff74ec",
   "metadata": {},
   "outputs": [
    {
     "data": {
      "text/plain": [
       "'-2322'"
      ]
     },
     "execution_count": 78,
     "metadata": {},
     "output_type": "execute_result"
    }
   ],
   "source": [
    "format(x,'o')"
   ]
  },
  {
   "cell_type": "code",
   "execution_count": 80,
   "id": "6ce51048",
   "metadata": {},
   "outputs": [
    {
     "data": {
      "text/plain": [
       "'-4d2'"
      ]
     },
     "execution_count": 80,
     "metadata": {},
     "output_type": "execute_result"
    }
   ],
   "source": [
    "format(x,'x')"
   ]
  },
  {
   "cell_type": "code",
   "execution_count": 81,
   "id": "69638ee7",
   "metadata": {},
   "outputs": [],
   "source": [
    "#to show a 32-bit value"
   ]
  },
  {
   "cell_type": "code",
   "execution_count": 82,
   "id": "609dbe51",
   "metadata": {},
   "outputs": [],
   "source": [
    "x=-1234"
   ]
  },
  {
   "cell_type": "code",
   "execution_count": 83,
   "id": "43be9183",
   "metadata": {},
   "outputs": [
    {
     "data": {
      "text/plain": [
       "'11111111111111111111101100101110'"
      ]
     },
     "execution_count": 83,
     "metadata": {},
     "output_type": "execute_result"
    }
   ],
   "source": [
    "format(2**32 + x,'b')"
   ]
  },
  {
   "cell_type": "code",
   "execution_count": 85,
   "id": "57ab257e",
   "metadata": {},
   "outputs": [
    {
     "data": {
      "text/plain": [
       "'fffffb2e'"
      ]
     },
     "execution_count": 85,
     "metadata": {},
     "output_type": "execute_result"
    }
   ],
   "source": [
    "format(2**32 + x,'x')"
   ]
  },
  {
   "cell_type": "code",
   "execution_count": 87,
   "id": "82ceab98",
   "metadata": {},
   "outputs": [
    {
     "data": {
      "text/plain": [
       "1202"
      ]
     },
     "execution_count": 87,
     "metadata": {},
     "output_type": "execute_result"
    }
   ],
   "source": [
    "int('4b2',16)"
   ]
  },
  {
   "cell_type": "code",
   "execution_count": 88,
   "id": "a8374b7a",
   "metadata": {},
   "outputs": [
    {
     "data": {
      "text/plain": [
       "1234"
      ]
     },
     "execution_count": 88,
     "metadata": {},
     "output_type": "execute_result"
    }
   ],
   "source": [
    "int('10011010010',2)"
   ]
  },
  {
   "cell_type": "code",
   "execution_count": 89,
   "id": "5bbf11b1",
   "metadata": {},
   "outputs": [],
   "source": [
    "import os\n"
   ]
  },
  {
   "cell_type": "code",
   "execution_count": 91,
   "id": "118417ec",
   "metadata": {},
   "outputs": [
    {
     "ename": "SyntaxError",
     "evalue": "leading zeros in decimal integer literals are not permitted; use an 0o prefix for octal integers (4132201004.py, line 1)",
     "output_type": "error",
     "traceback": [
      "\u001b[0;36m  Input \u001b[0;32mIn [91]\u001b[0;36m\u001b[0m\n\u001b[0;31m    os.chmod('script.py',0755)\u001b[0m\n\u001b[0m                            ^\u001b[0m\n\u001b[0;31mSyntaxError\u001b[0m\u001b[0;31m:\u001b[0m leading zeros in decimal integer literals are not permitted; use an 0o prefix for octal integers\n"
     ]
    }
   ],
   "source": [
    "os.chmod('script.py',0755)"
   ]
  },
  {
   "cell_type": "code",
   "execution_count": 92,
   "id": "39cc58a6",
   "metadata": {},
   "outputs": [
    {
     "ename": "FileNotFoundError",
     "evalue": "[Errno 2] No such file or directory: 'script.py'",
     "output_type": "error",
     "traceback": [
      "\u001b[0;31m---------------------------------------------------------------------------\u001b[0m",
      "\u001b[0;31mFileNotFoundError\u001b[0m                         Traceback (most recent call last)",
      "Input \u001b[0;32mIn [92]\u001b[0m, in \u001b[0;36m<cell line: 1>\u001b[0;34m()\u001b[0m\n\u001b[0;32m----> 1\u001b[0m \u001b[43mos\u001b[49m\u001b[38;5;241;43m.\u001b[39;49m\u001b[43mchmod\u001b[49m\u001b[43m(\u001b[49m\u001b[38;5;124;43m'\u001b[39;49m\u001b[38;5;124;43mscript.py\u001b[39;49m\u001b[38;5;124;43m'\u001b[39;49m\u001b[43m,\u001b[49m\u001b[38;5;241;43m0o755\u001b[39;49m\u001b[43m)\u001b[49m\n",
      "\u001b[0;31mFileNotFoundError\u001b[0m: [Errno 2] No such file or directory: 'script.py'"
     ]
    }
   ],
   "source": [
    "os.chmod('script.py',0o755)"
   ]
  },
  {
   "cell_type": "code",
   "execution_count": 93,
   "id": "6ac266a0",
   "metadata": {},
   "outputs": [],
   "source": [
    "data = b'\\x00\\x124V\\x00x\\x90\\xab\\x00\\xcd\\xef\\x01\\x00#\\x004'"
   ]
  },
  {
   "cell_type": "code",
   "execution_count": 94,
   "id": "602a6e28",
   "metadata": {},
   "outputs": [
    {
     "data": {
      "text/plain": [
       "16"
      ]
     },
     "execution_count": 94,
     "metadata": {},
     "output_type": "execute_result"
    }
   ],
   "source": [
    "len(data)"
   ]
  },
  {
   "cell_type": "code",
   "execution_count": 95,
   "id": "800c772d",
   "metadata": {},
   "outputs": [
    {
     "data": {
      "text/plain": [
       "69120565665751139577663547927094891008"
      ]
     },
     "execution_count": 95,
     "metadata": {},
     "output_type": "execute_result"
    }
   ],
   "source": [
    "int.from_bytes(data,'little')"
   ]
  },
  {
   "cell_type": "code",
   "execution_count": 97,
   "id": "4cfc6a7a",
   "metadata": {},
   "outputs": [
    {
     "data": {
      "text/plain": [
       "94522842520747284487117727783387188"
      ]
     },
     "execution_count": 97,
     "metadata": {},
     "output_type": "execute_result"
    }
   ],
   "source": [
    "int.from_bytes(data,'big')"
   ]
  },
  {
   "cell_type": "code",
   "execution_count": 98,
   "id": "5b96f5bf",
   "metadata": {},
   "outputs": [],
   "source": [
    "x=9452285250747284487117727783387188"
   ]
  },
  {
   "cell_type": "code",
   "execution_count": 99,
   "id": "374cdc83",
   "metadata": {},
   "outputs": [
    {
     "data": {
      "text/plain": [
       "b'\\x00\\x01\\xd2\\x08\\x9c\\xdf\\xbd4\\xd7\\xde\\x7f|\\xea#\\x004'"
      ]
     },
     "execution_count": 99,
     "metadata": {},
     "output_type": "execute_result"
    }
   ],
   "source": [
    "x.to_bytes(16,'big')"
   ]
  },
  {
   "cell_type": "code",
   "execution_count": 100,
   "id": "8589c26c",
   "metadata": {},
   "outputs": [
    {
     "data": {
      "text/plain": [
       "b'4\\x00#\\xea|\\x7f\\xde\\xd74\\xbd\\xdf\\x9c\\x08\\xd2\\x01\\x00'"
      ]
     },
     "execution_count": 100,
     "metadata": {},
     "output_type": "execute_result"
    }
   ],
   "source": [
    "x.to_bytes(16,'little')"
   ]
  },
  {
   "cell_type": "code",
   "execution_count": 101,
   "id": "dd15fb4f",
   "metadata": {},
   "outputs": [
    {
     "data": {
      "text/plain": [
       "b'\\x00\\x124V\\x00x\\x90\\xab\\x00\\xcd\\xef\\x01\\x00#\\x004'"
      ]
     },
     "execution_count": 101,
     "metadata": {},
     "output_type": "execute_result"
    }
   ],
   "source": [
    "data"
   ]
  },
  {
   "cell_type": "code",
   "execution_count": 102,
   "id": "2aaa0ce8",
   "metadata": {},
   "outputs": [],
   "source": [
    "import struct\n"
   ]
  },
  {
   "cell_type": "code",
   "execution_count": 103,
   "id": "6e8d53e1",
   "metadata": {},
   "outputs": [],
   "source": [
    "hi, lo=struct.unpack('>QQ',data)"
   ]
  },
  {
   "cell_type": "code",
   "execution_count": 104,
   "id": "47884180",
   "metadata": {},
   "outputs": [
    {
     "data": {
      "text/plain": [
       "94522842520747284487117727783387188"
      ]
     },
     "execution_count": 104,
     "metadata": {},
     "output_type": "execute_result"
    }
   ],
   "source": [
    "(hi << 64) + lo"
   ]
  },
  {
   "cell_type": "code",
   "execution_count": 105,
   "id": "114206bb",
   "metadata": {},
   "outputs": [],
   "source": [
    "x=0x01020304"
   ]
  },
  {
   "cell_type": "code",
   "execution_count": 106,
   "id": "cc686091",
   "metadata": {},
   "outputs": [
    {
     "data": {
      "text/plain": [
       "b'\\x01\\x02\\x03\\x04'"
      ]
     },
     "execution_count": 106,
     "metadata": {},
     "output_type": "execute_result"
    }
   ],
   "source": [
    "x.to_bytes(4,'big')"
   ]
  },
  {
   "cell_type": "code",
   "execution_count": 107,
   "id": "e62a95d3",
   "metadata": {},
   "outputs": [
    {
     "data": {
      "text/plain": [
       "b'\\x04\\x03\\x02\\x01'"
      ]
     },
     "execution_count": 107,
     "metadata": {},
     "output_type": "execute_result"
    }
   ],
   "source": [
    "x.to_bytes(4,'little')"
   ]
  },
  {
   "cell_type": "code",
   "execution_count": 108,
   "id": "e2b3d4cd",
   "metadata": {},
   "outputs": [],
   "source": [
    "x = 523 ** 23"
   ]
  },
  {
   "cell_type": "code",
   "execution_count": 109,
   "id": "942d541c",
   "metadata": {},
   "outputs": [
    {
     "data": {
      "text/plain": [
       "335381300113661875107536852714019056160355655333978849017944067"
      ]
     },
     "execution_count": 109,
     "metadata": {},
     "output_type": "execute_result"
    }
   ],
   "source": [
    "x"
   ]
  },
  {
   "cell_type": "code",
   "execution_count": 110,
   "id": "a77eb05f",
   "metadata": {},
   "outputs": [
    {
     "ename": "OverflowError",
     "evalue": "int too big to convert",
     "output_type": "error",
     "traceback": [
      "\u001b[0;31m---------------------------------------------------------------------------\u001b[0m",
      "\u001b[0;31mOverflowError\u001b[0m                             Traceback (most recent call last)",
      "Input \u001b[0;32mIn [110]\u001b[0m, in \u001b[0;36m<cell line: 1>\u001b[0;34m()\u001b[0m\n\u001b[0;32m----> 1\u001b[0m \u001b[43mx\u001b[49m\u001b[38;5;241;43m.\u001b[39;49m\u001b[43mto_bytes\u001b[49m\u001b[43m(\u001b[49m\u001b[38;5;241;43m16\u001b[39;49m\u001b[43m,\u001b[49m\u001b[38;5;124;43m'\u001b[39;49m\u001b[38;5;124;43mlittle\u001b[39;49m\u001b[38;5;124;43m'\u001b[39;49m\u001b[43m)\u001b[49m\n",
      "\u001b[0;31mOverflowError\u001b[0m: int too big to convert"
     ]
    }
   ],
   "source": [
    "x.to_bytes(16,'little')"
   ]
  },
  {
   "cell_type": "code",
   "execution_count": 112,
   "id": "6916b178",
   "metadata": {},
   "outputs": [
    {
     "data": {
      "text/plain": [
       "208"
      ]
     },
     "execution_count": 112,
     "metadata": {},
     "output_type": "execute_result"
    }
   ],
   "source": [
    "x.bit_length()"
   ]
  },
  {
   "cell_type": "code",
   "execution_count": 113,
   "id": "21aee9e0",
   "metadata": {},
   "outputs": [],
   "source": [
    "nbytes, rem = divmod(x.bit_length(),8)"
   ]
  },
  {
   "cell_type": "code",
   "execution_count": 114,
   "id": "ac9866b4",
   "metadata": {},
   "outputs": [],
   "source": [
    "if rem:\n",
    "    nbytes += 1"
   ]
  },
  {
   "cell_type": "code",
   "execution_count": 115,
   "id": "cdedd1af",
   "metadata": {},
   "outputs": [
    {
     "data": {
      "text/plain": [
       "b'\\x03X\\xf1\\x82iT\\x96\\xac\\xc7c\\x16\\xf3\\xb9\\xcf\\x18\\xee\\xec\\x91\\xd1\\x98\\xa2\\xc8\\xd9R\\xb5\\xd0'"
      ]
     },
     "execution_count": 115,
     "metadata": {},
     "output_type": "execute_result"
    }
   ],
   "source": [
    "x.to_bytes(nbytes,'little')"
   ]
  },
  {
   "cell_type": "code",
   "execution_count": 116,
   "id": "16a4f001",
   "metadata": {},
   "outputs": [],
   "source": [
    "#3.6 performing complex-valued Math "
   ]
  },
  {
   "cell_type": "code",
   "execution_count": 117,
   "id": "bd3d34b6",
   "metadata": {},
   "outputs": [],
   "source": [
    "a = complex(2,4)"
   ]
  },
  {
   "cell_type": "code",
   "execution_count": 118,
   "id": "819a3176",
   "metadata": {},
   "outputs": [],
   "source": [
    "b= 3 - 5j"
   ]
  },
  {
   "cell_type": "code",
   "execution_count": 119,
   "id": "e922fba6",
   "metadata": {},
   "outputs": [
    {
     "data": {
      "text/plain": [
       "(2+4j)"
      ]
     },
     "execution_count": 119,
     "metadata": {},
     "output_type": "execute_result"
    }
   ],
   "source": [
    "a"
   ]
  },
  {
   "cell_type": "code",
   "execution_count": 120,
   "id": "ed8d31cc",
   "metadata": {},
   "outputs": [
    {
     "data": {
      "text/plain": [
       "(3-5j)"
      ]
     },
     "execution_count": 120,
     "metadata": {},
     "output_type": "execute_result"
    }
   ],
   "source": [
    "b"
   ]
  },
  {
   "cell_type": "code",
   "execution_count": 121,
   "id": "cb16a3b1",
   "metadata": {},
   "outputs": [
    {
     "data": {
      "text/plain": [
       "2.0"
      ]
     },
     "execution_count": 121,
     "metadata": {},
     "output_type": "execute_result"
    }
   ],
   "source": [
    "a.real"
   ]
  },
  {
   "cell_type": "code",
   "execution_count": 122,
   "id": "4efafaa1",
   "metadata": {},
   "outputs": [
    {
     "data": {
      "text/plain": [
       "4.0"
      ]
     },
     "execution_count": 122,
     "metadata": {},
     "output_type": "execute_result"
    }
   ],
   "source": [
    "a.imag"
   ]
  },
  {
   "cell_type": "code",
   "execution_count": 123,
   "id": "1267bec8",
   "metadata": {},
   "outputs": [
    {
     "data": {
      "text/plain": [
       "(2-4j)"
      ]
     },
     "execution_count": 123,
     "metadata": {},
     "output_type": "execute_result"
    }
   ],
   "source": [
    "a.conjugate()"
   ]
  },
  {
   "cell_type": "code",
   "execution_count": 124,
   "id": "21e14d0a",
   "metadata": {},
   "outputs": [
    {
     "data": {
      "text/plain": [
       "(5-1j)"
      ]
     },
     "execution_count": 124,
     "metadata": {},
     "output_type": "execute_result"
    }
   ],
   "source": [
    "a + b"
   ]
  },
  {
   "cell_type": "code",
   "execution_count": 125,
   "id": "b2141251",
   "metadata": {},
   "outputs": [
    {
     "data": {
      "text/plain": [
       "(26+2j)"
      ]
     },
     "execution_count": 125,
     "metadata": {},
     "output_type": "execute_result"
    }
   ],
   "source": [
    "a * b"
   ]
  },
  {
   "cell_type": "code",
   "execution_count": 126,
   "id": "dc286e01",
   "metadata": {},
   "outputs": [
    {
     "data": {
      "text/plain": [
       "(-0.4117647058823529+0.6470588235294118j)"
      ]
     },
     "execution_count": 126,
     "metadata": {},
     "output_type": "execute_result"
    }
   ],
   "source": [
    "a / b"
   ]
  },
  {
   "cell_type": "code",
   "execution_count": 127,
   "id": "cab92e4f",
   "metadata": {},
   "outputs": [
    {
     "data": {
      "text/plain": [
       "4.47213595499958"
      ]
     },
     "execution_count": 127,
     "metadata": {},
     "output_type": "execute_result"
    }
   ],
   "source": [
    "abs(a)"
   ]
  },
  {
   "cell_type": "code",
   "execution_count": 128,
   "id": "80b4e722",
   "metadata": {},
   "outputs": [],
   "source": [
    "import cmath\n"
   ]
  },
  {
   "cell_type": "code",
   "execution_count": 129,
   "id": "6c587ba9",
   "metadata": {},
   "outputs": [
    {
     "data": {
      "text/plain": [
       "(24.83130584894638-11.356612711218174j)"
      ]
     },
     "execution_count": 129,
     "metadata": {},
     "output_type": "execute_result"
    }
   ],
   "source": [
    "cmath.sin(a)"
   ]
  },
  {
   "cell_type": "code",
   "execution_count": 130,
   "id": "88f32e39",
   "metadata": {},
   "outputs": [
    {
     "data": {
      "text/plain": [
       "(-11.36423470640106-24.814651485634187j)"
      ]
     },
     "execution_count": 130,
     "metadata": {},
     "output_type": "execute_result"
    }
   ],
   "source": [
    "cmath.cos(a)"
   ]
  },
  {
   "cell_type": "code",
   "execution_count": 131,
   "id": "7c1f3cb1",
   "metadata": {},
   "outputs": [
    {
     "data": {
      "text/plain": [
       "(-4.829809383269385-5.5920560936409816j)"
      ]
     },
     "execution_count": 131,
     "metadata": {},
     "output_type": "execute_result"
    }
   ],
   "source": [
    "cmath.exp(a)"
   ]
  },
  {
   "cell_type": "code",
   "execution_count": 132,
   "id": "1eb90906",
   "metadata": {},
   "outputs": [],
   "source": [
    "import numpy as np"
   ]
  },
  {
   "cell_type": "code",
   "execution_count": 133,
   "id": "d3f14717",
   "metadata": {},
   "outputs": [],
   "source": [
    "a = np.array([2+3j, 4+5j, 6-7j, 8+9j])"
   ]
  },
  {
   "cell_type": "code",
   "execution_count": 134,
   "id": "789bdc65",
   "metadata": {},
   "outputs": [
    {
     "data": {
      "text/plain": [
       "array([2.+3.j, 4.+5.j, 6.-7.j, 8.+9.j])"
      ]
     },
     "execution_count": 134,
     "metadata": {},
     "output_type": "execute_result"
    }
   ],
   "source": [
    "a"
   ]
  },
  {
   "cell_type": "code",
   "execution_count": 135,
   "id": "6067dda6",
   "metadata": {},
   "outputs": [
    {
     "data": {
      "text/plain": [
       "array([ 4.+3.j,  6.+5.j,  8.-7.j, 10.+9.j])"
      ]
     },
     "execution_count": 135,
     "metadata": {},
     "output_type": "execute_result"
    }
   ],
   "source": [
    "a + 2"
   ]
  },
  {
   "cell_type": "code",
   "execution_count": 136,
   "id": "3b9a3629",
   "metadata": {},
   "outputs": [
    {
     "data": {
      "text/plain": [
       "array([   9.15449915  -4.16890696j,  -56.16227422 -48.50245524j,\n",
       "       -153.20827755-526.47684926j, 4008.42651446-589.49948373j])"
      ]
     },
     "execution_count": 136,
     "metadata": {},
     "output_type": "execute_result"
    }
   ],
   "source": [
    "np.sin(a)"
   ]
  },
  {
   "cell_type": "code",
   "execution_count": 137,
   "id": "555f075b",
   "metadata": {},
   "outputs": [
    {
     "data": {
      "text/plain": [
       "1j"
      ]
     },
     "execution_count": 137,
     "metadata": {},
     "output_type": "execute_result"
    }
   ],
   "source": [
    "cmath.sqrt(-1)"
   ]
  },
  {
   "cell_type": "code",
   "execution_count": 138,
   "id": "399257fb",
   "metadata": {},
   "outputs": [],
   "source": [
    "#3.7 Working with infity and NaNs\n"
   ]
  },
  {
   "cell_type": "code",
   "execution_count": 139,
   "id": "14c91927",
   "metadata": {},
   "outputs": [],
   "source": [
    "a = float('inf')"
   ]
  },
  {
   "cell_type": "code",
   "execution_count": 140,
   "id": "a29a9920",
   "metadata": {},
   "outputs": [],
   "source": [
    "b=float('-inf')"
   ]
  },
  {
   "cell_type": "code",
   "execution_count": 141,
   "id": "4c595def",
   "metadata": {},
   "outputs": [],
   "source": [
    "c=float('nan')"
   ]
  },
  {
   "cell_type": "code",
   "execution_count": 142,
   "id": "040cc501",
   "metadata": {},
   "outputs": [
    {
     "data": {
      "text/plain": [
       "inf"
      ]
     },
     "execution_count": 142,
     "metadata": {},
     "output_type": "execute_result"
    }
   ],
   "source": [
    "a\n"
   ]
  },
  {
   "cell_type": "code",
   "execution_count": 143,
   "id": "6fd2532f",
   "metadata": {},
   "outputs": [
    {
     "data": {
      "text/plain": [
       "-inf"
      ]
     },
     "execution_count": 143,
     "metadata": {},
     "output_type": "execute_result"
    }
   ],
   "source": [
    "b"
   ]
  },
  {
   "cell_type": "code",
   "execution_count": 144,
   "id": "ca5a5153",
   "metadata": {},
   "outputs": [
    {
     "data": {
      "text/plain": [
       "nan"
      ]
     },
     "execution_count": 144,
     "metadata": {},
     "output_type": "execute_result"
    }
   ],
   "source": [
    "c"
   ]
  },
  {
   "cell_type": "code",
   "execution_count": 145,
   "id": "676d02e2",
   "metadata": {},
   "outputs": [
    {
     "data": {
      "text/plain": [
       "True"
      ]
     },
     "execution_count": 145,
     "metadata": {},
     "output_type": "execute_result"
    }
   ],
   "source": [
    "math.isinf(a)"
   ]
  },
  {
   "cell_type": "code",
   "execution_count": 146,
   "id": "6bcbd8ed",
   "metadata": {},
   "outputs": [
    {
     "data": {
      "text/plain": [
       "True"
      ]
     },
     "execution_count": 146,
     "metadata": {},
     "output_type": "execute_result"
    }
   ],
   "source": [
    "math.isnan(c)"
   ]
  },
  {
   "cell_type": "code",
   "execution_count": 147,
   "id": "eb240d73",
   "metadata": {},
   "outputs": [],
   "source": [
    "a = float('inf')"
   ]
  },
  {
   "cell_type": "code",
   "execution_count": 148,
   "id": "cae4a7cf",
   "metadata": {},
   "outputs": [
    {
     "data": {
      "text/plain": [
       "inf"
      ]
     },
     "execution_count": 148,
     "metadata": {},
     "output_type": "execute_result"
    }
   ],
   "source": [
    "a + 45"
   ]
  },
  {
   "cell_type": "code",
   "execution_count": 149,
   "id": "76702aeb",
   "metadata": {},
   "outputs": [
    {
     "data": {
      "text/plain": [
       "inf"
      ]
     },
     "execution_count": 149,
     "metadata": {},
     "output_type": "execute_result"
    }
   ],
   "source": [
    "a * 10"
   ]
  },
  {
   "cell_type": "code",
   "execution_count": 150,
   "id": "ea820110",
   "metadata": {},
   "outputs": [
    {
     "data": {
      "text/plain": [
       "0.0"
      ]
     },
     "execution_count": 150,
     "metadata": {},
     "output_type": "execute_result"
    }
   ],
   "source": [
    "10/ a"
   ]
  },
  {
   "cell_type": "code",
   "execution_count": 151,
   "id": "0e3a8929",
   "metadata": {},
   "outputs": [
    {
     "data": {
      "text/plain": [
       "nan"
      ]
     },
     "execution_count": 151,
     "metadata": {},
     "output_type": "execute_result"
    }
   ],
   "source": [
    "a/a"
   ]
  },
  {
   "cell_type": "code",
   "execution_count": 152,
   "id": "da5fd244",
   "metadata": {},
   "outputs": [],
   "source": [
    "b = float('-inf')"
   ]
  },
  {
   "cell_type": "code",
   "execution_count": 153,
   "id": "8eb38b4d",
   "metadata": {},
   "outputs": [
    {
     "data": {
      "text/plain": [
       "nan"
      ]
     },
     "execution_count": 153,
     "metadata": {},
     "output_type": "execute_result"
    }
   ],
   "source": [
    "a + b"
   ]
  },
  {
   "cell_type": "code",
   "execution_count": 154,
   "id": "97e0ea1b",
   "metadata": {},
   "outputs": [],
   "source": [
    "c = float('nan')"
   ]
  },
  {
   "cell_type": "code",
   "execution_count": 155,
   "id": "0110494c",
   "metadata": {},
   "outputs": [
    {
     "data": {
      "text/plain": [
       "nan"
      ]
     },
     "execution_count": 155,
     "metadata": {},
     "output_type": "execute_result"
    }
   ],
   "source": [
    "c + 23"
   ]
  },
  {
   "cell_type": "code",
   "execution_count": 156,
   "id": "8cce4234",
   "metadata": {},
   "outputs": [
    {
     "data": {
      "text/plain": [
       "nan"
      ]
     },
     "execution_count": 156,
     "metadata": {},
     "output_type": "execute_result"
    }
   ],
   "source": [
    "c/2"
   ]
  },
  {
   "cell_type": "code",
   "execution_count": 157,
   "id": "43d54f79",
   "metadata": {},
   "outputs": [
    {
     "data": {
      "text/plain": [
       "nan"
      ]
     },
     "execution_count": 157,
     "metadata": {},
     "output_type": "execute_result"
    }
   ],
   "source": [
    "c * 2"
   ]
  },
  {
   "cell_type": "code",
   "execution_count": 158,
   "id": "3c981308",
   "metadata": {},
   "outputs": [
    {
     "data": {
      "text/plain": [
       "nan"
      ]
     },
     "execution_count": 158,
     "metadata": {},
     "output_type": "execute_result"
    }
   ],
   "source": [
    "math.sqrt(c)"
   ]
  },
  {
   "cell_type": "code",
   "execution_count": 159,
   "id": "9da9ee3c",
   "metadata": {},
   "outputs": [],
   "source": [
    "d = float('nan')"
   ]
  },
  {
   "cell_type": "code",
   "execution_count": 160,
   "id": "66896e41",
   "metadata": {},
   "outputs": [
    {
     "data": {
      "text/plain": [
       "False"
      ]
     },
     "execution_count": 160,
     "metadata": {},
     "output_type": "execute_result"
    }
   ],
   "source": [
    "c == d"
   ]
  },
  {
   "cell_type": "code",
   "execution_count": 161,
   "id": "2cface1c",
   "metadata": {},
   "outputs": [
    {
     "data": {
      "text/plain": [
       "False"
      ]
     },
     "execution_count": 161,
     "metadata": {},
     "output_type": "execute_result"
    }
   ],
   "source": [
    "c is d"
   ]
  },
  {
   "cell_type": "code",
   "execution_count": 162,
   "id": "dc1d103b",
   "metadata": {},
   "outputs": [
    {
     "data": {
      "text/plain": [
       "True"
      ]
     },
     "execution_count": 162,
     "metadata": {},
     "output_type": "execute_result"
    }
   ],
   "source": [
    "math.isnan(c)"
   ]
  },
  {
   "cell_type": "code",
   "execution_count": 163,
   "id": "6718abdd",
   "metadata": {},
   "outputs": [],
   "source": [
    "#3.8 calculating with fractions "
   ]
  },
  {
   "cell_type": "code",
   "execution_count": 164,
   "id": "f1d29dc7",
   "metadata": {},
   "outputs": [],
   "source": [
    "from fractions import Fraction"
   ]
  },
  {
   "cell_type": "code",
   "execution_count": 165,
   "id": "a89ee67e",
   "metadata": {},
   "outputs": [],
   "source": [
    "a = Fraction(5,4)"
   ]
  },
  {
   "cell_type": "code",
   "execution_count": 166,
   "id": "b5de5d06",
   "metadata": {},
   "outputs": [],
   "source": [
    "b= Fraction(7,16)"
   ]
  },
  {
   "cell_type": "code",
   "execution_count": 167,
   "id": "515d9ed4",
   "metadata": {},
   "outputs": [
    {
     "name": "stdout",
     "output_type": "stream",
     "text": [
      "27/16\n"
     ]
    }
   ],
   "source": [
    "print(a + b)"
   ]
  },
  {
   "cell_type": "code",
   "execution_count": 168,
   "id": "db497422",
   "metadata": {},
   "outputs": [
    {
     "name": "stdout",
     "output_type": "stream",
     "text": [
      "35/64\n"
     ]
    }
   ],
   "source": [
    "print(a * b)"
   ]
  },
  {
   "cell_type": "code",
   "execution_count": 169,
   "id": "b0e89017",
   "metadata": {},
   "outputs": [],
   "source": [
    "#getting numerator/denominator"
   ]
  },
  {
   "cell_type": "code",
   "execution_count": 170,
   "id": "a139a87e",
   "metadata": {},
   "outputs": [],
   "source": [
    "c = a * b"
   ]
  },
  {
   "cell_type": "code",
   "execution_count": 171,
   "id": "7f5b6c4c",
   "metadata": {},
   "outputs": [
    {
     "data": {
      "text/plain": [
       "35"
      ]
     },
     "execution_count": 171,
     "metadata": {},
     "output_type": "execute_result"
    }
   ],
   "source": [
    "c.numerator"
   ]
  },
  {
   "cell_type": "code",
   "execution_count": 172,
   "id": "770176ee",
   "metadata": {},
   "outputs": [
    {
     "data": {
      "text/plain": [
       "64"
      ]
     },
     "execution_count": 172,
     "metadata": {},
     "output_type": "execute_result"
    }
   ],
   "source": [
    "c.denominator"
   ]
  },
  {
   "cell_type": "code",
   "execution_count": 173,
   "id": "fa6cd11e",
   "metadata": {},
   "outputs": [],
   "source": [
    "#converting to a float"
   ]
  },
  {
   "cell_type": "code",
   "execution_count": 174,
   "id": "59baefd8",
   "metadata": {},
   "outputs": [
    {
     "data": {
      "text/plain": [
       "0.546875"
      ]
     },
     "execution_count": 174,
     "metadata": {},
     "output_type": "execute_result"
    }
   ],
   "source": [
    "float(c)"
   ]
  },
  {
   "cell_type": "code",
   "execution_count": 175,
   "id": "03df873d",
   "metadata": {},
   "outputs": [],
   "source": [
    "#limiting the denominator of a value"
   ]
  },
  {
   "cell_type": "code",
   "execution_count": 177,
   "id": "f1880929",
   "metadata": {},
   "outputs": [
    {
     "name": "stdout",
     "output_type": "stream",
     "text": [
      "4/7\n"
     ]
    }
   ],
   "source": [
    "print(c.limit_denominator(8))"
   ]
  },
  {
   "cell_type": "code",
   "execution_count": 178,
   "id": "5d565d0a",
   "metadata": {},
   "outputs": [],
   "source": [
    "#converting a float to a fraction"
   ]
  },
  {
   "cell_type": "code",
   "execution_count": 179,
   "id": "6c56ecaf",
   "metadata": {},
   "outputs": [],
   "source": [
    "x= 3.75"
   ]
  },
  {
   "cell_type": "code",
   "execution_count": 180,
   "id": "86f9bd27",
   "metadata": {},
   "outputs": [],
   "source": [
    "y = Fraction(*x.as_integer_ratio())"
   ]
  },
  {
   "cell_type": "code",
   "execution_count": 181,
   "id": "1b5a5d6f",
   "metadata": {},
   "outputs": [
    {
     "data": {
      "text/plain": [
       "Fraction(15, 4)"
      ]
     },
     "execution_count": 181,
     "metadata": {},
     "output_type": "execute_result"
    }
   ],
   "source": [
    "y"
   ]
  },
  {
   "cell_type": "code",
   "execution_count": 182,
   "id": "7e6b5888",
   "metadata": {},
   "outputs": [],
   "source": [
    "#3.9 Calculating with large numberial arrays "
   ]
  },
  {
   "cell_type": "code",
   "execution_count": 183,
   "id": "d88b49b7",
   "metadata": {},
   "outputs": [],
   "source": [
    "#python lists"
   ]
  },
  {
   "cell_type": "code",
   "execution_count": 184,
   "id": "46d462c6",
   "metadata": {},
   "outputs": [],
   "source": [
    "x= [1,2,3,4]"
   ]
  },
  {
   "cell_type": "code",
   "execution_count": 185,
   "id": "f142b4cb",
   "metadata": {},
   "outputs": [],
   "source": [
    "y=[5,6,7,8]"
   ]
  },
  {
   "cell_type": "code",
   "execution_count": 186,
   "id": "b09cfa54",
   "metadata": {},
   "outputs": [
    {
     "data": {
      "text/plain": [
       "[1, 2, 3, 4, 1, 2, 3, 4]"
      ]
     },
     "execution_count": 186,
     "metadata": {},
     "output_type": "execute_result"
    }
   ],
   "source": [
    "x * 2"
   ]
  },
  {
   "cell_type": "code",
   "execution_count": 187,
   "id": "8cf836bd",
   "metadata": {},
   "outputs": [
    {
     "ename": "TypeError",
     "evalue": "can only concatenate list (not \"int\") to list",
     "output_type": "error",
     "traceback": [
      "\u001b[0;31m---------------------------------------------------------------------------\u001b[0m",
      "\u001b[0;31mTypeError\u001b[0m                                 Traceback (most recent call last)",
      "Input \u001b[0;32mIn [187]\u001b[0m, in \u001b[0;36m<cell line: 1>\u001b[0;34m()\u001b[0m\n\u001b[0;32m----> 1\u001b[0m \u001b[43mx\u001b[49m\u001b[43m \u001b[49m\u001b[38;5;241;43m+\u001b[39;49m\u001b[43m \u001b[49m\u001b[38;5;241;43m10\u001b[39;49m\n",
      "\u001b[0;31mTypeError\u001b[0m: can only concatenate list (not \"int\") to list"
     ]
    }
   ],
   "source": [
    "x + 10"
   ]
  },
  {
   "cell_type": "code",
   "execution_count": 188,
   "id": "f3c14b82",
   "metadata": {},
   "outputs": [
    {
     "data": {
      "text/plain": [
       "[1, 2, 3, 4, 5, 6, 7, 8]"
      ]
     },
     "execution_count": 188,
     "metadata": {},
     "output_type": "execute_result"
    }
   ],
   "source": [
    "x + y"
   ]
  },
  {
   "cell_type": "code",
   "execution_count": 189,
   "id": "9379cd68",
   "metadata": {},
   "outputs": [],
   "source": [
    "#Numpy arrays"
   ]
  },
  {
   "cell_type": "code",
   "execution_count": 190,
   "id": "24f2b094",
   "metadata": {},
   "outputs": [],
   "source": [
    "import numpy as np"
   ]
  },
  {
   "cell_type": "code",
   "execution_count": 191,
   "id": "c560503b",
   "metadata": {},
   "outputs": [],
   "source": [
    "ax = np.array([1,2,3,4])"
   ]
  },
  {
   "cell_type": "code",
   "execution_count": 192,
   "id": "759bbe90",
   "metadata": {},
   "outputs": [],
   "source": [
    "ay= np.array([5,6,7,8])"
   ]
  },
  {
   "cell_type": "code",
   "execution_count": 193,
   "id": "7ff6d81f",
   "metadata": {},
   "outputs": [
    {
     "data": {
      "text/plain": [
       "array([11, 12, 13, 14])"
      ]
     },
     "execution_count": 193,
     "metadata": {},
     "output_type": "execute_result"
    }
   ],
   "source": [
    "ax + 10"
   ]
  },
  {
   "cell_type": "code",
   "execution_count": 194,
   "id": "1548b0cc",
   "metadata": {},
   "outputs": [
    {
     "data": {
      "text/plain": [
       "array([ 6,  8, 10, 12])"
      ]
     },
     "execution_count": 194,
     "metadata": {},
     "output_type": "execute_result"
    }
   ],
   "source": [
    "ax + ay"
   ]
  },
  {
   "cell_type": "code",
   "execution_count": 195,
   "id": "3d4b73c4",
   "metadata": {},
   "outputs": [
    {
     "data": {
      "text/plain": [
       "array([ 5, 12, 21, 32])"
      ]
     },
     "execution_count": 195,
     "metadata": {},
     "output_type": "execute_result"
    }
   ],
   "source": [
    "ax * ay"
   ]
  },
  {
   "cell_type": "code",
   "execution_count": 196,
   "id": "91696829",
   "metadata": {},
   "outputs": [],
   "source": [
    "#polynomial"
   ]
  },
  {
   "cell_type": "code",
   "execution_count": 197,
   "id": "b39da426",
   "metadata": {},
   "outputs": [],
   "source": [
    "def f(x):\n",
    "    return 3*x**2 - 2*x + 7"
   ]
  },
  {
   "cell_type": "code",
   "execution_count": 198,
   "id": "732c5129",
   "metadata": {},
   "outputs": [
    {
     "data": {
      "text/plain": [
       "array([ 8, 15, 28, 47])"
      ]
     },
     "execution_count": 198,
     "metadata": {},
     "output_type": "execute_result"
    }
   ],
   "source": [
    "f(ax)"
   ]
  },
  {
   "cell_type": "code",
   "execution_count": 199,
   "id": "333f0864",
   "metadata": {},
   "outputs": [
    {
     "data": {
      "text/plain": [
       "array([1.        , 1.41421356, 1.73205081, 2.        ])"
      ]
     },
     "execution_count": 199,
     "metadata": {},
     "output_type": "execute_result"
    }
   ],
   "source": [
    "np.sqrt(ax)"
   ]
  },
  {
   "cell_type": "code",
   "execution_count": 200,
   "id": "af1ddfdf",
   "metadata": {},
   "outputs": [
    {
     "data": {
      "text/plain": [
       "array([ 0.54030231, -0.41614684, -0.9899925 , -0.65364362])"
      ]
     },
     "execution_count": 200,
     "metadata": {},
     "output_type": "execute_result"
    }
   ],
   "source": [
    "np.cos(ax)"
   ]
  },
  {
   "cell_type": "code",
   "execution_count": 201,
   "id": "75b59b99",
   "metadata": {},
   "outputs": [],
   "source": [
    "#two dimentionsal grid of 10,0000 by 10,000 floats "
   ]
  },
  {
   "cell_type": "code",
   "execution_count": 202,
   "id": "64958fdd",
   "metadata": {},
   "outputs": [],
   "source": [
    "grid = np.zeros(shape=(10000,10000),dtype=float)"
   ]
  },
  {
   "cell_type": "code",
   "execution_count": 203,
   "id": "e63822a1",
   "metadata": {},
   "outputs": [
    {
     "data": {
      "text/plain": [
       "array([[0., 0., 0., ..., 0., 0., 0.],\n",
       "       [0., 0., 0., ..., 0., 0., 0.],\n",
       "       [0., 0., 0., ..., 0., 0., 0.],\n",
       "       ...,\n",
       "       [0., 0., 0., ..., 0., 0., 0.],\n",
       "       [0., 0., 0., ..., 0., 0., 0.],\n",
       "       [0., 0., 0., ..., 0., 0., 0.]])"
      ]
     },
     "execution_count": 203,
     "metadata": {},
     "output_type": "execute_result"
    }
   ],
   "source": [
    "grid"
   ]
  },
  {
   "cell_type": "code",
   "execution_count": 204,
   "id": "fab91443",
   "metadata": {},
   "outputs": [],
   "source": [
    "grid += 10"
   ]
  },
  {
   "cell_type": "code",
   "execution_count": 205,
   "id": "6bf890db",
   "metadata": {},
   "outputs": [
    {
     "data": {
      "text/plain": [
       "array([[10., 10., 10., ..., 10., 10., 10.],\n",
       "       [10., 10., 10., ..., 10., 10., 10.],\n",
       "       [10., 10., 10., ..., 10., 10., 10.],\n",
       "       ...,\n",
       "       [10., 10., 10., ..., 10., 10., 10.],\n",
       "       [10., 10., 10., ..., 10., 10., 10.],\n",
       "       [10., 10., 10., ..., 10., 10., 10.]])"
      ]
     },
     "execution_count": 205,
     "metadata": {},
     "output_type": "execute_result"
    }
   ],
   "source": [
    "grid"
   ]
  },
  {
   "cell_type": "code",
   "execution_count": 206,
   "id": "f99ced3e",
   "metadata": {},
   "outputs": [
    {
     "data": {
      "text/plain": [
       "array([[-0.54402111, -0.54402111, -0.54402111, ..., -0.54402111,\n",
       "        -0.54402111, -0.54402111],\n",
       "       [-0.54402111, -0.54402111, -0.54402111, ..., -0.54402111,\n",
       "        -0.54402111, -0.54402111],\n",
       "       [-0.54402111, -0.54402111, -0.54402111, ..., -0.54402111,\n",
       "        -0.54402111, -0.54402111],\n",
       "       ...,\n",
       "       [-0.54402111, -0.54402111, -0.54402111, ..., -0.54402111,\n",
       "        -0.54402111, -0.54402111],\n",
       "       [-0.54402111, -0.54402111, -0.54402111, ..., -0.54402111,\n",
       "        -0.54402111, -0.54402111],\n",
       "       [-0.54402111, -0.54402111, -0.54402111, ..., -0.54402111,\n",
       "        -0.54402111, -0.54402111]])"
      ]
     },
     "execution_count": 206,
     "metadata": {},
     "output_type": "execute_result"
    }
   ],
   "source": [
    "np.sin(grid)"
   ]
  },
  {
   "cell_type": "code",
   "execution_count": 207,
   "id": "c66748be",
   "metadata": {},
   "outputs": [],
   "source": [
    "a = np.array([[1,2,3,4],[5,6,7,8],[9,10,11,12]])"
   ]
  },
  {
   "cell_type": "code",
   "execution_count": 208,
   "id": "7e9b3b47",
   "metadata": {},
   "outputs": [
    {
     "data": {
      "text/plain": [
       "array([[ 1,  2,  3,  4],\n",
       "       [ 5,  6,  7,  8],\n",
       "       [ 9, 10, 11, 12]])"
      ]
     },
     "execution_count": 208,
     "metadata": {},
     "output_type": "execute_result"
    }
   ],
   "source": [
    "a"
   ]
  },
  {
   "cell_type": "code",
   "execution_count": 209,
   "id": "f1fedba1",
   "metadata": {},
   "outputs": [],
   "source": [
    "#select row 1"
   ]
  },
  {
   "cell_type": "code",
   "execution_count": 210,
   "id": "860465a3",
   "metadata": {},
   "outputs": [
    {
     "data": {
      "text/plain": [
       "array([5, 6, 7, 8])"
      ]
     },
     "execution_count": 210,
     "metadata": {},
     "output_type": "execute_result"
    }
   ],
   "source": [
    "a[1]"
   ]
  },
  {
   "cell_type": "code",
   "execution_count": 211,
   "id": "cfc0a5a9",
   "metadata": {},
   "outputs": [],
   "source": [
    "#select column 1"
   ]
  },
  {
   "cell_type": "code",
   "execution_count": 212,
   "id": "42be7d12",
   "metadata": {},
   "outputs": [
    {
     "data": {
      "text/plain": [
       "array([ 2,  6, 10])"
      ]
     },
     "execution_count": 212,
     "metadata": {},
     "output_type": "execute_result"
    }
   ],
   "source": [
    "a[:,1]"
   ]
  },
  {
   "cell_type": "code",
   "execution_count": 213,
   "id": "1667658f",
   "metadata": {},
   "outputs": [],
   "source": [
    "#select a subregion and change it "
   ]
  },
  {
   "cell_type": "code",
   "execution_count": 214,
   "id": "ab837cbf",
   "metadata": {},
   "outputs": [
    {
     "data": {
      "text/plain": [
       "array([[ 6,  7],\n",
       "       [10, 11]])"
      ]
     },
     "execution_count": 214,
     "metadata": {},
     "output_type": "execute_result"
    }
   ],
   "source": [
    "a[1:3,1:3]"
   ]
  },
  {
   "cell_type": "code",
   "execution_count": 215,
   "id": "a945d4bb",
   "metadata": {},
   "outputs": [],
   "source": [
    "a[1:3,1:3] += 10"
   ]
  },
  {
   "cell_type": "code",
   "execution_count": 216,
   "id": "7eea4b3a",
   "metadata": {},
   "outputs": [
    {
     "data": {
      "text/plain": [
       "array([[ 1,  2,  3,  4],\n",
       "       [ 5, 16, 17,  8],\n",
       "       [ 9, 20, 21, 12]])"
      ]
     },
     "execution_count": 216,
     "metadata": {},
     "output_type": "execute_result"
    }
   ],
   "source": [
    "a"
   ]
  },
  {
   "cell_type": "code",
   "execution_count": 217,
   "id": "ea5816d4",
   "metadata": {},
   "outputs": [],
   "source": [
    "#Broadcast a row vector across an operation on all rows"
   ]
  },
  {
   "cell_type": "code",
   "execution_count": 218,
   "id": "8e485f8a",
   "metadata": {},
   "outputs": [
    {
     "data": {
      "text/plain": [
       "array([[101, 103, 105, 107],\n",
       "       [105, 117, 119, 111],\n",
       "       [109, 121, 123, 115]])"
      ]
     },
     "execution_count": 218,
     "metadata": {},
     "output_type": "execute_result"
    }
   ],
   "source": [
    "a +[100,101,102,103]"
   ]
  },
  {
   "cell_type": "code",
   "execution_count": 219,
   "id": "3ee9ea0a",
   "metadata": {},
   "outputs": [
    {
     "data": {
      "text/plain": [
       "array([[ 1,  2,  3,  4],\n",
       "       [ 5, 16, 17,  8],\n",
       "       [ 9, 20, 21, 12]])"
      ]
     },
     "execution_count": 219,
     "metadata": {},
     "output_type": "execute_result"
    }
   ],
   "source": [
    "a"
   ]
  },
  {
   "cell_type": "code",
   "execution_count": 220,
   "id": "c073868b",
   "metadata": {},
   "outputs": [],
   "source": [
    "#conditional assignment on an array"
   ]
  },
  {
   "cell_type": "code",
   "execution_count": 221,
   "id": "7f812342",
   "metadata": {},
   "outputs": [
    {
     "data": {
      "text/plain": [
       "array([[ 1,  2,  3,  4],\n",
       "       [ 5, 10, 10,  8],\n",
       "       [ 9, 10, 10, 10]])"
      ]
     },
     "execution_count": 221,
     "metadata": {},
     "output_type": "execute_result"
    }
   ],
   "source": [
    "np.where(a <10,a,10)"
   ]
  },
  {
   "cell_type": "code",
   "execution_count": 222,
   "id": "df14c2f9",
   "metadata": {},
   "outputs": [],
   "source": [
    "#3.10 performing matrix and linear algebra calculations "
   ]
  },
  {
   "cell_type": "code",
   "execution_count": 223,
   "id": "9ee17730",
   "metadata": {},
   "outputs": [],
   "source": [
    "import numpy as np"
   ]
  },
  {
   "cell_type": "code",
   "execution_count": 225,
   "id": "bc6620eb",
   "metadata": {},
   "outputs": [],
   "source": [
    "m= np.matrix([[1,-2,3],[0,4,5],[7,8,-9]])"
   ]
  },
  {
   "cell_type": "code",
   "execution_count": 226,
   "id": "4558ee35",
   "metadata": {},
   "outputs": [
    {
     "data": {
      "text/plain": [
       "matrix([[ 1, -2,  3],\n",
       "        [ 0,  4,  5],\n",
       "        [ 7,  8, -9]])"
      ]
     },
     "execution_count": 226,
     "metadata": {},
     "output_type": "execute_result"
    }
   ],
   "source": [
    "m"
   ]
  },
  {
   "cell_type": "code",
   "execution_count": 227,
   "id": "ae6dbebf",
   "metadata": {},
   "outputs": [],
   "source": [
    "#return transpose"
   ]
  },
  {
   "cell_type": "code",
   "execution_count": 228,
   "id": "443018b8",
   "metadata": {},
   "outputs": [
    {
     "data": {
      "text/plain": [
       "matrix([[ 1,  0,  7],\n",
       "        [-2,  4,  8],\n",
       "        [ 3,  5, -9]])"
      ]
     },
     "execution_count": 228,
     "metadata": {},
     "output_type": "execute_result"
    }
   ],
   "source": [
    "m.T"
   ]
  },
  {
   "cell_type": "code",
   "execution_count": 229,
   "id": "5c3975da",
   "metadata": {},
   "outputs": [],
   "source": [
    "#return inverse"
   ]
  },
  {
   "cell_type": "code",
   "execution_count": 230,
   "id": "e9feabf8",
   "metadata": {},
   "outputs": [
    {
     "data": {
      "text/plain": [
       "matrix([[ 0.33043478, -0.02608696,  0.09565217],\n",
       "        [-0.15217391,  0.13043478,  0.02173913],\n",
       "        [ 0.12173913,  0.09565217, -0.0173913 ]])"
      ]
     },
     "execution_count": 230,
     "metadata": {},
     "output_type": "execute_result"
    }
   ],
   "source": [
    "m.I"
   ]
  },
  {
   "cell_type": "code",
   "execution_count": 231,
   "id": "53d4c20c",
   "metadata": {},
   "outputs": [],
   "source": [
    "#create a vector and multiply"
   ]
  },
  {
   "cell_type": "code",
   "execution_count": 233,
   "id": "11d47969",
   "metadata": {},
   "outputs": [],
   "source": [
    "v = np.matrix([[2],[3],[4]])"
   ]
  },
  {
   "cell_type": "code",
   "execution_count": 234,
   "id": "3d667281",
   "metadata": {},
   "outputs": [
    {
     "data": {
      "text/plain": [
       "matrix([[2],\n",
       "        [3],\n",
       "        [4]])"
      ]
     },
     "execution_count": 234,
     "metadata": {},
     "output_type": "execute_result"
    }
   ],
   "source": [
    "v"
   ]
  },
  {
   "cell_type": "code",
   "execution_count": 235,
   "id": "880b3394",
   "metadata": {},
   "outputs": [
    {
     "data": {
      "text/plain": [
       "matrix([[ 8],\n",
       "        [32],\n",
       "        [ 2]])"
      ]
     },
     "execution_count": 235,
     "metadata": {},
     "output_type": "execute_result"
    }
   ],
   "source": [
    "m * v"
   ]
  },
  {
   "cell_type": "code",
   "execution_count": 236,
   "id": "bf91309e",
   "metadata": {},
   "outputs": [],
   "source": [
    "import numpy.linalg"
   ]
  },
  {
   "cell_type": "code",
   "execution_count": 237,
   "id": "273c1656",
   "metadata": {},
   "outputs": [],
   "source": [
    "#Determinant"
   ]
  },
  {
   "cell_type": "code",
   "execution_count": 238,
   "id": "b5ffa0cd",
   "metadata": {},
   "outputs": [
    {
     "data": {
      "text/plain": [
       "-229.99999999999983"
      ]
     },
     "execution_count": 238,
     "metadata": {},
     "output_type": "execute_result"
    }
   ],
   "source": [
    "numpy.linalg.det(m)"
   ]
  },
  {
   "cell_type": "code",
   "execution_count": 239,
   "id": "ec25efd1",
   "metadata": {},
   "outputs": [],
   "source": [
    "#Eligenvalues"
   ]
  },
  {
   "cell_type": "code",
   "execution_count": 240,
   "id": "b4a4079f",
   "metadata": {},
   "outputs": [
    {
     "data": {
      "text/plain": [
       "array([-13.11474312,   2.75956154,   6.35518158])"
      ]
     },
     "execution_count": 240,
     "metadata": {},
     "output_type": "execute_result"
    }
   ],
   "source": [
    "numpy.linalg.eigvals(m)"
   ]
  },
  {
   "cell_type": "code",
   "execution_count": 241,
   "id": "c7efb074",
   "metadata": {},
   "outputs": [],
   "source": [
    "#solve for x in mx=v "
   ]
  },
  {
   "cell_type": "code",
   "execution_count": 242,
   "id": "b348db38",
   "metadata": {},
   "outputs": [],
   "source": [
    "x = numpy.linalg.solve(m,v)"
   ]
  },
  {
   "cell_type": "code",
   "execution_count": 243,
   "id": "6bf572cb",
   "metadata": {},
   "outputs": [
    {
     "data": {
      "text/plain": [
       "matrix([[0.96521739],\n",
       "        [0.17391304],\n",
       "        [0.46086957]])"
      ]
     },
     "execution_count": 243,
     "metadata": {},
     "output_type": "execute_result"
    }
   ],
   "source": [
    "x"
   ]
  },
  {
   "cell_type": "code",
   "execution_count": 244,
   "id": "62e89d75",
   "metadata": {},
   "outputs": [
    {
     "data": {
      "text/plain": [
       "matrix([[2.],\n",
       "        [3.],\n",
       "        [4.]])"
      ]
     },
     "execution_count": 244,
     "metadata": {},
     "output_type": "execute_result"
    }
   ],
   "source": [
    "m*x"
   ]
  },
  {
   "cell_type": "code",
   "execution_count": 245,
   "id": "bad22d8d",
   "metadata": {},
   "outputs": [
    {
     "data": {
      "text/plain": [
       "matrix([[2],\n",
       "        [3],\n",
       "        [4]])"
      ]
     },
     "execution_count": 245,
     "metadata": {},
     "output_type": "execute_result"
    }
   ],
   "source": [
    "v"
   ]
  },
  {
   "cell_type": "code",
   "execution_count": 246,
   "id": "63516009",
   "metadata": {},
   "outputs": [],
   "source": [
    "#3.11 Picking things at random "
   ]
  },
  {
   "cell_type": "code",
   "execution_count": 247,
   "id": "afc17749",
   "metadata": {},
   "outputs": [],
   "source": [
    "import random"
   ]
  },
  {
   "cell_type": "code",
   "execution_count": 248,
   "id": "66c82136",
   "metadata": {},
   "outputs": [],
   "source": [
    "values = [1,2,3,4,5,6]"
   ]
  },
  {
   "cell_type": "code",
   "execution_count": 249,
   "id": "552a9ca3",
   "metadata": {},
   "outputs": [
    {
     "data": {
      "text/plain": [
       "3"
      ]
     },
     "execution_count": 249,
     "metadata": {},
     "output_type": "execute_result"
    }
   ],
   "source": [
    "random.choice(values)"
   ]
  },
  {
   "cell_type": "code",
   "execution_count": 250,
   "id": "12ba4e0b",
   "metadata": {},
   "outputs": [
    {
     "data": {
      "text/plain": [
       "2"
      ]
     },
     "execution_count": 250,
     "metadata": {},
     "output_type": "execute_result"
    }
   ],
   "source": [
    "random.choice(values)"
   ]
  },
  {
   "cell_type": "code",
   "execution_count": 252,
   "id": "a7b65332",
   "metadata": {},
   "outputs": [
    {
     "data": {
      "text/plain": [
       "[1, 4]"
      ]
     },
     "execution_count": 252,
     "metadata": {},
     "output_type": "execute_result"
    }
   ],
   "source": [
    "random.sample(values,2)"
   ]
  },
  {
   "cell_type": "code",
   "execution_count": 253,
   "id": "ec0262c2",
   "metadata": {},
   "outputs": [
    {
     "data": {
      "text/plain": [
       "[6, 5, 2]"
      ]
     },
     "execution_count": 253,
     "metadata": {},
     "output_type": "execute_result"
    }
   ],
   "source": [
    "random.sample(values,3)"
   ]
  },
  {
   "cell_type": "code",
   "execution_count": 254,
   "id": "09382a67",
   "metadata": {},
   "outputs": [],
   "source": [
    "random.shuffle(values)"
   ]
  },
  {
   "cell_type": "code",
   "execution_count": 255,
   "id": "9dfc305b",
   "metadata": {},
   "outputs": [
    {
     "data": {
      "text/plain": [
       "[1, 3, 6, 5, 2, 4]"
      ]
     },
     "execution_count": 255,
     "metadata": {},
     "output_type": "execute_result"
    }
   ],
   "source": [
    "values"
   ]
  },
  {
   "cell_type": "code",
   "execution_count": 256,
   "id": "e064d218",
   "metadata": {},
   "outputs": [],
   "source": [
    "random.shuffle(values)"
   ]
  },
  {
   "cell_type": "code",
   "execution_count": 257,
   "id": "0fd74ee4",
   "metadata": {},
   "outputs": [
    {
     "data": {
      "text/plain": [
       "[2, 1, 3, 4, 6, 5]"
      ]
     },
     "execution_count": 257,
     "metadata": {},
     "output_type": "execute_result"
    }
   ],
   "source": [
    "values"
   ]
  },
  {
   "cell_type": "code",
   "execution_count": null,
   "id": "600504fe",
   "metadata": {},
   "outputs": [],
   "source": [
    "#to produce random integers "
   ]
  },
  {
   "cell_type": "code",
   "execution_count": 258,
   "id": "7809662b",
   "metadata": {},
   "outputs": [
    {
     "data": {
      "text/plain": [
       "7"
      ]
     },
     "execution_count": 258,
     "metadata": {},
     "output_type": "execute_result"
    }
   ],
   "source": [
    "random.randint(0,10)"
   ]
  },
  {
   "cell_type": "code",
   "execution_count": 260,
   "id": "11dc0112",
   "metadata": {},
   "outputs": [
    {
     "data": {
      "text/plain": [
       "5"
      ]
     },
     "execution_count": 260,
     "metadata": {},
     "output_type": "execute_result"
    }
   ],
   "source": [
    "random.randint(0,10)"
   ]
  },
  {
   "cell_type": "code",
   "execution_count": null,
   "id": "054091a0",
   "metadata": {},
   "outputs": [],
   "source": [
    "# to get N random-bits expressed as an integer"
   ]
  },
  {
   "cell_type": "code",
   "execution_count": 263,
   "id": "cf660990",
   "metadata": {},
   "outputs": [
    {
     "data": {
      "text/plain": [
       "1328784624416230751754828447470718360641497351043656988290419"
      ]
     },
     "execution_count": 263,
     "metadata": {},
     "output_type": "execute_result"
    }
   ],
   "source": [
    "random.getrandbits(200)"
   ]
  },
  {
   "cell_type": "code",
   "execution_count": 265,
   "id": "4625d933",
   "metadata": {},
   "outputs": [],
   "source": [
    "# to produce floating-point values in the reange 0 to 1 "
   ]
  },
  {
   "cell_type": "code",
   "execution_count": 264,
   "id": "eb393bb1",
   "metadata": {},
   "outputs": [
    {
     "data": {
      "text/plain": [
       "0.08712844319408197"
      ]
     },
     "execution_count": 264,
     "metadata": {},
     "output_type": "execute_result"
    }
   ],
   "source": [
    "random.random()"
   ]
  },
  {
   "cell_type": "code",
   "execution_count": 266,
   "id": "dab15b7e",
   "metadata": {},
   "outputs": [
    {
     "data": {
      "text/plain": [
       "0.6224101917257926"
      ]
     },
     "execution_count": 266,
     "metadata": {},
     "output_type": "execute_result"
    }
   ],
   "source": [
    "random.random()"
   ]
  },
  {
   "cell_type": "code",
   "execution_count": 267,
   "id": "c1035556",
   "metadata": {},
   "outputs": [],
   "source": [
    "#to get N random-bits expressed as an integer, use random.getrandbits()"
   ]
  },
  {
   "cell_type": "code",
   "execution_count": 268,
   "id": "239d188e",
   "metadata": {},
   "outputs": [
    {
     "data": {
      "text/plain": [
       "957956317110158826130548958533101471073993151783193085410602"
      ]
     },
     "execution_count": 268,
     "metadata": {},
     "output_type": "execute_result"
    }
   ],
   "source": [
    "random.getrandbits(200)"
   ]
  },
  {
   "cell_type": "markdown",
   "id": "d31e066e",
   "metadata": {},
   "source": [
    "~~~\n",
    "From this lab, I learned how to perform mathematical calculations with integers floating-point numbers and accurate decimal calculations.  I also learned how to format numbers for output using the format() syntax.\n",
    "When working with binary,octal, and hexadecimal integers you have the ability to convert them using bin(),oct,(), or hex().  \n",
    "I learned how to pack and unpack large integers from bytes using the int.from_bytes syntax. \n",
    "I was also introduced to performing complex-valued Math, for example sines, cosines, and squareroots. \n",
    "They are mostly done using the cmath module. I was exposed to working with infinity and Nans. \n",
    "NaNs stands for not a number. They are created using the float() syntax. \n",
    "I dealt with calculating fractions using the fraction module with the syntax Fraction(). \n",
    "Then I learned how to calculate with large numerical arrays which are better used with the numpy module. \n",
    "The numpy module is compatible with performing matrix and linear algebra calculations. With matrix, you use the np.matrix syntax. \n",
    "Finally, I learned how to pick integers at random using random.choice(),random.sample() and random.randint()\n",
    "\n",
    "~~~\n"
   ]
  }
 ],
 "metadata": {
  "kernelspec": {
   "display_name": "Python 3 (ipykernel)",
   "language": "python",
   "name": "python3"
  },
  "language_info": {
   "codemirror_mode": {
    "name": "ipython",
    "version": 3
   },
   "file_extension": ".py",
   "mimetype": "text/x-python",
   "name": "python",
   "nbconvert_exporter": "python",
   "pygments_lexer": "ipython3",
   "version": "3.9.12"
  }
 },
 "nbformat": 4,
 "nbformat_minor": 5
}
