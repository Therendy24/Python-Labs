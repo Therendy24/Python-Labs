{
 "cells": [
  {
   "cell_type": "markdown",
   "id": "f688391e",
   "metadata": {},
   "source": [
    "\n",
    "\n",
    "\n",
    "\n",
    "\n",
    "\n",
    "\n",
    "\n",
    "# 2.1 Splitting strings on any multiple delimers"
   ]
  },
  {
   "cell_type": "code",
   "execution_count": 10,
   "id": "76ff5aec",
   "metadata": {},
   "outputs": [],
   "source": [
    "line = 'asdf fdjk; afed,  fjek,asdf,      foo'"
   ]
  },
  {
   "cell_type": "code",
   "execution_count": 11,
   "id": "76e8c98a",
   "metadata": {},
   "outputs": [],
   "source": [
    "import re\n"
   ]
  },
  {
   "cell_type": "code",
   "execution_count": 12,
   "id": "22349ea3",
   "metadata": {},
   "outputs": [
    {
     "data": {
      "text/plain": [
       "['asdf', 'fdjk', 'afed', 'fjek', 'asdf', 'foo']"
      ]
     },
     "execution_count": 12,
     "metadata": {},
     "output_type": "execute_result"
    }
   ],
   "source": [
    "re.split(r'[;,\\s]\\s*',line)"
   ]
  },
  {
   "cell_type": "markdown",
   "id": "91110ccd",
   "metadata": {},
   "source": [
    "The r.split() function is useful because you can specify mutliple patterns for the separator"
   ]
  },
  {
   "cell_type": "code",
   "execution_count": 4,
   "id": "fb95dbb6",
   "metadata": {},
   "outputs": [],
   "source": [
    "fields = re.split(r'(;|,|\\s)\\s*',line)"
   ]
  },
  {
   "cell_type": "code",
   "execution_count": 5,
   "id": "dfc32df3",
   "metadata": {},
   "outputs": [
    {
     "data": {
      "text/plain": [
       "['asdf', ' ', 'fdjk', ';', 'afed', ',', 'fjek', ',', 'asdf', ',', 'foo']"
      ]
     },
     "execution_count": 5,
     "metadata": {},
     "output_type": "execute_result"
    }
   ],
   "source": [
    "fields"
   ]
  },
  {
   "cell_type": "code",
   "execution_count": 6,
   "id": "8d5f1643",
   "metadata": {},
   "outputs": [],
   "source": [
    "values = fields[::2]"
   ]
  },
  {
   "cell_type": "code",
   "execution_count": 7,
   "id": "8380427c",
   "metadata": {},
   "outputs": [],
   "source": [
    "delimiters = fields[1::2] + ['']"
   ]
  },
  {
   "cell_type": "code",
   "execution_count": 8,
   "id": "6ada2d5d",
   "metadata": {},
   "outputs": [
    {
     "data": {
      "text/plain": [
       "['asdf', 'fdjk', 'afed', 'fjek', 'asdf', 'foo']"
      ]
     },
     "execution_count": 8,
     "metadata": {},
     "output_type": "execute_result"
    }
   ],
   "source": [
    "values\n"
   ]
  },
  {
   "cell_type": "code",
   "execution_count": 9,
   "id": "0fad6300",
   "metadata": {},
   "outputs": [
    {
     "data": {
      "text/plain": [
       "[' ', ';', ',', ',', ',', '']"
      ]
     },
     "execution_count": 9,
     "metadata": {},
     "output_type": "execute_result"
    }
   ],
   "source": [
    "delimiters"
   ]
  },
  {
   "cell_type": "code",
   "execution_count": 10,
   "id": "54465eb3",
   "metadata": {},
   "outputs": [],
   "source": [
    "#Reform the line using the same delimiters"
   ]
  },
  {
   "cell_type": "code",
   "execution_count": 12,
   "id": "2b4b6db1",
   "metadata": {},
   "outputs": [
    {
     "data": {
      "text/plain": [
       "'asfd fjdk;afed,fjek,asdf,foo'"
      ]
     },
     "execution_count": 12,
     "metadata": {},
     "output_type": "execute_result"
    }
   ],
   "source": [
    "''.join(v+d for v,d in zip(values,delimiters))\n",
    "'asfd fjdk;afed,fjek,asdf,foo'"
   ]
  },
  {
   "cell_type": "code",
   "execution_count": 13,
   "id": "e88c57da",
   "metadata": {},
   "outputs": [
    {
     "data": {
      "text/plain": [
       "['asdf', 'fdjk', 'afed', 'fjek', 'asdf', 'foo']"
      ]
     },
     "execution_count": 13,
     "metadata": {},
     "output_type": "execute_result"
    }
   ],
   "source": [
    "re.split(r'(?:,|;|\\s)\\s*',line)"
   ]
  },
  {
   "cell_type": "markdown",
   "id": "47238035",
   "metadata": {},
   "source": [
    "\n",
    "\n",
    "\n",
    "\n",
    "\n",
    "\n",
    "\n",
    "\n",
    "\n",
    "\n",
    "# 2.2 Matching test at the start or end of a string"
   ]
  },
  {
   "cell_type": "code",
   "execution_count": 14,
   "id": "a46cbeb7",
   "metadata": {},
   "outputs": [],
   "source": [
    "filename = 'spam.txt'"
   ]
  },
  {
   "cell_type": "code",
   "execution_count": 15,
   "id": "30fff75a",
   "metadata": {},
   "outputs": [
    {
     "data": {
      "text/plain": [
       "True"
      ]
     },
     "execution_count": 15,
     "metadata": {},
     "output_type": "execute_result"
    }
   ],
   "source": [
    "filename.endswith('txt')"
   ]
  },
  {
   "cell_type": "code",
   "execution_count": 16,
   "id": "9d89f34a",
   "metadata": {},
   "outputs": [
    {
     "data": {
      "text/plain": [
       "False"
      ]
     },
     "execution_count": 16,
     "metadata": {},
     "output_type": "execute_result"
    }
   ],
   "source": [
    "filename.startswith('file:')"
   ]
  },
  {
   "cell_type": "code",
   "execution_count": 17,
   "id": "4f49e5f1",
   "metadata": {},
   "outputs": [],
   "source": [
    "url = 'http://www.python.org'"
   ]
  },
  {
   "cell_type": "code",
   "execution_count": 18,
   "id": "4918410a",
   "metadata": {},
   "outputs": [
    {
     "data": {
      "text/plain": [
       "True"
      ]
     },
     "execution_count": 18,
     "metadata": {},
     "output_type": "execute_result"
    }
   ],
   "source": [
    "url.startswith('http:')"
   ]
  },
  {
   "cell_type": "code",
   "execution_count": 19,
   "id": "0b38137b",
   "metadata": {},
   "outputs": [],
   "source": [
    "import os\n"
   ]
  },
  {
   "cell_type": "code",
   "execution_count": 20,
   "id": "b5e3f565",
   "metadata": {},
   "outputs": [],
   "source": [
    "filenames = os.listdir('.')"
   ]
  },
  {
   "cell_type": "code",
   "execution_count": 28,
   "id": "013a69fd",
   "metadata": {
    "scrolled": true
   },
   "outputs": [
    {
     "data": {
      "text/plain": [
       "['.config',\n",
       " 'Music',\n",
       " '.condarc',\n",
       " 'jbr_err_pid55298.log',\n",
       " 'Untitled1.ipynb',\n",
       " 'iCloud Drive (Archive) - 1',\n",
       " '.DS_Store',\n",
       " '.dbvis',\n",
       " '.CFUserTextEncoding',\n",
       " '.xonshrc',\n",
       " 'Untitled.ipynb',\n",
       " '.zshrc',\n",
       " 'Pictures',\n",
       " '.zprofile',\n",
       " '.zsh_history',\n",
       " 'Untitled2.ipynb',\n",
       " '.ipython',\n",
       " 'Desktop',\n",
       " 'Library',\n",
       " 'jump-git',\n",
       " 'iCloud Drive (Archive)',\n",
       " '.bash_sessions',\n",
       " 'lab 3.1-3.11',\n",
       " 'PycharmProjects',\n",
       " 'Public',\n",
       " '.tcshrc',\n",
       " '.anaconda',\n",
       " '.ssh',\n",
       " 'Movies',\n",
       " 'Applications',\n",
       " 'opt',\n",
       " '.Trash',\n",
       " 'myfile.txt',\n",
       " '.ipynb_checkpoints',\n",
       " '.jupyter',\n",
       " '.npm',\n",
       " 'Documents',\n",
       " 'remote-repo',\n",
       " '.vscode',\n",
       " '.bash_profile',\n",
       " 'Downloads',\n",
       " '.python_history',\n",
       " '.continuum',\n",
       " '.gitconfig',\n",
       " '.bash_history',\n",
       " '.viminfo',\n",
       " '.zsh_sessions',\n",
       " '.conda']"
      ]
     },
     "execution_count": 28,
     "metadata": {},
     "output_type": "execute_result"
    }
   ],
   "source": []
  },
  {
   "cell_type": "code",
   "execution_count": 30,
   "id": "ab57c67d",
   "metadata": {},
   "outputs": [
    {
     "data": {
      "text/plain": [
       "['.zsh_history', 'Library', '.python_history', '.bash_history']"
      ]
     },
     "execution_count": 30,
     "metadata": {},
     "output_type": "execute_result"
    }
   ],
   "source": [
    "[name for name in filenames if name.endswith(('y','.h'))]"
   ]
  },
  {
   "cell_type": "code",
   "execution_count": 31,
   "id": "6e1354b3",
   "metadata": {},
   "outputs": [
    {
     "data": {
      "text/plain": [
       "True"
      ]
     },
     "execution_count": 31,
     "metadata": {},
     "output_type": "execute_result"
    }
   ],
   "source": [
    "any(name.endswith('.ipynb') for name in filenames)"
   ]
  },
  {
   "cell_type": "code",
   "execution_count": 33,
   "id": "7cde8967",
   "metadata": {},
   "outputs": [],
   "source": [
    "from urllib.request import urlopen\n"
   ]
  },
  {
   "cell_type": "code",
   "execution_count": 38,
   "id": "5126133a",
   "metadata": {},
   "outputs": [],
   "source": [
    "def read_data(name):\n",
    "    if name.startswith(('http:','https:','ftp:')):\n",
    "     return urlopen(name).read()\n",
    "    else:\n",
    "        with open(name) as f:\n",
    "            return f.read()"
   ]
  },
  {
   "cell_type": "code",
   "execution_count": 39,
   "id": "c190e899",
   "metadata": {},
   "outputs": [],
   "source": [
    "choices = ['http:','ftp:']"
   ]
  },
  {
   "cell_type": "code",
   "execution_count": 40,
   "id": "b7578372",
   "metadata": {},
   "outputs": [],
   "source": [
    "url = 'http://www.python.org'"
   ]
  },
  {
   "cell_type": "code",
   "execution_count": 41,
   "id": "891d4dd5",
   "metadata": {},
   "outputs": [
    {
     "ename": "TypeError",
     "evalue": "startswith first arg must be str or a tuple of str, not list",
     "output_type": "error",
     "traceback": [
      "\u001b[0;31m---------------------------------------------------------------------------\u001b[0m",
      "\u001b[0;31mTypeError\u001b[0m                                 Traceback (most recent call last)",
      "Input \u001b[0;32mIn [41]\u001b[0m, in \u001b[0;36m<cell line: 1>\u001b[0;34m()\u001b[0m\n\u001b[0;32m----> 1\u001b[0m \u001b[43murl\u001b[49m\u001b[38;5;241;43m.\u001b[39;49m\u001b[43mstartswith\u001b[49m\u001b[43m(\u001b[49m\u001b[43mchoices\u001b[49m\u001b[43m)\u001b[49m\n",
      "\u001b[0;31mTypeError\u001b[0m: startswith first arg must be str or a tuple of str, not list"
     ]
    }
   ],
   "source": [
    "url.startswith(choices)"
   ]
  },
  {
   "cell_type": "code",
   "execution_count": 42,
   "id": "7cbb4810",
   "metadata": {},
   "outputs": [
    {
     "data": {
      "text/plain": [
       "True"
      ]
     },
     "execution_count": 42,
     "metadata": {},
     "output_type": "execute_result"
    }
   ],
   "source": [
    "url.startswith(tuple(choices))"
   ]
  },
  {
   "cell_type": "code",
   "execution_count": 43,
   "id": "266ed8f6",
   "metadata": {},
   "outputs": [],
   "source": [
    "filename = 'span.txt'"
   ]
  },
  {
   "cell_type": "code",
   "execution_count": 44,
   "id": "071c2c49",
   "metadata": {},
   "outputs": [
    {
     "data": {
      "text/plain": [
       "True"
      ]
     },
     "execution_count": 44,
     "metadata": {},
     "output_type": "execute_result"
    }
   ],
   "source": [
    "filename[-4:] =='.txt'"
   ]
  },
  {
   "cell_type": "code",
   "execution_count": 45,
   "id": "c2b87697",
   "metadata": {},
   "outputs": [],
   "source": [
    "url = 'http://www.python.org'"
   ]
  },
  {
   "cell_type": "code",
   "execution_count": 46,
   "id": "3242e9f4",
   "metadata": {},
   "outputs": [
    {
     "data": {
      "text/plain": [
       "True"
      ]
     },
     "execution_count": 46,
     "metadata": {},
     "output_type": "execute_result"
    }
   ],
   "source": [
    "url[:5] == 'http:' or url [:6] == 'https:' or url[:4] == 'ftp:'"
   ]
  },
  {
   "cell_type": "code",
   "execution_count": 47,
   "id": "fe7145c1",
   "metadata": {},
   "outputs": [],
   "source": [
    "import re"
   ]
  },
  {
   "cell_type": "code",
   "execution_count": 48,
   "id": "6c06a958",
   "metadata": {},
   "outputs": [],
   "source": [
    "url = 'http//www.python.org'"
   ]
  },
  {
   "cell_type": "code",
   "execution_count": 49,
   "id": "a767568e",
   "metadata": {},
   "outputs": [],
   "source": [
    "re.match('http:|https:|ftp:',url)"
   ]
  },
  {
   "cell_type": "markdown",
   "id": "dd50bf5e",
   "metadata": {},
   "source": [
    "# 2.3 Matching Strings using shell wildcard Patterns"
   ]
  },
  {
   "cell_type": "code",
   "execution_count": 50,
   "id": "c9fc4f41",
   "metadata": {},
   "outputs": [],
   "source": [
    "from fnmatch import fnmatch, fnmatchcase"
   ]
  },
  {
   "cell_type": "code",
   "execution_count": 51,
   "id": "a4a854fa",
   "metadata": {},
   "outputs": [
    {
     "data": {
      "text/plain": [
       "True"
      ]
     },
     "execution_count": 51,
     "metadata": {},
     "output_type": "execute_result"
    }
   ],
   "source": [
    "fnmatch('foo.txt', '*.txt')"
   ]
  },
  {
   "cell_type": "code",
   "execution_count": 52,
   "id": "63586819",
   "metadata": {},
   "outputs": [
    {
     "data": {
      "text/plain": [
       "True"
      ]
     },
     "execution_count": 52,
     "metadata": {},
     "output_type": "execute_result"
    }
   ],
   "source": [
    "fnmatch('foo.txt','?oo.txt')"
   ]
  },
  {
   "cell_type": "code",
   "execution_count": 53,
   "id": "3769b36f",
   "metadata": {},
   "outputs": [
    {
     "data": {
      "text/plain": [
       "True"
      ]
     },
     "execution_count": 53,
     "metadata": {},
     "output_type": "execute_result"
    }
   ],
   "source": [
    "fnmatch('Dat45.csv','Dat[0-9]*')"
   ]
  },
  {
   "cell_type": "code",
   "execution_count": 54,
   "id": "06ea9f8a",
   "metadata": {},
   "outputs": [],
   "source": [
    "names =['Dat1.csv','Dat2.csv','config.ini','foo.py']"
   ]
  },
  {
   "cell_type": "code",
   "execution_count": 56,
   "id": "220ecfc4",
   "metadata": {},
   "outputs": [
    {
     "data": {
      "text/plain": [
       "['Dat1.csv', 'Dat2.csv']"
      ]
     },
     "execution_count": 56,
     "metadata": {},
     "output_type": "execute_result"
    }
   ],
   "source": [
    "[name for name in names if fnmatch(name,'Dat*.csv')]"
   ]
  },
  {
   "cell_type": "code",
   "execution_count": 57,
   "id": "5fadd04c",
   "metadata": {},
   "outputs": [],
   "source": [
    "#On Os X (Mac)"
   ]
  },
  {
   "cell_type": "code",
   "execution_count": 58,
   "id": "4193bca7",
   "metadata": {},
   "outputs": [
    {
     "data": {
      "text/plain": [
       "False"
      ]
     },
     "execution_count": 58,
     "metadata": {},
     "output_type": "execute_result"
    }
   ],
   "source": [
    "fnmatch('foo.txt','*.TXT')"
   ]
  },
  {
   "cell_type": "code",
   "execution_count": 59,
   "id": "d95e2806",
   "metadata": {},
   "outputs": [],
   "source": [
    "#on Windows"
   ]
  },
  {
   "cell_type": "code",
   "execution_count": 60,
   "id": "3c417912",
   "metadata": {},
   "outputs": [
    {
     "data": {
      "text/plain": [
       "False"
      ]
     },
     "execution_count": 60,
     "metadata": {},
     "output_type": "execute_result"
    }
   ],
   "source": [
    "fnmatch('foo.txt','*.TXT')"
   ]
  },
  {
   "cell_type": "code",
   "execution_count": 61,
   "id": "5850c6b8",
   "metadata": {},
   "outputs": [],
   "source": [
    " addresses = [\n",
    "        '5412 N CLARK ST',\n",
    "        '1060 W ADDISON ST',\n",
    "        '1039 W GRANVILLE AVE',\n",
    "        '2122 N CLARK ST',\n",
    "        '4802 N BROADWAY',\n",
    "]"
   ]
  },
  {
   "cell_type": "code",
   "execution_count": 62,
   "id": "4effd0f6",
   "metadata": {},
   "outputs": [],
   "source": [
    "from fnmatch import fnmatchcase"
   ]
  },
  {
   "cell_type": "code",
   "execution_count": 63,
   "id": "081a21ad",
   "metadata": {},
   "outputs": [
    {
     "data": {
      "text/plain": [
       "['5412 N CLARK ST', '1060 W ADDISON ST', '2122 N CLARK ST']"
      ]
     },
     "execution_count": 63,
     "metadata": {},
     "output_type": "execute_result"
    }
   ],
   "source": [
    "[addr for addr in addresses if fnmatchcase(addr, '* ST')]"
   ]
  },
  {
   "cell_type": "code",
   "execution_count": 65,
   "id": "c91de869",
   "metadata": {},
   "outputs": [
    {
     "data": {
      "text/plain": [
       "['5412 N CLARK ST']"
      ]
     },
     "execution_count": 65,
     "metadata": {},
     "output_type": "execute_result"
    }
   ],
   "source": [
    "[addr for addr in addresses if fnmatchcase(addr, '54[0-9][0-9] *CLARK*')]"
   ]
  },
  {
   "cell_type": "markdown",
   "id": "0d0fc7d9",
   "metadata": {},
   "source": [
    "\n",
    "\n",
    "\n",
    "\n",
    "\n",
    "\n",
    "\n",
    "\n",
    "\n",
    "\n",
    "# 2.4 Matching and Searching for Text Patterns "
   ]
  },
  {
   "cell_type": "code",
   "execution_count": 66,
   "id": "a03270fb",
   "metadata": {},
   "outputs": [],
   "source": [
    "text = 'yeah, but no, but yeah, but no, but yeah'"
   ]
  },
  {
   "cell_type": "code",
   "execution_count": 67,
   "id": "b40be3c9",
   "metadata": {},
   "outputs": [],
   "source": [
    "# Exact match"
   ]
  },
  {
   "cell_type": "code",
   "execution_count": 68,
   "id": "30dbe560",
   "metadata": {},
   "outputs": [
    {
     "data": {
      "text/plain": [
       "False"
      ]
     },
     "execution_count": 68,
     "metadata": {},
     "output_type": "execute_result"
    }
   ],
   "source": [
    "text == 'yeah'"
   ]
  },
  {
   "cell_type": "code",
   "execution_count": 69,
   "id": "46e43392",
   "metadata": {},
   "outputs": [],
   "source": [
    "# Match at start or end"
   ]
  },
  {
   "cell_type": "code",
   "execution_count": 70,
   "id": "287158a4",
   "metadata": {},
   "outputs": [
    {
     "data": {
      "text/plain": [
       "True"
      ]
     },
     "execution_count": 70,
     "metadata": {},
     "output_type": "execute_result"
    }
   ],
   "source": [
    "text.startswith('yeah')"
   ]
  },
  {
   "cell_type": "code",
   "execution_count": 71,
   "id": "8cc8bcc7",
   "metadata": {},
   "outputs": [
    {
     "data": {
      "text/plain": [
       "False"
      ]
     },
     "execution_count": 71,
     "metadata": {},
     "output_type": "execute_result"
    }
   ],
   "source": [
    "text.endswith('no')"
   ]
  },
  {
   "cell_type": "code",
   "execution_count": 72,
   "id": "a05fba6b",
   "metadata": {},
   "outputs": [],
   "source": [
    "# Search for the location of the first occurrence"
   ]
  },
  {
   "cell_type": "code",
   "execution_count": 73,
   "id": "31443f9a",
   "metadata": {},
   "outputs": [
    {
     "data": {
      "text/plain": [
       "10"
      ]
     },
     "execution_count": 73,
     "metadata": {},
     "output_type": "execute_result"
    }
   ],
   "source": [
    "text.find('no')"
   ]
  },
  {
   "cell_type": "code",
   "execution_count": 74,
   "id": "645f9828",
   "metadata": {},
   "outputs": [],
   "source": [
    "text1 = '11/27/2012'"
   ]
  },
  {
   "cell_type": "code",
   "execution_count": 75,
   "id": "a6108cc3",
   "metadata": {},
   "outputs": [],
   "source": [
    "text2 = 'Nov 27, 2012'"
   ]
  },
  {
   "cell_type": "code",
   "execution_count": 77,
   "id": "2ff2a9a2",
   "metadata": {},
   "outputs": [],
   "source": [
    "import re"
   ]
  },
  {
   "cell_type": "code",
   "execution_count": 78,
   "id": "da56d5a3",
   "metadata": {},
   "outputs": [],
   "source": [
    "# Simple matching: \\d+ means match one or more digits"
   ]
  },
  {
   "cell_type": "code",
   "execution_count": 80,
   "id": "8f0fc0c2",
   "metadata": {},
   "outputs": [
    {
     "name": "stdout",
     "output_type": "stream",
     "text": [
      "yes\n"
     ]
    }
   ],
   "source": [
    "if re.match(r'\\d+/\\d+/\\d+', text1):\n",
    "  print('yes')\n",
    "else:\n",
    "  print('no')\n"
   ]
  },
  {
   "cell_type": "code",
   "execution_count": 81,
   "id": "c0af4ffc",
   "metadata": {},
   "outputs": [
    {
     "name": "stdout",
     "output_type": "stream",
     "text": [
      "no\n"
     ]
    }
   ],
   "source": [
    "if re.match(r'\\d+/\\d+/\\d+', text2):\n",
    " print('yes')\n",
    "else:\n",
    " print('no')"
   ]
  },
  {
   "cell_type": "code",
   "execution_count": 83,
   "id": "6d3b8eeb",
   "metadata": {},
   "outputs": [],
   "source": [
    "datepat = re.compile(r'\\d+/\\d+/\\d+')"
   ]
  },
  {
   "cell_type": "code",
   "execution_count": 84,
   "id": "6e9596cf",
   "metadata": {},
   "outputs": [
    {
     "name": "stdout",
     "output_type": "stream",
     "text": [
      "yes\n"
     ]
    }
   ],
   "source": [
    "if datepat.match(text1):\n",
    " print('yes')\n",
    "else:\n",
    " print('no')\n",
    "    "
   ]
  },
  {
   "cell_type": "code",
   "execution_count": 86,
   "id": "16a5cb5d",
   "metadata": {},
   "outputs": [
    {
     "name": "stdout",
     "output_type": "stream",
     "text": [
      "no\n"
     ]
    }
   ],
   "source": [
    "if datepat.match(text2):\n",
    " print('yes')\n",
    "else:\n",
    " print('no') "
   ]
  },
  {
   "cell_type": "code",
   "execution_count": 87,
   "id": "6bb06a60",
   "metadata": {},
   "outputs": [],
   "source": [
    "text = 'Today is 11/27/2012. PyCon starts 3/13/2013.'"
   ]
  },
  {
   "cell_type": "code",
   "execution_count": 88,
   "id": "466cbb74",
   "metadata": {},
   "outputs": [
    {
     "data": {
      "text/plain": [
       "['11/27/2012', '3/13/2013']"
      ]
     },
     "execution_count": 88,
     "metadata": {},
     "output_type": "execute_result"
    }
   ],
   "source": [
    "datepat.findall(text)"
   ]
  },
  {
   "cell_type": "code",
   "execution_count": 89,
   "id": "2ee4293d",
   "metadata": {},
   "outputs": [],
   "source": [
    "datepat = re.compile(r'(\\d+)/(\\d+)/(\\d+)')"
   ]
  },
  {
   "cell_type": "code",
   "execution_count": 90,
   "id": "4e42123d",
   "metadata": {},
   "outputs": [],
   "source": [
    "m = datepat.match('11/27/2012')"
   ]
  },
  {
   "cell_type": "code",
   "execution_count": 91,
   "id": "6a85248e",
   "metadata": {},
   "outputs": [
    {
     "data": {
      "text/plain": [
       "<re.Match object; span=(0, 10), match='11/27/2012'>"
      ]
     },
     "execution_count": 91,
     "metadata": {},
     "output_type": "execute_result"
    }
   ],
   "source": [
    "m"
   ]
  },
  {
   "cell_type": "code",
   "execution_count": 92,
   "id": "04d1ae0b",
   "metadata": {},
   "outputs": [],
   "source": [
    "# Extract the contents of each group"
   ]
  },
  {
   "cell_type": "code",
   "execution_count": 93,
   "id": "b89cc4e3",
   "metadata": {},
   "outputs": [
    {
     "data": {
      "text/plain": [
       "'11/27/2012'"
      ]
     },
     "execution_count": 93,
     "metadata": {},
     "output_type": "execute_result"
    }
   ],
   "source": [
    "m.group(0)"
   ]
  },
  {
   "cell_type": "code",
   "execution_count": 94,
   "id": "013fbde0",
   "metadata": {},
   "outputs": [
    {
     "data": {
      "text/plain": [
       "'11'"
      ]
     },
     "execution_count": 94,
     "metadata": {},
     "output_type": "execute_result"
    }
   ],
   "source": [
    "m.group(1)\n"
   ]
  },
  {
   "cell_type": "code",
   "execution_count": 95,
   "id": "d303b8f9",
   "metadata": {},
   "outputs": [
    {
     "data": {
      "text/plain": [
       "'27'"
      ]
     },
     "execution_count": 95,
     "metadata": {},
     "output_type": "execute_result"
    }
   ],
   "source": [
    "m.group(2)\n"
   ]
  },
  {
   "cell_type": "code",
   "execution_count": 96,
   "id": "8654c50d",
   "metadata": {},
   "outputs": [
    {
     "data": {
      "text/plain": [
       "'2012'"
      ]
     },
     "execution_count": 96,
     "metadata": {},
     "output_type": "execute_result"
    }
   ],
   "source": [
    " m.group(3)"
   ]
  },
  {
   "cell_type": "code",
   "execution_count": 97,
   "id": "4fbf6290",
   "metadata": {},
   "outputs": [
    {
     "data": {
      "text/plain": [
       "('11', '27', '2012')"
      ]
     },
     "execution_count": 97,
     "metadata": {},
     "output_type": "execute_result"
    }
   ],
   "source": [
    " m.groups()"
   ]
  },
  {
   "cell_type": "code",
   "execution_count": 98,
   "id": "45b9ad14",
   "metadata": {},
   "outputs": [],
   "source": [
    "month, day, year = m.groups()"
   ]
  },
  {
   "cell_type": "code",
   "execution_count": 99,
   "id": "6f583436",
   "metadata": {},
   "outputs": [],
   "source": [
    "# Find all matches (notice splitting into tuples)"
   ]
  },
  {
   "cell_type": "code",
   "execution_count": 100,
   "id": "f0c0e437",
   "metadata": {},
   "outputs": [
    {
     "data": {
      "text/plain": [
       "'Today is 11/27/2012. PyCon starts 3/13/2013.'"
      ]
     },
     "execution_count": 100,
     "metadata": {},
     "output_type": "execute_result"
    }
   ],
   "source": [
    "text"
   ]
  },
  {
   "cell_type": "code",
   "execution_count": 101,
   "id": "5c5153a0",
   "metadata": {},
   "outputs": [
    {
     "data": {
      "text/plain": [
       "[('11', '27', '2012'), ('3', '13', '2013')]"
      ]
     },
     "execution_count": 101,
     "metadata": {},
     "output_type": "execute_result"
    }
   ],
   "source": [
    "datepat.findall(text)"
   ]
  },
  {
   "cell_type": "code",
   "execution_count": 102,
   "id": "17871301",
   "metadata": {},
   "outputs": [
    {
     "name": "stdout",
     "output_type": "stream",
     "text": [
      "2012-11-27\n",
      "2013-3-13\n"
     ]
    }
   ],
   "source": [
    "for month, day, year in datepat.findall(text):\n",
    "    print('{}-{}-{}'.format(year, month, day))"
   ]
  },
  {
   "cell_type": "code",
   "execution_count": 103,
   "id": "fc808a0a",
   "metadata": {},
   "outputs": [
    {
     "name": "stdout",
     "output_type": "stream",
     "text": [
      "('11', '27', '2012')\n",
      "('3', '13', '2013')\n"
     ]
    }
   ],
   "source": [
    "for m in datepat.finditer(text):\n",
    "    print(m.groups())"
   ]
  },
  {
   "cell_type": "code",
   "execution_count": 104,
   "id": "08f48b61",
   "metadata": {},
   "outputs": [],
   "source": [
    "datepat = re.compile(r'(\\d+)/(\\d+)/(\\d+)$')"
   ]
  },
  {
   "cell_type": "code",
   "execution_count": 105,
   "id": "056be2a9",
   "metadata": {},
   "outputs": [],
   "source": [
    "datepat.match('11/27/2012abcdef')"
   ]
  },
  {
   "cell_type": "code",
   "execution_count": 106,
   "id": "84cf4f2d",
   "metadata": {},
   "outputs": [
    {
     "data": {
      "text/plain": [
       "<re.Match object; span=(0, 10), match='11/27/2012'>"
      ]
     },
     "execution_count": 106,
     "metadata": {},
     "output_type": "execute_result"
    }
   ],
   "source": [
    "datepat.match('11/27/2012')"
   ]
  },
  {
   "cell_type": "code",
   "execution_count": 107,
   "id": "4df672e3",
   "metadata": {},
   "outputs": [
    {
     "data": {
      "text/plain": [
       "[('11', '27', '2012'), ('3', '13', '2013')]"
      ]
     },
     "execution_count": 107,
     "metadata": {},
     "output_type": "execute_result"
    }
   ],
   "source": [
    "re.findall(r'(\\d+)/(\\d+)/(\\d+)', text)"
   ]
  },
  {
   "cell_type": "markdown",
   "id": "1825ad39",
   "metadata": {},
   "source": [
    "\n",
    "\n",
    "\n",
    "\n",
    "\n",
    "\n",
    "\n",
    "\n",
    "\n",
    "# 2.5 Searching and Replacing "
   ]
  },
  {
   "cell_type": "code",
   "execution_count": 108,
   "id": "9b80d63a",
   "metadata": {},
   "outputs": [],
   "source": [
    "text = 'yeah, but no, but yeah, but no, but yeah'\n"
   ]
  },
  {
   "cell_type": "code",
   "execution_count": 109,
   "id": "babc4a8f",
   "metadata": {},
   "outputs": [
    {
     "data": {
      "text/plain": [
       "'yep, but no, but yep, but no, but yep'"
      ]
     },
     "execution_count": 109,
     "metadata": {},
     "output_type": "execute_result"
    }
   ],
   "source": [
    "text.replace('yeah', 'yep')"
   ]
  },
  {
   "cell_type": "code",
   "execution_count": 110,
   "id": "2e1ac9a4",
   "metadata": {},
   "outputs": [],
   "source": [
    "text = 'Today is 11/27/2012. PyCon starts 3/13/2013.'"
   ]
  },
  {
   "cell_type": "code",
   "execution_count": 111,
   "id": "54a68084",
   "metadata": {},
   "outputs": [],
   "source": [
    "import re"
   ]
  },
  {
   "cell_type": "code",
   "execution_count": 112,
   "id": "a19d96f3",
   "metadata": {},
   "outputs": [
    {
     "data": {
      "text/plain": [
       "'Today is 2012-11-27. PyCon starts 2013-3-13.'"
      ]
     },
     "execution_count": 112,
     "metadata": {},
     "output_type": "execute_result"
    }
   ],
   "source": [
    " re.sub(r'(\\d+)/(\\d+)/(\\d+)', r'\\3-\\1-\\2', text)"
   ]
  },
  {
   "cell_type": "code",
   "execution_count": 113,
   "id": "4a9c5980",
   "metadata": {},
   "outputs": [],
   "source": [
    "datepat = re.compile(r'(\\d+)/(\\d+)/(\\d+)')"
   ]
  },
  {
   "cell_type": "code",
   "execution_count": 114,
   "id": "d2dcfe90",
   "metadata": {},
   "outputs": [
    {
     "data": {
      "text/plain": [
       "'Today is 2012-11-27. PyCon starts 2013-3-13.'"
      ]
     },
     "execution_count": 114,
     "metadata": {},
     "output_type": "execute_result"
    }
   ],
   "source": [
    "datepat.sub(r'\\3-\\1-\\2', text)"
   ]
  },
  {
   "cell_type": "code",
   "execution_count": 115,
   "id": "712d96e9",
   "metadata": {},
   "outputs": [],
   "source": [
    " from calendar import month_abbr"
   ]
  },
  {
   "cell_type": "code",
   "execution_count": 116,
   "id": "8dc8d5ef",
   "metadata": {},
   "outputs": [],
   "source": [
    "def change_date(m):\n",
    " mon_name = month_abbr[int(m.group(1))]\n",
    " return '{} {} {}'.format(m.group(2), mon_name, m.group(3)) "
   ]
  },
  {
   "cell_type": "code",
   "execution_count": 117,
   "id": "99ccfbd9",
   "metadata": {},
   "outputs": [
    {
     "data": {
      "text/plain": [
       "'Today is 27 Nov 2012. PyCon starts 13 Mar 2013.'"
      ]
     },
     "execution_count": 117,
     "metadata": {},
     "output_type": "execute_result"
    }
   ],
   "source": [
    "datepat.sub(change_date, text)"
   ]
  },
  {
   "cell_type": "code",
   "execution_count": 118,
   "id": "a6f6fd4c",
   "metadata": {},
   "outputs": [],
   "source": [
    "newtext, n = datepat.subn(r'\\3-\\1-\\2', text)"
   ]
  },
  {
   "cell_type": "code",
   "execution_count": 119,
   "id": "f9ce1341",
   "metadata": {},
   "outputs": [
    {
     "data": {
      "text/plain": [
       "'Today is 2012-11-27. PyCon starts 2013-3-13.'"
      ]
     },
     "execution_count": 119,
     "metadata": {},
     "output_type": "execute_result"
    }
   ],
   "source": [
    "newtext"
   ]
  },
  {
   "cell_type": "code",
   "execution_count": 120,
   "id": "61a7b89c",
   "metadata": {},
   "outputs": [
    {
     "data": {
      "text/plain": [
       "2"
      ]
     },
     "execution_count": 120,
     "metadata": {},
     "output_type": "execute_result"
    }
   ],
   "source": [
    "n"
   ]
  },
  {
   "cell_type": "markdown",
   "id": "7b741b64",
   "metadata": {},
   "source": [
    "\n",
    "\n",
    "\n",
    "\n",
    "\n",
    "\n",
    "\n",
    "# 2.6 Searching and Replacing Case-insnensitive Text "
   ]
  },
  {
   "cell_type": "code",
   "execution_count": 121,
   "id": "e5757919",
   "metadata": {},
   "outputs": [],
   "source": [
    "text = 'UPPER PYTHON, lower python, Mixed Python'"
   ]
  },
  {
   "cell_type": "code",
   "execution_count": 122,
   "id": "671d2c68",
   "metadata": {},
   "outputs": [
    {
     "data": {
      "text/plain": [
       "['PYTHON', 'python', 'Python']"
      ]
     },
     "execution_count": 122,
     "metadata": {},
     "output_type": "execute_result"
    }
   ],
   "source": [
    "re.findall('python', text, flags=re.IGNORECASE)"
   ]
  },
  {
   "cell_type": "code",
   "execution_count": 123,
   "id": "ecb7a51e",
   "metadata": {},
   "outputs": [
    {
     "data": {
      "text/plain": [
       "'UPPER snake, lower snake, Mixed snake'"
      ]
     },
     "execution_count": 123,
     "metadata": {},
     "output_type": "execute_result"
    }
   ],
   "source": [
    "re.sub('python', 'snake', text, flags=re.IGNORECASE)"
   ]
  },
  {
   "cell_type": "code",
   "execution_count": 147,
   "id": "4d9e55d1",
   "metadata": {},
   "outputs": [],
   "source": [
    "def matchcase(word): \n",
    "    def replace(m):\n",
    "        text = m.group() \n",
    "    if text.isupper():\n",
    "        return word.upper()\n",
    "    elif text.islower():\n",
    "        return word.lower() \n",
    "    elif text[0].isupper():\n",
    "        return word.capitalize() \n",
    "    else:\n",
    "        return word\n",
    "    return replace"
   ]
  },
  {
   "cell_type": "code",
   "execution_count": 148,
   "id": "d01328a5",
   "metadata": {},
   "outputs": [
    {
     "data": {
      "text/plain": [
       "'UPPER Snake, lower Snake, Mixed Snake'"
      ]
     },
     "execution_count": 148,
     "metadata": {},
     "output_type": "execute_result"
    }
   ],
   "source": [
    "re.sub('python', matchcase('snake'), text, flags=re.IGNORECASE)"
   ]
  },
  {
   "cell_type": "markdown",
   "id": "fdfd7104",
   "metadata": {},
   "source": [
    "2.7 Specifying a Regular Expression for Shortest Match "
   ]
  },
  {
   "cell_type": "code",
   "execution_count": 150,
   "id": "23aac88e",
   "metadata": {},
   "outputs": [],
   "source": [
    "str_pat = re.compile(r'\\\"(.*)\\\"')"
   ]
  },
  {
   "cell_type": "code",
   "execution_count": 151,
   "id": "bf85d11b",
   "metadata": {},
   "outputs": [],
   "source": [
    "text1 = 'Computer says \"no.\"'"
   ]
  },
  {
   "cell_type": "code",
   "execution_count": 152,
   "id": "83f1dfe1",
   "metadata": {},
   "outputs": [
    {
     "data": {
      "text/plain": [
       "['no.']"
      ]
     },
     "execution_count": 152,
     "metadata": {},
     "output_type": "execute_result"
    }
   ],
   "source": [
    "str_pat.findall(text1)"
   ]
  },
  {
   "cell_type": "code",
   "execution_count": 153,
   "id": "a5f1292a",
   "metadata": {},
   "outputs": [],
   "source": [
    "text2 = 'Computer says \"no.\" Phone says \"yes.\"'"
   ]
  },
  {
   "cell_type": "code",
   "execution_count": 154,
   "id": "05e267ae",
   "metadata": {},
   "outputs": [
    {
     "data": {
      "text/plain": [
       "['no.\" Phone says \"yes.']"
      ]
     },
     "execution_count": 154,
     "metadata": {},
     "output_type": "execute_result"
    }
   ],
   "source": [
    "str_pat.findall(text2)"
   ]
  },
  {
   "cell_type": "code",
   "execution_count": 155,
   "id": "d25abc6a",
   "metadata": {},
   "outputs": [],
   "source": [
    "str_pat = re.compile(r'\\\"(.*?)\\\"')"
   ]
  },
  {
   "cell_type": "code",
   "execution_count": 156,
   "id": "9ff64506",
   "metadata": {},
   "outputs": [
    {
     "data": {
      "text/plain": [
       "['no.', 'yes.']"
      ]
     },
     "execution_count": 156,
     "metadata": {},
     "output_type": "execute_result"
    }
   ],
   "source": [
    "str_pat.findall(text2)"
   ]
  },
  {
   "cell_type": "markdown",
   "id": "664c8e9c",
   "metadata": {},
   "source": [
    "\n",
    "\n",
    "\n",
    "\n",
    "\n",
    "\n",
    "\n",
    "\n",
    "\n",
    "# 2.8 Writing a Regular Expression for Multiline Patterns\n"
   ]
  },
  {
   "cell_type": "code",
   "execution_count": 157,
   "id": "86bed72b",
   "metadata": {},
   "outputs": [],
   "source": [
    "comment = re.compile(r'/\\*(.*?)\\*/')"
   ]
  },
  {
   "cell_type": "code",
   "execution_count": 158,
   "id": "ae7314e0",
   "metadata": {},
   "outputs": [],
   "source": [
    "text1 = '/* this is a comment */'"
   ]
  },
  {
   "cell_type": "code",
   "execution_count": 160,
   "id": "90ab2c2d",
   "metadata": {},
   "outputs": [],
   "source": [
    "text2 = '''/* this is a \n",
    "multiline comment */ \n",
    "'''"
   ]
  },
  {
   "cell_type": "code",
   "execution_count": 161,
   "id": "92ed375b",
   "metadata": {},
   "outputs": [
    {
     "data": {
      "text/plain": [
       "[' this is a comment ']"
      ]
     },
     "execution_count": 161,
     "metadata": {},
     "output_type": "execute_result"
    }
   ],
   "source": [
    " comment.findall(text1)"
   ]
  },
  {
   "cell_type": "code",
   "execution_count": 162,
   "id": "900e7982",
   "metadata": {},
   "outputs": [
    {
     "data": {
      "text/plain": [
       "[]"
      ]
     },
     "execution_count": 162,
     "metadata": {},
     "output_type": "execute_result"
    }
   ],
   "source": [
    "comment.findall(text2)"
   ]
  },
  {
   "cell_type": "code",
   "execution_count": 163,
   "id": "e171843e",
   "metadata": {},
   "outputs": [],
   "source": [
    "comment = re.compile(r'/\\*((?:.|\\n)*?)\\*/')"
   ]
  },
  {
   "cell_type": "code",
   "execution_count": 164,
   "id": "f1ffc130",
   "metadata": {},
   "outputs": [
    {
     "data": {
      "text/plain": [
       "[' this is a \\nmultiline comment ']"
      ]
     },
     "execution_count": 164,
     "metadata": {},
     "output_type": "execute_result"
    }
   ],
   "source": [
    "comment.findall(text2)"
   ]
  },
  {
   "cell_type": "code",
   "execution_count": 165,
   "id": "2b93ab57",
   "metadata": {},
   "outputs": [],
   "source": [
    " comment = re.compile(r'/\\*(.*?)\\*/', re.DOTALL)"
   ]
  },
  {
   "cell_type": "code",
   "execution_count": 166,
   "id": "f679cafe",
   "metadata": {},
   "outputs": [
    {
     "data": {
      "text/plain": [
       "[' this is a \\nmultiline comment ']"
      ]
     },
     "execution_count": 166,
     "metadata": {},
     "output_type": "execute_result"
    }
   ],
   "source": [
    " comment.findall(text2)"
   ]
  },
  {
   "cell_type": "markdown",
   "id": "a5439fef",
   "metadata": {},
   "source": [
    "# 2.9 Normalizing Unicode Text to a Standard "
   ]
  },
  {
   "cell_type": "code",
   "execution_count": 168,
   "id": "ca48010a",
   "metadata": {},
   "outputs": [],
   "source": [
    "s1 = 'Spicy Jalape\\u00f1o'"
   ]
  },
  {
   "cell_type": "code",
   "execution_count": 169,
   "id": "700ce756",
   "metadata": {},
   "outputs": [],
   "source": [
    " s2 = 'Spicy Jalapen\\u0303o'"
   ]
  },
  {
   "cell_type": "code",
   "execution_count": 170,
   "id": "617e81e9",
   "metadata": {},
   "outputs": [
    {
     "data": {
      "text/plain": [
       "'Spicy Jalapeño'"
      ]
     },
     "execution_count": 170,
     "metadata": {},
     "output_type": "execute_result"
    }
   ],
   "source": [
    "s1"
   ]
  },
  {
   "cell_type": "code",
   "execution_count": 171,
   "id": "045f9dad",
   "metadata": {},
   "outputs": [
    {
     "data": {
      "text/plain": [
       "'Spicy Jalapeño'"
      ]
     },
     "execution_count": 171,
     "metadata": {},
     "output_type": "execute_result"
    }
   ],
   "source": [
    "s2"
   ]
  },
  {
   "cell_type": "code",
   "execution_count": 172,
   "id": "3ac0101e",
   "metadata": {},
   "outputs": [
    {
     "data": {
      "text/plain": [
       "False"
      ]
     },
     "execution_count": 172,
     "metadata": {},
     "output_type": "execute_result"
    }
   ],
   "source": [
    "s1 == s2"
   ]
  },
  {
   "cell_type": "code",
   "execution_count": 173,
   "id": "eb6cc119",
   "metadata": {},
   "outputs": [
    {
     "data": {
      "text/plain": [
       "14"
      ]
     },
     "execution_count": 173,
     "metadata": {},
     "output_type": "execute_result"
    }
   ],
   "source": [
    "len(s1)"
   ]
  },
  {
   "cell_type": "code",
   "execution_count": 174,
   "id": "7553e980",
   "metadata": {},
   "outputs": [
    {
     "data": {
      "text/plain": [
       "15"
      ]
     },
     "execution_count": 174,
     "metadata": {},
     "output_type": "execute_result"
    }
   ],
   "source": [
    "len(s2)"
   ]
  },
  {
   "cell_type": "code",
   "execution_count": 175,
   "id": "196ffa6f",
   "metadata": {},
   "outputs": [],
   "source": [
    "import unicodedata"
   ]
  },
  {
   "cell_type": "code",
   "execution_count": 176,
   "id": "8aa3ba2a",
   "metadata": {},
   "outputs": [],
   "source": [
    "t1 = unicodedata.normalize('NFC', s1)"
   ]
  },
  {
   "cell_type": "code",
   "execution_count": 177,
   "id": "2e9d5cb8",
   "metadata": {},
   "outputs": [],
   "source": [
    "t2 = unicodedata.normalize('NFC', s2)"
   ]
  },
  {
   "cell_type": "code",
   "execution_count": 178,
   "id": "87e84e90",
   "metadata": {},
   "outputs": [
    {
     "data": {
      "text/plain": [
       "True"
      ]
     },
     "execution_count": 178,
     "metadata": {},
     "output_type": "execute_result"
    }
   ],
   "source": [
    "t1 == t2"
   ]
  },
  {
   "cell_type": "code",
   "execution_count": 179,
   "id": "8e9e28cb",
   "metadata": {},
   "outputs": [
    {
     "name": "stdout",
     "output_type": "stream",
     "text": [
      "'Spicy Jalape\\xf1o'\n"
     ]
    }
   ],
   "source": [
    "print(ascii(t1))"
   ]
  },
  {
   "cell_type": "code",
   "execution_count": 180,
   "id": "6d396698",
   "metadata": {},
   "outputs": [],
   "source": [
    " t3 = unicodedata.normalize('NFD', s1)"
   ]
  },
  {
   "cell_type": "code",
   "execution_count": 181,
   "id": "35e85320",
   "metadata": {},
   "outputs": [],
   "source": [
    "t4 = unicodedata.normalize('NFD', s2)"
   ]
  },
  {
   "cell_type": "code",
   "execution_count": 182,
   "id": "a06a9694",
   "metadata": {},
   "outputs": [
    {
     "data": {
      "text/plain": [
       "True"
      ]
     },
     "execution_count": 182,
     "metadata": {},
     "output_type": "execute_result"
    }
   ],
   "source": [
    "t3 == t4"
   ]
  },
  {
   "cell_type": "code",
   "execution_count": 183,
   "id": "4390574c",
   "metadata": {},
   "outputs": [
    {
     "name": "stdout",
     "output_type": "stream",
     "text": [
      "'Spicy Jalapen\\u0303o'\n"
     ]
    }
   ],
   "source": [
    "print(ascii(t3))"
   ]
  },
  {
   "cell_type": "code",
   "execution_count": 184,
   "id": "f53e22b2",
   "metadata": {},
   "outputs": [],
   "source": [
    " s = '\\ufb01' # A single character"
   ]
  },
  {
   "cell_type": "code",
   "execution_count": 185,
   "id": "d237a015",
   "metadata": {},
   "outputs": [
    {
     "data": {
      "text/plain": [
       "'ﬁ'"
      ]
     },
     "execution_count": 185,
     "metadata": {},
     "output_type": "execute_result"
    }
   ],
   "source": [
    "s"
   ]
  },
  {
   "cell_type": "code",
   "execution_count": 186,
   "id": "e78ce648",
   "metadata": {},
   "outputs": [
    {
     "data": {
      "text/plain": [
       "'ﬁ'"
      ]
     },
     "execution_count": 186,
     "metadata": {},
     "output_type": "execute_result"
    }
   ],
   "source": [
    "unicodedata.normalize('NFD', s)"
   ]
  },
  {
   "cell_type": "code",
   "execution_count": 187,
   "id": "6ec449bf",
   "metadata": {},
   "outputs": [],
   "source": [
    "# Notice how the combined letters are broken apart here"
   ]
  },
  {
   "cell_type": "code",
   "execution_count": 188,
   "id": "221cf8d6",
   "metadata": {},
   "outputs": [
    {
     "data": {
      "text/plain": [
       "'fi'"
      ]
     },
     "execution_count": 188,
     "metadata": {},
     "output_type": "execute_result"
    }
   ],
   "source": [
    "unicodedata.normalize('NFKD', s)"
   ]
  },
  {
   "cell_type": "code",
   "execution_count": 189,
   "id": "053750ff",
   "metadata": {},
   "outputs": [
    {
     "data": {
      "text/plain": [
       "'fi'"
      ]
     },
     "execution_count": 189,
     "metadata": {},
     "output_type": "execute_result"
    }
   ],
   "source": [
    "unicodedata.normalize('NFKC', s)"
   ]
  },
  {
   "cell_type": "code",
   "execution_count": 190,
   "id": "48ec9dc1",
   "metadata": {},
   "outputs": [],
   "source": [
    "t1 = unicodedata.normalize('NFD', s1)"
   ]
  },
  {
   "cell_type": "code",
   "execution_count": 191,
   "id": "a889f2ae",
   "metadata": {},
   "outputs": [
    {
     "data": {
      "text/plain": [
       "'Spicy Jalapeno'"
      ]
     },
     "execution_count": 191,
     "metadata": {},
     "output_type": "execute_result"
    }
   ],
   "source": [
    " ''.join(c for c in t1 if not unicodedata.combining(c))"
   ]
  },
  {
   "cell_type": "markdown",
   "id": "42fa7040",
   "metadata": {},
   "source": [
    "\n",
    "\n",
    "\n",
    "\n",
    "\n",
    "\n",
    "\n",
    "\n",
    "\n",
    "# 2.10 Working with unicode Characters in Regular Expressions"
   ]
  },
  {
   "cell_type": "code",
   "execution_count": 192,
   "id": "0d771621",
   "metadata": {},
   "outputs": [],
   "source": [
    "import re\n"
   ]
  },
  {
   "cell_type": "code",
   "execution_count": 193,
   "id": "fb820d07",
   "metadata": {},
   "outputs": [],
   "source": [
    "num = re.compile('\\d+')"
   ]
  },
  {
   "cell_type": "code",
   "execution_count": 194,
   "id": "67e15251",
   "metadata": {},
   "outputs": [],
   "source": [
    "# ASCII digits"
   ]
  },
  {
   "cell_type": "code",
   "execution_count": 195,
   "id": "fc7bf9ec",
   "metadata": {},
   "outputs": [
    {
     "data": {
      "text/plain": [
       "<re.Match object; span=(0, 3), match='123'>"
      ]
     },
     "execution_count": 195,
     "metadata": {},
     "output_type": "execute_result"
    }
   ],
   "source": [
    "num.match('123')"
   ]
  },
  {
   "cell_type": "code",
   "execution_count": 196,
   "id": "c8575a9a",
   "metadata": {},
   "outputs": [],
   "source": [
    " # Arabic digits"
   ]
  },
  {
   "cell_type": "code",
   "execution_count": 197,
   "id": "daee27bf",
   "metadata": {},
   "outputs": [
    {
     "data": {
      "text/plain": [
       "<re.Match object; span=(0, 3), match='١٢٣'>"
      ]
     },
     "execution_count": 197,
     "metadata": {},
     "output_type": "execute_result"
    }
   ],
   "source": [
    "num.match('\\u0661\\u0662\\u0663')"
   ]
  },
  {
   "cell_type": "code",
   "execution_count": 198,
   "id": "cae1b40a",
   "metadata": {},
   "outputs": [],
   "source": [
    " arabic = re.compile('[\\u0600-\\u06ff\\u0750-\\u077f\\u08a0-\\u08ff]+')"
   ]
  },
  {
   "cell_type": "code",
   "execution_count": 199,
   "id": "0bef611f",
   "metadata": {},
   "outputs": [],
   "source": [
    "pat = re.compile('stra\\u00dfe', re.IGNORECASE)"
   ]
  },
  {
   "cell_type": "code",
   "execution_count": 200,
   "id": "d9e6a179",
   "metadata": {},
   "outputs": [],
   "source": [
    "s = 'straße'"
   ]
  },
  {
   "cell_type": "code",
   "execution_count": 201,
   "id": "421bcb86",
   "metadata": {},
   "outputs": [
    {
     "data": {
      "text/plain": [
       "<re.Match object; span=(0, 6), match='straße'>"
      ]
     },
     "execution_count": 201,
     "metadata": {},
     "output_type": "execute_result"
    }
   ],
   "source": [
    " pat.match(s)"
   ]
  },
  {
   "cell_type": "code",
   "execution_count": 202,
   "id": "14a1b4e4",
   "metadata": {},
   "outputs": [],
   "source": [
    "pat.match(s.upper())"
   ]
  },
  {
   "cell_type": "code",
   "execution_count": 203,
   "id": "bbfb17d3",
   "metadata": {},
   "outputs": [
    {
     "data": {
      "text/plain": [
       "'STRASSE'"
      ]
     },
     "execution_count": 203,
     "metadata": {},
     "output_type": "execute_result"
    }
   ],
   "source": [
    "s.upper()"
   ]
  },
  {
   "cell_type": "markdown",
   "id": "841f5ab3",
   "metadata": {},
   "source": [
    "\n",
    "\n",
    "\n",
    "\n",
    "\n",
    "\n",
    "\n",
    "\n",
    "# 2.11 Stripping Unwanted Characters from Strings "
   ]
  },
  {
   "cell_type": "code",
   "execution_count": null,
   "id": "06b41021",
   "metadata": {},
   "outputs": [],
   "source": [
    "# Whitespace stripping"
   ]
  },
  {
   "cell_type": "code",
   "execution_count": 204,
   "id": "bb265f34",
   "metadata": {},
   "outputs": [],
   "source": [
    " s = ' hello world \\n'"
   ]
  },
  {
   "cell_type": "code",
   "execution_count": 205,
   "id": "441b68ee",
   "metadata": {},
   "outputs": [
    {
     "data": {
      "text/plain": [
       "'hello world'"
      ]
     },
     "execution_count": 205,
     "metadata": {},
     "output_type": "execute_result"
    }
   ],
   "source": [
    "s.strip()"
   ]
  },
  {
   "cell_type": "code",
   "execution_count": 206,
   "id": "8be34ce4",
   "metadata": {},
   "outputs": [
    {
     "data": {
      "text/plain": [
       "'hello world \\n'"
      ]
     },
     "execution_count": 206,
     "metadata": {},
     "output_type": "execute_result"
    }
   ],
   "source": [
    "s.lstrip()"
   ]
  },
  {
   "cell_type": "code",
   "execution_count": 208,
   "id": "f6d876a1",
   "metadata": {},
   "outputs": [
    {
     "data": {
      "text/plain": [
       "' hello world'"
      ]
     },
     "execution_count": 208,
     "metadata": {},
     "output_type": "execute_result"
    }
   ],
   "source": [
    "s.rstrip()"
   ]
  },
  {
   "cell_type": "code",
   "execution_count": 209,
   "id": "07a841e1",
   "metadata": {},
   "outputs": [
    {
     "data": {
      "text/plain": [
       "' hello world'"
      ]
     },
     "execution_count": 209,
     "metadata": {},
     "output_type": "execute_result"
    }
   ],
   "source": [
    "s.rstrip()"
   ]
  },
  {
   "cell_type": "code",
   "execution_count": 210,
   "id": "ca46117e",
   "metadata": {},
   "outputs": [],
   "source": [
    "# Character stripping"
   ]
  },
  {
   "cell_type": "code",
   "execution_count": 211,
   "id": "22de30c1",
   "metadata": {},
   "outputs": [],
   "source": [
    "t = '-----hello====='"
   ]
  },
  {
   "cell_type": "code",
   "execution_count": 212,
   "id": "f766223a",
   "metadata": {},
   "outputs": [
    {
     "data": {
      "text/plain": [
       "'hello====='"
      ]
     },
     "execution_count": 212,
     "metadata": {},
     "output_type": "execute_result"
    }
   ],
   "source": [
    " t.lstrip('-')"
   ]
  },
  {
   "cell_type": "code",
   "execution_count": 213,
   "id": "f40a85bf",
   "metadata": {},
   "outputs": [
    {
     "data": {
      "text/plain": [
       "'hello'"
      ]
     },
     "execution_count": 213,
     "metadata": {},
     "output_type": "execute_result"
    }
   ],
   "source": [
    "t.strip('-=')"
   ]
  },
  {
   "cell_type": "code",
   "execution_count": 214,
   "id": "cbf6c8eb",
   "metadata": {},
   "outputs": [],
   "source": [
    "s = ' hello          world \\n'"
   ]
  },
  {
   "cell_type": "code",
   "execution_count": 217,
   "id": "d7855cf0",
   "metadata": {},
   "outputs": [],
   "source": [
    "s = s.strip()"
   ]
  },
  {
   "cell_type": "code",
   "execution_count": 218,
   "id": "0ff6e73b",
   "metadata": {},
   "outputs": [
    {
     "data": {
      "text/plain": [
       "'hello world'"
      ]
     },
     "execution_count": 218,
     "metadata": {},
     "output_type": "execute_result"
    }
   ],
   "source": [
    "s"
   ]
  },
  {
   "cell_type": "code",
   "execution_count": 219,
   "id": "d1e61e5a",
   "metadata": {},
   "outputs": [
    {
     "data": {
      "text/plain": [
       "'helloworld'"
      ]
     },
     "execution_count": 219,
     "metadata": {},
     "output_type": "execute_result"
    }
   ],
   "source": [
    " s.replace(' ', '')"
   ]
  },
  {
   "cell_type": "code",
   "execution_count": 220,
   "id": "0aaaf989",
   "metadata": {},
   "outputs": [],
   "source": [
    "import re"
   ]
  },
  {
   "cell_type": "code",
   "execution_count": 221,
   "id": "82088ab9",
   "metadata": {},
   "outputs": [
    {
     "data": {
      "text/plain": [
       "'hello world'"
      ]
     },
     "execution_count": 221,
     "metadata": {},
     "output_type": "execute_result"
    }
   ],
   "source": [
    "re.sub('\\s+', ' ', s)"
   ]
  },
  {
   "cell_type": "markdown",
   "id": "cf283aea",
   "metadata": {},
   "source": [
    "\n",
    "\n",
    "\n",
    "\n",
    "\n",
    "\n",
    "\n",
    "\n",
    "\n",
    "# 2.12. Sanitizing and Cleaning Up Text"
   ]
  },
  {
   "cell_type": "code",
   "execution_count": 222,
   "id": "d24befb1",
   "metadata": {},
   "outputs": [],
   "source": [
    "s = 'pýtĥöñ\\fis\\tawesome\\r\\n'"
   ]
  },
  {
   "cell_type": "code",
   "execution_count": 223,
   "id": "b2d88504",
   "metadata": {},
   "outputs": [],
   "source": [
    "remap = {\n",
    "     ord('\\t') : ' ',\n",
    "     ord('\\f') : ' ', \n",
    "     ord('\\r') : None \n",
    "    }"
   ]
  },
  {
   "cell_type": "code",
   "execution_count": 224,
   "id": "b83b2b36",
   "metadata": {},
   "outputs": [],
   "source": [
    "a = s.translate(remap)"
   ]
  },
  {
   "cell_type": "code",
   "execution_count": 225,
   "id": "13f5b228",
   "metadata": {},
   "outputs": [
    {
     "data": {
      "text/plain": [
       "'pýtĥöñ is awesome\\n'"
      ]
     },
     "execution_count": 225,
     "metadata": {},
     "output_type": "execute_result"
    }
   ],
   "source": [
    "a"
   ]
  },
  {
   "cell_type": "code",
   "execution_count": 226,
   "id": "87b8aad2",
   "metadata": {},
   "outputs": [],
   "source": [
    "import unicodedata"
   ]
  },
  {
   "cell_type": "code",
   "execution_count": 227,
   "id": "dc63960b",
   "metadata": {},
   "outputs": [],
   "source": [
    "import sys"
   ]
  },
  {
   "cell_type": "code",
   "execution_count": 228,
   "id": "389b6852",
   "metadata": {},
   "outputs": [],
   "source": [
    "cmb_chrs = dict.fromkeys(c for c in range(sys.maxunicode)\n",
    "                         if unicodedata.combining(chr(c)))"
   ]
  },
  {
   "cell_type": "code",
   "execution_count": 229,
   "id": "36388aa5",
   "metadata": {},
   "outputs": [],
   "source": [
    " b = unicodedata.normalize('NFD', a)"
   ]
  },
  {
   "cell_type": "code",
   "execution_count": 230,
   "id": "6d86b3c1",
   "metadata": {},
   "outputs": [
    {
     "data": {
      "text/plain": [
       "'pýtĥöñ is awesome\\n'"
      ]
     },
     "execution_count": 230,
     "metadata": {},
     "output_type": "execute_result"
    }
   ],
   "source": [
    "b"
   ]
  },
  {
   "cell_type": "code",
   "execution_count": 231,
   "id": "c233e534",
   "metadata": {},
   "outputs": [
    {
     "data": {
      "text/plain": [
       "'python is awesome\\n'"
      ]
     },
     "execution_count": 231,
     "metadata": {},
     "output_type": "execute_result"
    }
   ],
   "source": [
    " b.translate(cmb_chrs)"
   ]
  },
  {
   "cell_type": "code",
   "execution_count": 232,
   "id": "a1b4ffe0",
   "metadata": {},
   "outputs": [],
   "source": [
    " digitmap = { c: ord('0') + unicodedata.digit(chr(c)) \n",
    "              for c in range(sys.maxunicode) \n",
    "             if unicodedata.category(chr(c)) == 'Nd' }"
   ]
  },
  {
   "cell_type": "code",
   "execution_count": 233,
   "id": "d580d842",
   "metadata": {},
   "outputs": [
    {
     "data": {
      "text/plain": [
       "650"
      ]
     },
     "execution_count": 233,
     "metadata": {},
     "output_type": "execute_result"
    }
   ],
   "source": [
    "len(digitmap)"
   ]
  },
  {
   "cell_type": "code",
   "execution_count": 234,
   "id": "3cd7d01c",
   "metadata": {},
   "outputs": [],
   "source": [
    "# Arabic digits"
   ]
  },
  {
   "cell_type": "code",
   "execution_count": 235,
   "id": "ebccf7b3",
   "metadata": {},
   "outputs": [],
   "source": [
    "x = '\\u0661\\u0662\\u0663'"
   ]
  },
  {
   "cell_type": "code",
   "execution_count": 236,
   "id": "153702cf",
   "metadata": {},
   "outputs": [
    {
     "data": {
      "text/plain": [
       "'123'"
      ]
     },
     "execution_count": 236,
     "metadata": {},
     "output_type": "execute_result"
    }
   ],
   "source": [
    "x.translate(digitmap)"
   ]
  },
  {
   "cell_type": "code",
   "execution_count": 237,
   "id": "7b77d63f",
   "metadata": {},
   "outputs": [
    {
     "data": {
      "text/plain": [
       "'pýtĥöñ is awesome\\n'"
      ]
     },
     "execution_count": 237,
     "metadata": {},
     "output_type": "execute_result"
    }
   ],
   "source": [
    " a"
   ]
  },
  {
   "cell_type": "code",
   "execution_count": 238,
   "id": "1c218fd1",
   "metadata": {},
   "outputs": [],
   "source": [
    "b = unicodedata.normalize('NFD', a)"
   ]
  },
  {
   "cell_type": "code",
   "execution_count": 240,
   "id": "b21c0b51",
   "metadata": {},
   "outputs": [
    {
     "data": {
      "text/plain": [
       "'pýtĥöñ is awesome\\n'"
      ]
     },
     "execution_count": 240,
     "metadata": {},
     "output_type": "execute_result"
    }
   ],
   "source": [
    "b"
   ]
  },
  {
   "cell_type": "code",
   "execution_count": 241,
   "id": "6feeedad",
   "metadata": {},
   "outputs": [
    {
     "data": {
      "text/plain": [
       "'python is awesome\\n'"
      ]
     },
     "execution_count": 241,
     "metadata": {},
     "output_type": "execute_result"
    }
   ],
   "source": [
    "b.encode('ascii', 'ignore').decode('ascii')"
   ]
  },
  {
   "cell_type": "code",
   "execution_count": 252,
   "id": "6efea422",
   "metadata": {},
   "outputs": [
    {
     "ename": "SyntaxError",
     "evalue": "'return' outside function (3473578460.py, line 5)",
     "output_type": "error",
     "traceback": [
      "\u001b[0;36m  Input \u001b[0;32mIn [252]\u001b[0;36m\u001b[0m\n\u001b[0;31m    return s\u001b[0m\n\u001b[0m    ^\u001b[0m\n\u001b[0;31mSyntaxError\u001b[0m\u001b[0;31m:\u001b[0m 'return' outside function\n"
     ]
    }
   ],
   "source": [
    "def clean_spaces(s):\n",
    "    s = s.replace('\\r', '') \n",
    "    s = s.replace('\\t', ' ')\n",
    "    s = s.replace('\\f', ' ') \n",
    "return s"
   ]
  },
  {
   "cell_type": "markdown",
   "id": "bd75532b",
   "metadata": {},
   "source": [
    "\n",
    "\n",
    "\n",
    "\n",
    "\n",
    "# 2.13 Aligning Text Strings "
   ]
  },
  {
   "cell_type": "code",
   "execution_count": 255,
   "id": "94a74090",
   "metadata": {},
   "outputs": [],
   "source": [
    "text = 'Hello World'"
   ]
  },
  {
   "cell_type": "code",
   "execution_count": 256,
   "id": "41e6e373",
   "metadata": {},
   "outputs": [
    {
     "data": {
      "text/plain": [
       "'Hello World         '"
      ]
     },
     "execution_count": 256,
     "metadata": {},
     "output_type": "execute_result"
    }
   ],
   "source": [
    "text.ljust(20)"
   ]
  },
  {
   "cell_type": "code",
   "execution_count": 257,
   "id": "fe824688",
   "metadata": {},
   "outputs": [
    {
     "data": {
      "text/plain": [
       "'         Hello World'"
      ]
     },
     "execution_count": 257,
     "metadata": {},
     "output_type": "execute_result"
    }
   ],
   "source": [
    "text.rjust(20)"
   ]
  },
  {
   "cell_type": "code",
   "execution_count": 258,
   "id": "1fc8c262",
   "metadata": {},
   "outputs": [
    {
     "data": {
      "text/plain": [
       "'    Hello World     '"
      ]
     },
     "execution_count": 258,
     "metadata": {},
     "output_type": "execute_result"
    }
   ],
   "source": [
    "text.center(20)"
   ]
  },
  {
   "cell_type": "code",
   "execution_count": 259,
   "id": "1934ad6b",
   "metadata": {},
   "outputs": [
    {
     "data": {
      "text/plain": [
       "'=========Hello World'"
      ]
     },
     "execution_count": 259,
     "metadata": {},
     "output_type": "execute_result"
    }
   ],
   "source": [
    "text.rjust(20,'=')"
   ]
  },
  {
   "cell_type": "code",
   "execution_count": 260,
   "id": "75ec6e60",
   "metadata": {},
   "outputs": [
    {
     "data": {
      "text/plain": [
       "'****Hello World*****'"
      ]
     },
     "execution_count": 260,
     "metadata": {},
     "output_type": "execute_result"
    }
   ],
   "source": [
    "text.center(20,'*')"
   ]
  },
  {
   "cell_type": "code",
   "execution_count": 261,
   "id": "71144f28",
   "metadata": {},
   "outputs": [
    {
     "data": {
      "text/plain": [
       "'         Hello World'"
      ]
     },
     "execution_count": 261,
     "metadata": {},
     "output_type": "execute_result"
    }
   ],
   "source": [
    "format(text, '>20')"
   ]
  },
  {
   "cell_type": "code",
   "execution_count": 262,
   "id": "f9eaf901",
   "metadata": {},
   "outputs": [
    {
     "data": {
      "text/plain": [
       "'Hello World         '"
      ]
     },
     "execution_count": 262,
     "metadata": {},
     "output_type": "execute_result"
    }
   ],
   "source": [
    "format(text, '<20')"
   ]
  },
  {
   "cell_type": "code",
   "execution_count": 263,
   "id": "1fefe3d6",
   "metadata": {},
   "outputs": [
    {
     "data": {
      "text/plain": [
       "'    Hello World     '"
      ]
     },
     "execution_count": 263,
     "metadata": {},
     "output_type": "execute_result"
    }
   ],
   "source": [
    "format(text, '^20')"
   ]
  },
  {
   "cell_type": "code",
   "execution_count": 264,
   "id": "12ed35d0",
   "metadata": {},
   "outputs": [
    {
     "data": {
      "text/plain": [
       "'=========Hello World'"
      ]
     },
     "execution_count": 264,
     "metadata": {},
     "output_type": "execute_result"
    }
   ],
   "source": [
    "format(text, '=>20s')"
   ]
  },
  {
   "cell_type": "code",
   "execution_count": 265,
   "id": "b04aa7f1",
   "metadata": {},
   "outputs": [
    {
     "data": {
      "text/plain": [
       "'****Hello World*****'"
      ]
     },
     "execution_count": 265,
     "metadata": {},
     "output_type": "execute_result"
    }
   ],
   "source": [
    "format(text, '*^20s')"
   ]
  },
  {
   "cell_type": "code",
   "execution_count": 266,
   "id": "97387087",
   "metadata": {},
   "outputs": [
    {
     "data": {
      "text/plain": [
       "'     Hello      World'"
      ]
     },
     "execution_count": 266,
     "metadata": {},
     "output_type": "execute_result"
    }
   ],
   "source": [
    "'{:>10s} {:>10s}'.format('Hello', 'World')"
   ]
  },
  {
   "cell_type": "code",
   "execution_count": 267,
   "id": "11628e10",
   "metadata": {},
   "outputs": [],
   "source": [
    " x = 1.2345"
   ]
  },
  {
   "cell_type": "code",
   "execution_count": 268,
   "id": "961931ca",
   "metadata": {},
   "outputs": [
    {
     "data": {
      "text/plain": [
       "'    1.2345'"
      ]
     },
     "execution_count": 268,
     "metadata": {},
     "output_type": "execute_result"
    }
   ],
   "source": [
    " format(x, '>10')"
   ]
  },
  {
   "cell_type": "code",
   "execution_count": 269,
   "id": "33356a61",
   "metadata": {},
   "outputs": [
    {
     "data": {
      "text/plain": [
       "'   1.23   '"
      ]
     },
     "execution_count": 269,
     "metadata": {},
     "output_type": "execute_result"
    }
   ],
   "source": [
    "format(x, '^10.2f')"
   ]
  },
  {
   "cell_type": "code",
   "execution_count": 270,
   "id": "e2c8a283",
   "metadata": {},
   "outputs": [
    {
     "data": {
      "text/plain": [
       "'Hello World         '"
      ]
     },
     "execution_count": 270,
     "metadata": {},
     "output_type": "execute_result"
    }
   ],
   "source": [
    "'%-20s' % text"
   ]
  },
  {
   "cell_type": "code",
   "execution_count": 271,
   "id": "3f4deb50",
   "metadata": {},
   "outputs": [
    {
     "data": {
      "text/plain": [
       "'         Hello World'"
      ]
     },
     "execution_count": 271,
     "metadata": {},
     "output_type": "execute_result"
    }
   ],
   "source": [
    "'%20s' % text"
   ]
  },
  {
   "cell_type": "markdown",
   "id": "78e7c921",
   "metadata": {},
   "source": [
    "\n",
    "\n",
    "\n",
    "\n",
    "\n",
    "\n",
    "\n",
    "# 2.14 Combining and concatening Strings "
   ]
  },
  {
   "cell_type": "code",
   "execution_count": 272,
   "id": "5acf33be",
   "metadata": {},
   "outputs": [],
   "source": [
    "parts = ['Is', 'Chicago', 'Not', 'Chicago?']"
   ]
  },
  {
   "cell_type": "code",
   "execution_count": 273,
   "id": "f4038008",
   "metadata": {},
   "outputs": [
    {
     "data": {
      "text/plain": [
       "'Is Chicago Not Chicago?'"
      ]
     },
     "execution_count": 273,
     "metadata": {},
     "output_type": "execute_result"
    }
   ],
   "source": [
    "' '.join(parts)"
   ]
  },
  {
   "cell_type": "code",
   "execution_count": 274,
   "id": "fd022bd0",
   "metadata": {},
   "outputs": [
    {
     "data": {
      "text/plain": [
       "'Is,Chicago,Not,Chicago?'"
      ]
     },
     "execution_count": 274,
     "metadata": {},
     "output_type": "execute_result"
    }
   ],
   "source": [
    "','.join(parts)"
   ]
  },
  {
   "cell_type": "code",
   "execution_count": 275,
   "id": "4c44e002",
   "metadata": {},
   "outputs": [
    {
     "data": {
      "text/plain": [
       "'IsChicagoNotChicago?'"
      ]
     },
     "execution_count": 275,
     "metadata": {},
     "output_type": "execute_result"
    }
   ],
   "source": [
    "''.join(parts)"
   ]
  },
  {
   "cell_type": "code",
   "execution_count": 276,
   "id": "5801116b",
   "metadata": {},
   "outputs": [],
   "source": [
    "a = 'Is Chicago'"
   ]
  },
  {
   "cell_type": "code",
   "execution_count": 277,
   "id": "3c191d06",
   "metadata": {},
   "outputs": [],
   "source": [
    "b = 'Not Chicago?'"
   ]
  },
  {
   "cell_type": "code",
   "execution_count": 278,
   "id": "d87882ab",
   "metadata": {},
   "outputs": [
    {
     "data": {
      "text/plain": [
       "'Is Chicago Not Chicago?'"
      ]
     },
     "execution_count": 278,
     "metadata": {},
     "output_type": "execute_result"
    }
   ],
   "source": [
    "a + ' ' + b"
   ]
  },
  {
   "cell_type": "code",
   "execution_count": 279,
   "id": "93c7a032",
   "metadata": {},
   "outputs": [
    {
     "name": "stdout",
     "output_type": "stream",
     "text": [
      "Is Chicago Not Chicago?\n"
     ]
    }
   ],
   "source": [
    "print('{} {}'.format(a,b))"
   ]
  },
  {
   "cell_type": "code",
   "execution_count": 280,
   "id": "d67f4291",
   "metadata": {},
   "outputs": [
    {
     "name": "stdout",
     "output_type": "stream",
     "text": [
      "Is Chicago Not Chicago?\n"
     ]
    }
   ],
   "source": [
    " print(a + ' ' + b)"
   ]
  },
  {
   "cell_type": "code",
   "execution_count": 281,
   "id": "ec8b2979",
   "metadata": {},
   "outputs": [],
   "source": [
    "#-----------------------------------------------------"
   ]
  },
  {
   "cell_type": "code",
   "execution_count": 282,
   "id": "1cc8a156",
   "metadata": {},
   "outputs": [],
   "source": [
    "a = 'Hello' 'World'"
   ]
  },
  {
   "cell_type": "code",
   "execution_count": 283,
   "id": "1d4e6b6e",
   "metadata": {},
   "outputs": [
    {
     "data": {
      "text/plain": [
       "'HelloWorld'"
      ]
     },
     "execution_count": 283,
     "metadata": {},
     "output_type": "execute_result"
    }
   ],
   "source": [
    "a"
   ]
  },
  {
   "cell_type": "code",
   "execution_count": 13,
   "id": "2bf65e2e",
   "metadata": {},
   "outputs": [
    {
     "ename": "NameError",
     "evalue": "name 'parts' is not defined",
     "output_type": "error",
     "traceback": [
      "\u001b[0;31m---------------------------------------------------------------------------\u001b[0m",
      "\u001b[0;31mNameError\u001b[0m                                 Traceback (most recent call last)",
      "Input \u001b[0;32mIn [13]\u001b[0m, in \u001b[0;36m<cell line: 2>\u001b[0;34m()\u001b[0m\n\u001b[1;32m      1\u001b[0m s \u001b[38;5;241m=\u001b[39m \u001b[38;5;124m'\u001b[39m\u001b[38;5;124m'\u001b[39m\n\u001b[0;32m----> 2\u001b[0m \u001b[38;5;28;01mfor\u001b[39;00m p \u001b[38;5;129;01min\u001b[39;00m \u001b[43mparts\u001b[49m:\n\u001b[1;32m      3\u001b[0m     s \u001b[38;5;241m+\u001b[39m\u001b[38;5;241m=\u001b[39m p\n",
      "\u001b[0;31mNameError\u001b[0m: name 'parts' is not defined"
     ]
    }
   ],
   "source": [
    "s = ''\n",
    "for p in parts:\n",
    "    s += p\n"
   ]
  },
  {
   "cell_type": "code",
   "execution_count": 285,
   "id": "0dd26d7d",
   "metadata": {},
   "outputs": [],
   "source": [
    "data = ['ACME', 50, 91.1]"
   ]
  },
  {
   "cell_type": "code",
   "execution_count": 286,
   "id": "c09137e3",
   "metadata": {},
   "outputs": [
    {
     "data": {
      "text/plain": [
       "'ACME,50,91.1'"
      ]
     },
     "execution_count": 286,
     "metadata": {},
     "output_type": "execute_result"
    }
   ],
   "source": [
    "','.join(str(d) for d in data)"
   ]
  },
  {
   "cell_type": "markdown",
   "id": "8325123c",
   "metadata": {},
   "source": [
    "\n",
    "\n",
    "\n",
    "\n",
    "\n",
    "\n",
    "# 2.15 Interpolating Variables in strings "
   ]
  },
  {
   "cell_type": "code",
   "execution_count": 289,
   "id": "9a6c8ee0",
   "metadata": {},
   "outputs": [],
   "source": [
    " s = '{name} has {n} messages.'"
   ]
  },
  {
   "cell_type": "code",
   "execution_count": 290,
   "id": "624ccfba",
   "metadata": {},
   "outputs": [
    {
     "data": {
      "text/plain": [
       "'Guido has 37 messages.'"
      ]
     },
     "execution_count": 290,
     "metadata": {},
     "output_type": "execute_result"
    }
   ],
   "source": [
    "s.format(name='Guido', n=37)"
   ]
  },
  {
   "cell_type": "code",
   "execution_count": 291,
   "id": "2446d5aa",
   "metadata": {},
   "outputs": [],
   "source": [
    "name = 'Guido'"
   ]
  },
  {
   "cell_type": "code",
   "execution_count": 292,
   "id": "e2d21e30",
   "metadata": {},
   "outputs": [],
   "source": [
    "n = 37"
   ]
  },
  {
   "cell_type": "code",
   "execution_count": 293,
   "id": "e2ce58dd",
   "metadata": {},
   "outputs": [
    {
     "data": {
      "text/plain": [
       "'Guido has 37 messages.'"
      ]
     },
     "execution_count": 293,
     "metadata": {},
     "output_type": "execute_result"
    }
   ],
   "source": [
    "s.format_map(vars())"
   ]
  },
  {
   "cell_type": "code",
   "execution_count": 296,
   "id": "64b7e9bb",
   "metadata": {},
   "outputs": [],
   "source": [
    "class Info:\n",
    "    def __init__(self,name,n):\n",
    "        self.name = name\n",
    "        self.n = n"
   ]
  },
  {
   "cell_type": "code",
   "execution_count": 297,
   "id": "7ca18f35",
   "metadata": {},
   "outputs": [],
   "source": [
    "a = Info('Guido',37)"
   ]
  },
  {
   "cell_type": "code",
   "execution_count": 298,
   "id": "dc4c3440",
   "metadata": {},
   "outputs": [
    {
     "data": {
      "text/plain": [
       "'Guido has 37 messages.'"
      ]
     },
     "execution_count": 298,
     "metadata": {},
     "output_type": "execute_result"
    }
   ],
   "source": [
    "s.format_map(vars(a))"
   ]
  },
  {
   "cell_type": "code",
   "execution_count": 299,
   "id": "ac63fc0d",
   "metadata": {},
   "outputs": [
    {
     "ename": "KeyError",
     "evalue": "'n'",
     "output_type": "error",
     "traceback": [
      "\u001b[0;31m---------------------------------------------------------------------------\u001b[0m",
      "\u001b[0;31mKeyError\u001b[0m                                  Traceback (most recent call last)",
      "Input \u001b[0;32mIn [299]\u001b[0m, in \u001b[0;36m<cell line: 1>\u001b[0;34m()\u001b[0m\n\u001b[0;32m----> 1\u001b[0m \u001b[43ms\u001b[49m\u001b[38;5;241;43m.\u001b[39;49m\u001b[43mformat\u001b[49m\u001b[43m(\u001b[49m\u001b[43mname\u001b[49m\u001b[38;5;241;43m=\u001b[39;49m\u001b[38;5;124;43m'\u001b[39;49m\u001b[38;5;124;43mGuido\u001b[39;49m\u001b[38;5;124;43m'\u001b[39;49m\u001b[43m)\u001b[49m\n",
      "\u001b[0;31mKeyError\u001b[0m: 'n'"
     ]
    }
   ],
   "source": [
    "s.format(name='Guido')"
   ]
  },
  {
   "cell_type": "code",
   "execution_count": 301,
   "id": "3ab10922",
   "metadata": {},
   "outputs": [],
   "source": [
    "class safesub(dict):\n",
    "    def __missing__(self, key):\n",
    "        return '{' + key + '}'"
   ]
  },
  {
   "cell_type": "code",
   "execution_count": 302,
   "id": "4e4dbf18",
   "metadata": {},
   "outputs": [],
   "source": [
    "del n"
   ]
  },
  {
   "cell_type": "code",
   "execution_count": 303,
   "id": "d4f5c4a2",
   "metadata": {},
   "outputs": [
    {
     "data": {
      "text/plain": [
       "'Guido has {n} messages.'"
      ]
     },
     "execution_count": 303,
     "metadata": {},
     "output_type": "execute_result"
    }
   ],
   "source": [
    "s.format_map(safesub(vars()))"
   ]
  },
  {
   "cell_type": "code",
   "execution_count": 304,
   "id": "2db5f72c",
   "metadata": {},
   "outputs": [],
   "source": [
    "import sys"
   ]
  },
  {
   "cell_type": "code",
   "execution_count": 306,
   "id": "8342c488",
   "metadata": {},
   "outputs": [],
   "source": [
    "def sub(text):\n",
    "    return text.format_map(safesub(sys._getframe(1).f_locals))"
   ]
  },
  {
   "cell_type": "code",
   "execution_count": 307,
   "id": "b0121b1b",
   "metadata": {},
   "outputs": [],
   "source": [
    "name = 'Guido'"
   ]
  },
  {
   "cell_type": "code",
   "execution_count": 308,
   "id": "3055ec15",
   "metadata": {},
   "outputs": [],
   "source": [
    "n = 37"
   ]
  },
  {
   "cell_type": "code",
   "execution_count": 309,
   "id": "a251bdf0",
   "metadata": {},
   "outputs": [
    {
     "name": "stdout",
     "output_type": "stream",
     "text": [
      "Hello Guido\n"
     ]
    }
   ],
   "source": [
    "print(sub('Hello {name}'))"
   ]
  },
  {
   "cell_type": "code",
   "execution_count": 310,
   "id": "62cbc42d",
   "metadata": {},
   "outputs": [
    {
     "name": "stdout",
     "output_type": "stream",
     "text": [
      "You have 37 messages.\n"
     ]
    }
   ],
   "source": [
    "print(sub('You have {n} messages.'))"
   ]
  },
  {
   "cell_type": "code",
   "execution_count": 311,
   "id": "c646c995",
   "metadata": {},
   "outputs": [
    {
     "name": "stdout",
     "output_type": "stream",
     "text": [
      "Your favorite color is {color}\n"
     ]
    }
   ],
   "source": [
    "print(sub('Your favorite color is {color}'))"
   ]
  },
  {
   "cell_type": "code",
   "execution_count": 312,
   "id": "bb9361d5",
   "metadata": {},
   "outputs": [],
   "source": [
    "#--------------------------------------------------------------"
   ]
  },
  {
   "cell_type": "code",
   "execution_count": 313,
   "id": "37ea64a2",
   "metadata": {},
   "outputs": [],
   "source": [
    "name = 'Guido'\n"
   ]
  },
  {
   "cell_type": "code",
   "execution_count": 314,
   "id": "91cacb78",
   "metadata": {},
   "outputs": [],
   "source": [
    "n = 37"
   ]
  },
  {
   "cell_type": "code",
   "execution_count": null,
   "id": "311fa8ac",
   "metadata": {},
   "outputs": [],
   "source": [
    "#----------------------------------------------------------------"
   ]
  },
  {
   "cell_type": "code",
   "execution_count": 316,
   "id": "a2617232",
   "metadata": {},
   "outputs": [],
   "source": [
    "import string"
   ]
  },
  {
   "cell_type": "code",
   "execution_count": 317,
   "id": "abf70b0d",
   "metadata": {},
   "outputs": [],
   "source": [
    "s = string.Template('$name has $n messages.')"
   ]
  },
  {
   "cell_type": "code",
   "execution_count": 319,
   "id": "5972363a",
   "metadata": {},
   "outputs": [
    {
     "data": {
      "text/plain": [
       "'Guido has 37 messages.'"
      ]
     },
     "execution_count": 319,
     "metadata": {},
     "output_type": "execute_result"
    }
   ],
   "source": [
    " s.substitute(vars())"
   ]
  },
  {
   "cell_type": "markdown",
   "id": "a4cae02e",
   "metadata": {},
   "source": [
    "\n",
    "\n",
    "\n",
    "\n",
    "\n",
    "\n",
    "# 2.16 Reformatting Text to a fixed Number if Columns "
   ]
  },
  {
   "cell_type": "code",
   "execution_count": 320,
   "id": "7dbae45c",
   "metadata": {},
   "outputs": [],
   "source": [
    "s = \"Look into my eyes, look into my eyes, the eyes, the eyes, \\\n",
    "the eyes, not around the eyes, don't look around the eyes, \\\n",
    "look into my eyes, you're under.\""
   ]
  },
  {
   "cell_type": "code",
   "execution_count": 321,
   "id": "ec5dfd36",
   "metadata": {},
   "outputs": [],
   "source": [
    "import textwrap"
   ]
  },
  {
   "cell_type": "code",
   "execution_count": 322,
   "id": "08b395e4",
   "metadata": {},
   "outputs": [
    {
     "name": "stdout",
     "output_type": "stream",
     "text": [
      "Look into my eyes, look into my eyes, the eyes, the eyes, \\ the eyes,\n",
      "not around the eyes, don't look around the eyes, \\ look into my eyes,\n",
      "you're under.\n"
     ]
    }
   ],
   "source": [
    "print(textwrap.fill(s, 70))"
   ]
  },
  {
   "cell_type": "code",
   "execution_count": 323,
   "id": "14500a51",
   "metadata": {},
   "outputs": [
    {
     "name": "stdout",
     "output_type": "stream",
     "text": [
      "Look into my eyes, look into my eyes,\n",
      "the eyes, the eyes, \\ the eyes, not\n",
      "around the eyes, don't look around the\n",
      "eyes, \\ look into my eyes, you're under.\n"
     ]
    }
   ],
   "source": [
    " print(textwrap.fill(s, 40))\n"
   ]
  },
  {
   "cell_type": "code",
   "execution_count": 324,
   "id": "503f53b1",
   "metadata": {},
   "outputs": [
    {
     "name": "stdout",
     "output_type": "stream",
     "text": [
      "      Look into my eyes, look into my\n",
      "eyes, the eyes, the eyes, \\ the eyes,\n",
      "not around the eyes, don't look around\n",
      "the eyes, \\ look into my eyes, you're\n",
      "under.\n"
     ]
    }
   ],
   "source": [
    "print(textwrap.fill(s, 40, initial_indent='      '))"
   ]
  },
  {
   "cell_type": "code",
   "execution_count": 325,
   "id": "ca97f54f",
   "metadata": {},
   "outputs": [
    {
     "name": "stdout",
     "output_type": "stream",
     "text": [
      "Look into my eyes, look into my eyes,\n",
      "       the eyes, the eyes, \\ the eyes,\n",
      "       not around the eyes, don't look\n",
      "       around the eyes, \\ look into my\n",
      "       eyes, you're under.\n"
     ]
    }
   ],
   "source": [
    "print(textwrap.fill(s, 40, subsequent_indent='       '))"
   ]
  },
  {
   "cell_type": "code",
   "execution_count": 326,
   "id": "17beaffc",
   "metadata": {},
   "outputs": [],
   "source": [
    "#------------------os.get_terminal_size()------------------------------"
   ]
  },
  {
   "cell_type": "code",
   "execution_count": 327,
   "id": "830756aa",
   "metadata": {},
   "outputs": [],
   "source": [
    "import os"
   ]
  },
  {
   "cell_type": "code",
   "execution_count": 328,
   "id": "9864f69d",
   "metadata": {},
   "outputs": [
    {
     "ename": "OSError",
     "evalue": "[Errno 25] Inappropriate ioctl for device",
     "output_type": "error",
     "traceback": [
      "\u001b[0;31m---------------------------------------------------------------------------\u001b[0m",
      "\u001b[0;31mOSError\u001b[0m                                   Traceback (most recent call last)",
      "Input \u001b[0;32mIn [328]\u001b[0m, in \u001b[0;36m<cell line: 1>\u001b[0;34m()\u001b[0m\n\u001b[0;32m----> 1\u001b[0m \u001b[43mos\u001b[49m\u001b[38;5;241;43m.\u001b[39;49m\u001b[43mget_terminal_size\u001b[49m\u001b[43m(\u001b[49m\u001b[43m)\u001b[49m\u001b[38;5;241m.\u001b[39mcolumns\n",
      "\u001b[0;31mOSError\u001b[0m: [Errno 25] Inappropriate ioctl for device"
     ]
    }
   ],
   "source": [
    "os.get_terminal_size().columns"
   ]
  },
  {
   "cell_type": "markdown",
   "id": "19a313b6",
   "metadata": {},
   "source": [
    "\n",
    "\n",
    "\n",
    "\n",
    "\n",
    "\n",
    "2.17 Handling HTML and XML Entities in Text"
   ]
  },
  {
   "cell_type": "code",
   "execution_count": 330,
   "id": "ec4e6c12",
   "metadata": {},
   "outputs": [],
   "source": [
    "s = 'Elements are written as \"<tag>text</tag>\".'"
   ]
  },
  {
   "cell_type": "code",
   "execution_count": 331,
   "id": "e9d43dda",
   "metadata": {},
   "outputs": [],
   "source": [
    "import html"
   ]
  },
  {
   "cell_type": "code",
   "execution_count": 332,
   "id": "d2158c59",
   "metadata": {},
   "outputs": [
    {
     "name": "stdout",
     "output_type": "stream",
     "text": [
      "Elements are written as \"<tag>text</tag>\".\n"
     ]
    }
   ],
   "source": [
    "print(s)"
   ]
  },
  {
   "cell_type": "code",
   "execution_count": 333,
   "id": "67fe1927",
   "metadata": {},
   "outputs": [
    {
     "name": "stdout",
     "output_type": "stream",
     "text": [
      "Elements are written as &quot;&lt;tag&gt;text&lt;/tag&gt;&quot;.\n"
     ]
    }
   ],
   "source": [
    "print(html.escape(s))"
   ]
  },
  {
   "cell_type": "code",
   "execution_count": 334,
   "id": "b599d1f4",
   "metadata": {},
   "outputs": [],
   "source": [
    "# Disable escaping of quotes"
   ]
  },
  {
   "cell_type": "code",
   "execution_count": 335,
   "id": "bf7fb9bb",
   "metadata": {},
   "outputs": [
    {
     "name": "stdout",
     "output_type": "stream",
     "text": [
      "Elements are written as \"&lt;tag&gt;text&lt;/tag&gt;\".\n"
     ]
    }
   ],
   "source": [
    "print(html.escape(s, quote=False))"
   ]
  },
  {
   "cell_type": "code",
   "execution_count": 336,
   "id": "c790870c",
   "metadata": {},
   "outputs": [],
   "source": [
    "#-----------------------emit text as ASCII-------------------------------"
   ]
  },
  {
   "cell_type": "code",
   "execution_count": 337,
   "id": "9de50e86",
   "metadata": {},
   "outputs": [],
   "source": [
    "s = 'Spicy Jalapeño'"
   ]
  },
  {
   "cell_type": "code",
   "execution_count": 338,
   "id": "c549f51d",
   "metadata": {},
   "outputs": [
    {
     "data": {
      "text/plain": [
       "b'Spicy Jalape&#241;o'"
      ]
     },
     "execution_count": 338,
     "metadata": {},
     "output_type": "execute_result"
    }
   ],
   "source": [
    "s.encode('ascii', errors='xmlcharrefreplace')"
   ]
  },
  {
   "cell_type": "code",
   "execution_count": 339,
   "id": "fa7624c0",
   "metadata": {},
   "outputs": [],
   "source": [
    "#----------------------------------------------------------------"
   ]
  },
  {
   "cell_type": "code",
   "execution_count": 340,
   "id": "8d7aef13",
   "metadata": {},
   "outputs": [],
   "source": [
    " s = 'Spicy &quot;Jalape&#241;o&quot.'"
   ]
  },
  {
   "cell_type": "code",
   "execution_count": 341,
   "id": "f9291377",
   "metadata": {},
   "outputs": [],
   "source": [
    "from html.parser import HTMLParser"
   ]
  },
  {
   "cell_type": "code",
   "execution_count": 342,
   "id": "98b2b255",
   "metadata": {},
   "outputs": [],
   "source": [
    "p = HTMLParser()"
   ]
  },
  {
   "cell_type": "code",
   "execution_count": 343,
   "id": "80706937",
   "metadata": {},
   "outputs": [
    {
     "ename": "AttributeError",
     "evalue": "'HTMLParser' object has no attribute 'unescape'",
     "output_type": "error",
     "traceback": [
      "\u001b[0;31m---------------------------------------------------------------------------\u001b[0m",
      "\u001b[0;31mAttributeError\u001b[0m                            Traceback (most recent call last)",
      "Input \u001b[0;32mIn [343]\u001b[0m, in \u001b[0;36m<cell line: 1>\u001b[0;34m()\u001b[0m\n\u001b[0;32m----> 1\u001b[0m \u001b[43mp\u001b[49m\u001b[38;5;241;43m.\u001b[39;49m\u001b[43munescape\u001b[49m(s)\n",
      "\u001b[0;31mAttributeError\u001b[0m: 'HTMLParser' object has no attribute 'unescape'"
     ]
    }
   ],
   "source": [
    "p.unescape(s)"
   ]
  },
  {
   "cell_type": "code",
   "execution_count": 344,
   "id": "86b016b4",
   "metadata": {},
   "outputs": [],
   "source": [
    "t = 'The prompt is &gt;&gt;&gt;'"
   ]
  },
  {
   "cell_type": "code",
   "execution_count": 345,
   "id": "0cf5ecbb",
   "metadata": {},
   "outputs": [],
   "source": [
    "from xml.sax.saxutils import unescape"
   ]
  },
  {
   "cell_type": "code",
   "execution_count": 346,
   "id": "361a9d97",
   "metadata": {},
   "outputs": [
    {
     "data": {
      "text/plain": [
       "'The prompt is >>>'"
      ]
     },
     "execution_count": 346,
     "metadata": {},
     "output_type": "execute_result"
    }
   ],
   "source": [
    "unescape(t)"
   ]
  },
  {
   "cell_type": "markdown",
   "id": "68300562",
   "metadata": {},
   "source": [
    "\n",
    "\n",
    "\n",
    "\n",
    "\n",
    "# 2.18 Tokenizing Text "
   ]
  },
  {
   "cell_type": "code",
   "execution_count": 347,
   "id": "c134742d",
   "metadata": {},
   "outputs": [],
   "source": [
    "text = 'foo = 23 + 42 * 10'"
   ]
  },
  {
   "cell_type": "code",
   "execution_count": 351,
   "id": "815c96bb",
   "metadata": {},
   "outputs": [
    {
     "ename": "SyntaxError",
     "evalue": "EOL while scanning string literal (2976007208.py, line 2)",
     "output_type": "error",
     "traceback": [
      "\u001b[0;36m  Input \u001b[0;32mIn [351]\u001b[0;36m\u001b[0m\n\u001b[0;31m    ('NUM', '42'), ('TIMES', '*'), ('NUM', 10')]\u001b[0m\n\u001b[0m                                                ^\u001b[0m\n\u001b[0;31mSyntaxError\u001b[0m\u001b[0;31m:\u001b[0m EOL while scanning string literal\n"
     ]
    }
   ],
   "source": [
    " tokens = [('NAME', 'foo'), ('EQ','='), ('NUM', '23'), ('PLUS','+'),\n",
    "           ('NUM', '42'), ('TIMES', '*'), ('NUM', 10')]"
   ]
  },
  {
   "cell_type": "code",
   "execution_count": 352,
   "id": "ace2bb58",
   "metadata": {},
   "outputs": [],
   "source": [
    "#------------------------------------------------------------------------"
   ]
  },
  {
   "cell_type": "code",
   "execution_count": 355,
   "id": "59869e89",
   "metadata": {},
   "outputs": [],
   "source": [
    "import re\n",
    "NAME = r'(?P<NAME>[a-zA-Z_][a-zA-Z_0-9]*)' \n",
    "NUM = r'(?P<NUM>\\d+)'\n",
    "PLUS = r'(?P<PLUS>\\+)'\n",
    "TIMES = r'(?P<TIMES>\\*)'\n",
    "EQ = r'(?P<EQ>=)'\n",
    "WS = r'(?P<WS>\\s+)'\n",
    "master_pat = re.compile('|'.join([NAME, NUM, PLUS, TIMES, EQ, WS]))"
   ]
  },
  {
   "cell_type": "code",
   "execution_count": null,
   "id": "042f9b11",
   "metadata": {},
   "outputs": [],
   "source": [
    "#-------------------------------------------------------------------------"
   ]
  },
  {
   "cell_type": "code",
   "execution_count": 356,
   "id": "bfaa23f8",
   "metadata": {},
   "outputs": [],
   "source": [
    "scanner = master_pat.scanner('foo = 42')"
   ]
  },
  {
   "cell_type": "code",
   "execution_count": 358,
   "id": "b885c610",
   "metadata": {},
   "outputs": [
    {
     "data": {
      "text/plain": [
       "<re.Match object; span=(0, 3), match='foo'>"
      ]
     },
     "execution_count": 358,
     "metadata": {},
     "output_type": "execute_result"
    }
   ],
   "source": [
    "scanner.match()"
   ]
  },
  {
   "cell_type": "code",
   "execution_count": 359,
   "id": "a291db34",
   "metadata": {},
   "outputs": [
    {
     "data": {
      "text/plain": [
       "('NAME', 'foo')"
      ]
     },
     "execution_count": 359,
     "metadata": {},
     "output_type": "execute_result"
    }
   ],
   "source": [
    " _.lastgroup, _.group()"
   ]
  },
  {
   "cell_type": "code",
   "execution_count": 360,
   "id": "329e0779",
   "metadata": {},
   "outputs": [
    {
     "data": {
      "text/plain": [
       "<re.Match object; span=(3, 4), match=' '>"
      ]
     },
     "execution_count": 360,
     "metadata": {},
     "output_type": "execute_result"
    }
   ],
   "source": [
    " scanner.match()"
   ]
  },
  {
   "cell_type": "code",
   "execution_count": 361,
   "id": "c9c7b5b5",
   "metadata": {},
   "outputs": [
    {
     "data": {
      "text/plain": [
       "('WS', ' ')"
      ]
     },
     "execution_count": 361,
     "metadata": {},
     "output_type": "execute_result"
    }
   ],
   "source": [
    " _.lastgroup, _.group()"
   ]
  },
  {
   "cell_type": "code",
   "execution_count": 362,
   "id": "f881e4b1",
   "metadata": {},
   "outputs": [
    {
     "data": {
      "text/plain": [
       "<re.Match object; span=(4, 5), match='='>"
      ]
     },
     "execution_count": 362,
     "metadata": {},
     "output_type": "execute_result"
    }
   ],
   "source": [
    "scanner.match()"
   ]
  },
  {
   "cell_type": "code",
   "execution_count": 363,
   "id": "eb795613",
   "metadata": {},
   "outputs": [
    {
     "data": {
      "text/plain": [
       "('EQ', '=')"
      ]
     },
     "execution_count": 363,
     "metadata": {},
     "output_type": "execute_result"
    }
   ],
   "source": [
    "_.lastgroup, _.group()"
   ]
  },
  {
   "cell_type": "code",
   "execution_count": 364,
   "id": "89d71e25",
   "metadata": {},
   "outputs": [
    {
     "data": {
      "text/plain": [
       "<re.Match object; span=(5, 6), match=' '>"
      ]
     },
     "execution_count": 364,
     "metadata": {},
     "output_type": "execute_result"
    }
   ],
   "source": [
    "scanner.match()"
   ]
  },
  {
   "cell_type": "code",
   "execution_count": 365,
   "id": "fa187a60",
   "metadata": {},
   "outputs": [
    {
     "data": {
      "text/plain": [
       "('WS', ' ')"
      ]
     },
     "execution_count": 365,
     "metadata": {},
     "output_type": "execute_result"
    }
   ],
   "source": [
    "_.lastgroup, _.group()"
   ]
  },
  {
   "cell_type": "code",
   "execution_count": 366,
   "id": "8e6d7320",
   "metadata": {},
   "outputs": [
    {
     "data": {
      "text/plain": [
       "<re.Match object; span=(6, 8), match='42'>"
      ]
     },
     "execution_count": 366,
     "metadata": {},
     "output_type": "execute_result"
    }
   ],
   "source": [
    "scanner.match()"
   ]
  },
  {
   "cell_type": "code",
   "execution_count": 367,
   "id": "94113e91",
   "metadata": {},
   "outputs": [
    {
     "data": {
      "text/plain": [
       "('NUM', '42')"
      ]
     },
     "execution_count": 367,
     "metadata": {},
     "output_type": "execute_result"
    }
   ],
   "source": [
    "_.lastgroup, _.group()"
   ]
  },
  {
   "cell_type": "code",
   "execution_count": 368,
   "id": "310552db",
   "metadata": {},
   "outputs": [],
   "source": [
    "scanner.match()"
   ]
  },
  {
   "cell_type": "code",
   "execution_count": 369,
   "id": "4d3ad8c3",
   "metadata": {},
   "outputs": [],
   "source": [
    "#------------------------------------------------------------------------"
   ]
  },
  {
   "cell_type": "code",
   "execution_count": 370,
   "id": "66a8d771",
   "metadata": {},
   "outputs": [],
   "source": [
    "from collections import namedtuple"
   ]
  },
  {
   "cell_type": "code",
   "execution_count": 371,
   "id": "7343fca1",
   "metadata": {},
   "outputs": [],
   "source": [
    "Token = namedtuple('Token', ['type','value'])\n"
   ]
  },
  {
   "cell_type": "code",
   "execution_count": 374,
   "id": "16dc79ee",
   "metadata": {},
   "outputs": [],
   "source": [
    "def generate_tokens(pat, text):\n",
    "    scanner = pat.scanner(text)\n",
    "    for m in iter(scanner.match, None):\n",
    "        yield Token(m.lastgroup, m.group())"
   ]
  },
  {
   "cell_type": "code",
   "execution_count": null,
   "id": "c7b1ba89",
   "metadata": {},
   "outputs": [],
   "source": [
    "# Example use"
   ]
  },
  {
   "cell_type": "code",
   "execution_count": 375,
   "id": "f627ca33",
   "metadata": {},
   "outputs": [
    {
     "name": "stdout",
     "output_type": "stream",
     "text": [
      "Token(type='NAME', value='foo')\n",
      "Token(type='WS', value=' ')\n",
      "Token(type='EQ', value='=')\n",
      "Token(type='WS', value=' ')\n",
      "Token(type='NUM', value='42')\n"
     ]
    }
   ],
   "source": [
    "for tok in generate_tokens(master_pat, 'foo = 42'): \n",
    "    print(tok)"
   ]
  },
  {
   "cell_type": "code",
   "execution_count": 376,
   "id": "5a3a1843",
   "metadata": {},
   "outputs": [],
   "source": [
    "#---------------------------------------"
   ]
  },
  {
   "cell_type": "code",
   "execution_count": 377,
   "id": "ea2d3da4",
   "metadata": {},
   "outputs": [
    {
     "name": "stdout",
     "output_type": "stream",
     "text": [
      "Token(type='NAME', value='foo')\n",
      "Token(type='EQ', value='=')\n",
      "Token(type='NUM', value='23')\n",
      "Token(type='PLUS', value='+')\n",
      "Token(type='NUM', value='42')\n",
      "Token(type='TIMES', value='*')\n",
      "Token(type='NUM', value='10')\n"
     ]
    }
   ],
   "source": [
    "tokens = (tok for tok in generate_tokens(master_pat, text) \n",
    "          if tok.type != 'WS')\n",
    "for tok in tokens: \n",
    "    print(tok)\n"
   ]
  },
  {
   "cell_type": "code",
   "execution_count": 378,
   "id": "ec3dc677",
   "metadata": {},
   "outputs": [],
   "source": [
    "#---------------------------------------------------------------"
   ]
  },
  {
   "cell_type": "code",
   "execution_count": 379,
   "id": "0080698d",
   "metadata": {},
   "outputs": [],
   "source": [
    "    LT = r'(?P<LT><)'\n",
    "    LE = r'(?P<LE><=)'\n",
    "    EQ = r'(?P<EQ>=)'\n"
   ]
  },
  {
   "cell_type": "code",
   "execution_count": 380,
   "id": "fc6ce25a",
   "metadata": {},
   "outputs": [],
   "source": [
    "master_pat = re.compile('|'.join([LE, LT, EQ]))"
   ]
  },
  {
   "cell_type": "code",
   "execution_count": 381,
   "id": "cb988ec9",
   "metadata": {},
   "outputs": [],
   "source": [
    "# master_pat = re.compile('|'.join([LT, LE, EQ])) # Incorrect"
   ]
  },
  {
   "cell_type": "code",
   "execution_count": 382,
   "id": "e2ac8679",
   "metadata": {},
   "outputs": [],
   "source": [
    "#-----------------------------------------"
   ]
  },
  {
   "cell_type": "code",
   "execution_count": 383,
   "id": "28a1d7d1",
   "metadata": {},
   "outputs": [],
   "source": [
    " PRINT = r'(P<PRINT>print)'"
   ]
  },
  {
   "cell_type": "code",
   "execution_count": 384,
   "id": "be1560e9",
   "metadata": {},
   "outputs": [],
   "source": [
    "NAME  = r'(P<NAME>[a-zA-Z_][a-zA-Z_0-9]*)'"
   ]
  },
  {
   "cell_type": "code",
   "execution_count": 385,
   "id": "cb61ef8f",
   "metadata": {},
   "outputs": [],
   "source": [
    "master_pat = re.compile('|'.join([PRINT, NAME]))"
   ]
  },
  {
   "cell_type": "code",
   "execution_count": 387,
   "id": "eb8a4ded",
   "metadata": {},
   "outputs": [],
   "source": [
    "for tok in generate_tokens(master_pat, 'printer'):\n",
    "    print(tok)"
   ]
  },
  {
   "cell_type": "markdown",
   "id": "588105e0",
   "metadata": {},
   "source": [
    "\n",
    "\n",
    "\n",
    "\n",
    "\n",
    "# 2.19 Writing a Simple Recursive Descent Parser "
   ]
  },
  {
   "cell_type": "code",
   "execution_count": 389,
   "id": "3351364d",
   "metadata": {},
   "outputs": [],
   "source": [
    "import re\n",
    "import collections"
   ]
  },
  {
   "cell_type": "code",
   "execution_count": 390,
   "id": "397ae02e",
   "metadata": {},
   "outputs": [],
   "source": [
    "# Token specification\n",
    "NUM    = r'(?P<NUM>\\d+)'\n",
    "PLUS   = r'(?P<PLUS>\\+)'\n",
    "MINUS  = r'(?P<MINUS>-)'\n",
    "TIMES  = r'(?P<TIMES>\\*)'\n",
    "DIVIDE = r'(?P<DIVIDE>/)'\n",
    "LPAREN = r'(?P<LPAREN>\\()'\n",
    "RPAREN = r'(?P<RPAREN>\\))'\n",
    "WS     = r'(?P<WS>\\s+)'"
   ]
  },
  {
   "cell_type": "code",
   "execution_count": 391,
   "id": "8b4c9de2",
   "metadata": {},
   "outputs": [],
   "source": [
    "master_pat = re.compile('|'.join([NUM, PLUS, MINUS, TIMES,\n",
    "                                  DIVIDE, LPAREN, RPAREN, WS]))"
   ]
  },
  {
   "cell_type": "code",
   "execution_count": 392,
   "id": "52fe7c23",
   "metadata": {},
   "outputs": [],
   "source": [
    "# Tokenizer\n",
    "Token = collections.namedtuple('Token', ['type','value'])\n"
   ]
  },
  {
   "cell_type": "code",
   "execution_count": 395,
   "id": "9e40a8af",
   "metadata": {},
   "outputs": [],
   "source": [
    "def generate_tokens(text):\n",
    "    scanner = master_pat.scanner(text) \n",
    "    for m in iter(scanner.match, None):\n",
    "        tok = Token(m.lastgroup, m.group()) \n",
    "        if tok.type != 'WS':\n",
    "            yield tok\n"
   ]
  },
  {
   "cell_type": "code",
   "execution_count": 396,
   "id": "65a04bd9",
   "metadata": {},
   "outputs": [],
   "source": [
    "\n",
    "# Parser"
   ]
  },
  {
   "cell_type": "code",
   "execution_count": 398,
   "id": "4fa20cfd",
   "metadata": {},
   "outputs": [],
   "source": [
    "def parse(self,text):\n",
    "    self.tokens = generate_tokens(text)\n",
    "    self.tok = None \n",
    "    self.nexttok = None\n",
    "    self._advance() \n",
    "    return self.expr()"
   ]
  },
  {
   "cell_type": "code",
   "execution_count": 401,
   "id": "9eb1b9d4",
   "metadata": {},
   "outputs": [],
   "source": [
    "def _advance(self):\n",
    "    'Advance one token ahead'\n",
    "    self.tok, self.nexttok = self.nexttok, next(self.tokens, None)"
   ]
  },
  {
   "cell_type": "code",
   "execution_count": 404,
   "id": "390a532f",
   "metadata": {},
   "outputs": [],
   "source": [
    "def _accept(self,toktype):\n",
    "    'Test and consume the next token if it matches toktype'\n",
    "    if self.nexttok and self.nexttok.type == toktype:\n",
    "        self._advance()\n",
    "        return True \n",
    "    else:\n",
    "        return False"
   ]
  },
  {
   "cell_type": "code",
   "execution_count": 405,
   "id": "a691d2e3",
   "metadata": {},
   "outputs": [],
   "source": [
    "def _expect(self,toktype):\n",
    "    'Consume next token if it matches toktype or raise SyntaxError'\n",
    "    if not self._accept(toktype):\n",
    "        raise SyntaxError('Expected ' + toktype)"
   ]
  },
  {
   "cell_type": "code",
   "execution_count": 406,
   "id": "dc48b0ab",
   "metadata": {},
   "outputs": [],
   "source": [
    "# Grammar rules follow"
   ]
  },
  {
   "cell_type": "code",
   "execution_count": 418,
   "id": "e0bff1f3",
   "metadata": {},
   "outputs": [],
   "source": [
    "def expr(self):\n",
    "    \"expression ::= term { ('+'|'-') term }*\"\n",
    "     \n",
    "    exprval = self.term()\n",
    "    while self._accept('PLUS') or self._accept('MINUS'):\n",
    "         op = self.tok.type \n",
    "    right = self.term() \n",
    "    if op == 'PLUS':\n",
    "            exprval += right \n",
    "    elif op == 'MINUS':\n",
    "            exprval -= right \n",
    "    return exprval"
   ]
  },
  {
   "cell_type": "code",
   "execution_count": 421,
   "id": "f6496580",
   "metadata": {},
   "outputs": [],
   "source": [
    "def term(self):\n",
    "    \"term ::= factor { ('*'|'/') factor }*\"\n",
    "    \n",
    "    termval = self.factor()\n",
    "    while self._accept('TIMES') or self._accept('DIVIDE'):\n",
    "        op = self.tok.type \n",
    "        right = self.factor() \n",
    "    if op == 'TIMES':\n",
    "        termval *= right \n",
    "    elif op == 'DIVIDE':\n",
    "        termval /= right\n",
    "    return termval"
   ]
  },
  {
   "cell_type": "code",
   "execution_count": 465,
   "id": "2d4286b9",
   "metadata": {},
   "outputs": [
    {
     "ename": "SyntaxError",
     "evalue": "'return' outside function (94659490.py, line 4)",
     "output_type": "error",
     "traceback": [
      "\u001b[0;36m  Input \u001b[0;32mIn [465]\u001b[0;36m\u001b[0m\n\u001b[0;31m    return int(self.tok.value)\u001b[0m\n\u001b[0m    ^\u001b[0m\n\u001b[0;31mSyntaxError\u001b[0m\u001b[0;31m:\u001b[0m 'return' outside function\n"
     ]
    }
   ],
   "source": [
    "def factor(self):\n",
    "   \"factor ::= NUM | ( expr )\"       \n",
    "if self._accept('NUM'):\n",
    "    return int(self.tok.value)\n",
    "elif self._accept('LPAREN'): \n",
    "    exprval = self.expr() \n",
    "    self._expect('RPAREN')\n",
    "    return exprval\n",
    "else:\n",
    "    raise SyntaxError('Expected NUMBER or LPAREN')"
   ]
  },
  {
   "cell_type": "markdown",
   "id": "b6cad3fd",
   "metadata": {},
   "source": [
    "\n",
    "\n",
    "\n",
    "\n",
    "\n",
    "\n",
    "\n",
    "# 2.20 Performing Text Operations on Byte Strings "
   ]
  },
  {
   "cell_type": "code",
   "execution_count": 466,
   "id": "4f942e74",
   "metadata": {},
   "outputs": [],
   "source": [
    "data = b'Hello World'"
   ]
  },
  {
   "cell_type": "code",
   "execution_count": 467,
   "id": "62b8ac08",
   "metadata": {},
   "outputs": [
    {
     "data": {
      "text/plain": [
       "b'Hello'"
      ]
     },
     "execution_count": 467,
     "metadata": {},
     "output_type": "execute_result"
    }
   ],
   "source": [
    "data[0:5]\n"
   ]
  },
  {
   "cell_type": "code",
   "execution_count": 468,
   "id": "1e31767b",
   "metadata": {},
   "outputs": [
    {
     "data": {
      "text/plain": [
       "True"
      ]
     },
     "execution_count": 468,
     "metadata": {},
     "output_type": "execute_result"
    }
   ],
   "source": [
    "data.startswith(b'Hello')"
   ]
  },
  {
   "cell_type": "code",
   "execution_count": 469,
   "id": "6632e359",
   "metadata": {},
   "outputs": [
    {
     "data": {
      "text/plain": [
       "[b'Hello', b'World']"
      ]
     },
     "execution_count": 469,
     "metadata": {},
     "output_type": "execute_result"
    }
   ],
   "source": [
    "data.split()"
   ]
  },
  {
   "cell_type": "code",
   "execution_count": 470,
   "id": "ce3c6dc3",
   "metadata": {},
   "outputs": [
    {
     "data": {
      "text/plain": [
       "b'Hello Cruel World'"
      ]
     },
     "execution_count": 470,
     "metadata": {},
     "output_type": "execute_result"
    }
   ],
   "source": [
    "data.replace(b'Hello', b'Hello Cruel')"
   ]
  },
  {
   "cell_type": "code",
   "execution_count": 471,
   "id": "ecf94ea7",
   "metadata": {},
   "outputs": [],
   "source": [
    "#-------------------------------------------------------------"
   ]
  },
  {
   "cell_type": "code",
   "execution_count": 472,
   "id": "c359f4c0",
   "metadata": {},
   "outputs": [],
   "source": [
    "data = bytearray(b'Hello World')"
   ]
  },
  {
   "cell_type": "code",
   "execution_count": 473,
   "id": "b82daa69",
   "metadata": {},
   "outputs": [
    {
     "data": {
      "text/plain": [
       "bytearray(b'Hello')"
      ]
     },
     "execution_count": 473,
     "metadata": {},
     "output_type": "execute_result"
    }
   ],
   "source": [
    "data[0:5]"
   ]
  },
  {
   "cell_type": "code",
   "execution_count": 474,
   "id": "00e06c21",
   "metadata": {},
   "outputs": [
    {
     "data": {
      "text/plain": [
       "True"
      ]
     },
     "execution_count": 474,
     "metadata": {},
     "output_type": "execute_result"
    }
   ],
   "source": [
    "data.startswith(b'Hello')"
   ]
  },
  {
   "cell_type": "code",
   "execution_count": 475,
   "id": "4ee6f325",
   "metadata": {},
   "outputs": [
    {
     "data": {
      "text/plain": [
       "[bytearray(b'Hello'), bytearray(b'World')]"
      ]
     },
     "execution_count": 475,
     "metadata": {},
     "output_type": "execute_result"
    }
   ],
   "source": [
    " data.split()"
   ]
  },
  {
   "cell_type": "code",
   "execution_count": 476,
   "id": "814742f2",
   "metadata": {},
   "outputs": [
    {
     "data": {
      "text/plain": [
       "bytearray(b'Hello Cruel World')"
      ]
     },
     "execution_count": 476,
     "metadata": {},
     "output_type": "execute_result"
    }
   ],
   "source": [
    "data.replace(b'Hello', b'Hello Cruel')"
   ]
  },
  {
   "cell_type": "code",
   "execution_count": 477,
   "id": "bef218a4",
   "metadata": {},
   "outputs": [],
   "source": [
    "#-----------------------REGULAR EXPRESSIONS --------------------------------------"
   ]
  },
  {
   "cell_type": "code",
   "execution_count": 4,
   "id": "f263f816",
   "metadata": {},
   "outputs": [],
   "source": [
    "data = b'FOO:BAR,SPAM'"
   ]
  },
  {
   "cell_type": "code",
   "execution_count": 5,
   "id": "763fa543",
   "metadata": {},
   "outputs": [],
   "source": [
    "import re"
   ]
  },
  {
   "cell_type": "code",
   "execution_count": 6,
   "id": "640be4c5",
   "metadata": {},
   "outputs": [
    {
     "ename": "TypeError",
     "evalue": "cannot use a string pattern on a bytes-like object",
     "output_type": "error",
     "traceback": [
      "\u001b[0;31m---------------------------------------------------------------------------\u001b[0m",
      "\u001b[0;31mTypeError\u001b[0m                                 Traceback (most recent call last)",
      "Input \u001b[0;32mIn [6]\u001b[0m, in \u001b[0;36m<cell line: 1>\u001b[0;34m()\u001b[0m\n\u001b[0;32m----> 1\u001b[0m \u001b[43mre\u001b[49m\u001b[38;5;241;43m.\u001b[39;49m\u001b[43msplit\u001b[49m\u001b[43m(\u001b[49m\u001b[38;5;124;43m'\u001b[39;49m\u001b[38;5;124;43m[:,]\u001b[39;49m\u001b[38;5;124;43m'\u001b[39;49m\u001b[43m,\u001b[49m\u001b[43mdata\u001b[49m\u001b[43m)\u001b[49m\n",
      "File \u001b[0;32m~/opt/anaconda3/lib/python3.9/re.py:231\u001b[0m, in \u001b[0;36msplit\u001b[0;34m(pattern, string, maxsplit, flags)\u001b[0m\n\u001b[1;32m    223\u001b[0m \u001b[38;5;28;01mdef\u001b[39;00m \u001b[38;5;21msplit\u001b[39m(pattern, string, maxsplit\u001b[38;5;241m=\u001b[39m\u001b[38;5;241m0\u001b[39m, flags\u001b[38;5;241m=\u001b[39m\u001b[38;5;241m0\u001b[39m):\n\u001b[1;32m    224\u001b[0m     \u001b[38;5;124;03m\"\"\"Split the source string by the occurrences of the pattern,\u001b[39;00m\n\u001b[1;32m    225\u001b[0m \u001b[38;5;124;03m    returning a list containing the resulting substrings.  If\u001b[39;00m\n\u001b[1;32m    226\u001b[0m \u001b[38;5;124;03m    capturing parentheses are used in pattern, then the text of all\u001b[39;00m\n\u001b[0;32m   (...)\u001b[0m\n\u001b[1;32m    229\u001b[0m \u001b[38;5;124;03m    and the remainder of the string is returned as the final element\u001b[39;00m\n\u001b[1;32m    230\u001b[0m \u001b[38;5;124;03m    of the list.\"\"\"\u001b[39;00m\n\u001b[0;32m--> 231\u001b[0m     \u001b[38;5;28;01mreturn\u001b[39;00m \u001b[43m_compile\u001b[49m\u001b[43m(\u001b[49m\u001b[43mpattern\u001b[49m\u001b[43m,\u001b[49m\u001b[43m \u001b[49m\u001b[43mflags\u001b[49m\u001b[43m)\u001b[49m\u001b[38;5;241;43m.\u001b[39;49m\u001b[43msplit\u001b[49m\u001b[43m(\u001b[49m\u001b[43mstring\u001b[49m\u001b[43m,\u001b[49m\u001b[43m \u001b[49m\u001b[43mmaxsplit\u001b[49m\u001b[43m)\u001b[49m\n",
      "\u001b[0;31mTypeError\u001b[0m: cannot use a string pattern on a bytes-like object"
     ]
    }
   ],
   "source": [
    "re.split('[:,]',data)"
   ]
  },
  {
   "cell_type": "code",
   "execution_count": 7,
   "id": "fb568d2c",
   "metadata": {},
   "outputs": [
    {
     "data": {
      "text/plain": [
       "[b'FOO', b'BAR', b'SPAM']"
      ]
     },
     "execution_count": 7,
     "metadata": {},
     "output_type": "execute_result"
    }
   ],
   "source": [
    "re.split(b'[:,]',data)"
   ]
  },
  {
   "cell_type": "markdown",
   "id": "b54b2a7d",
   "metadata": {},
   "source": [
    "---\n",
    "In lab 2 , I have learned how to split strings on different multiple delimiters using the syntax re.split. I also learned how to match files using the end of the string. The syntax for that is .endswith. You can also find a match using .startswith. You can use matching string using shell wildcard patterns; the syntax for that is fnmatch(). I learned how to replace and search text by using the syntax .replace. I learned how to write regular expression for multiline patterns using the syntax .findall. I learned how to sanitize and clean up Text. You can align text strings with the syntax r.just for moving it to the right and .ljust to move it to the left. You can interpolate variables in a string using the .format syntax. Finally,I learned how to perform text operations on Byte strings. The syntax for that is b’ ’.\n",
    "\n",
    "---"
   ]
  }
 ],
 "metadata": {
  "kernelspec": {
   "display_name": "Python 3 (ipykernel)",
   "language": "python",
   "name": "python3"
  },
  "language_info": {
   "codemirror_mode": {
    "name": "ipython",
    "version": 3
   },
   "file_extension": ".py",
   "mimetype": "text/x-python",
   "name": "python",
   "nbconvert_exporter": "python",
   "pygments_lexer": "ipython3",
   "version": "3.9.12"
  }
 },
 "nbformat": 4,
 "nbformat_minor": 5
}
