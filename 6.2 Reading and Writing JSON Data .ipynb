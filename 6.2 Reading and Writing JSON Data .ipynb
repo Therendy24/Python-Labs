{
 "cells": [
  {
   "cell_type": "markdown",
   "id": "b9c5d6b2",
   "metadata": {},
   "source": [
    "# 6.2 Reading and Writing JSON Data"
   ]
  },
  {
   "cell_type": "code",
   "execution_count": 1,
   "id": "7e23a3dd",
   "metadata": {},
   "outputs": [],
   "source": [
    "import json"
   ]
  },
  {
   "cell_type": "code",
   "execution_count": 2,
   "id": "e5090637",
   "metadata": {},
   "outputs": [],
   "source": [
    " data = {\n",
    "       'name' : 'ACME',\n",
    "       'shares' : 100,\n",
    "       'price' : 542.23\n",
    "}"
   ]
  },
  {
   "cell_type": "code",
   "execution_count": 3,
   "id": "142c0652",
   "metadata": {},
   "outputs": [],
   "source": [
    "json_str = json.dumps(data)"
   ]
  },
  {
   "cell_type": "code",
   "execution_count": 4,
   "id": "d98e2212",
   "metadata": {},
   "outputs": [],
   "source": [
    "#----------- Here is how you turn JSON-encoded string back \n",
    "# into a Python data structure -----------------"
   ]
  },
  {
   "cell_type": "code",
   "execution_count": 5,
   "id": "f083924f",
   "metadata": {},
   "outputs": [],
   "source": [
    "data = json.loads(json_str)"
   ]
  },
  {
   "cell_type": "code",
   "execution_count": 6,
   "id": "71e162f3",
   "metadata": {},
   "outputs": [],
   "source": [
    "#working with files instead of strings \n",
    "#writing JSON data\n",
    "with open('data.json', 'w') as f: \n",
    "    json.dump(data, f)"
   ]
  },
  {
   "cell_type": "code",
   "execution_count": 7,
   "id": "aa899259",
   "metadata": {},
   "outputs": [],
   "source": [
    " # Reading data back\n",
    "with open('data.json', 'r') as f: \n",
    "    data = json.load(f)"
   ]
  },
  {
   "cell_type": "code",
   "execution_count": 8,
   "id": "9085403c",
   "metadata": {},
   "outputs": [],
   "source": [
    "#-----------------------------"
   ]
  },
  {
   "cell_type": "code",
   "execution_count": 9,
   "id": "0294a08f",
   "metadata": {},
   "outputs": [
    {
     "data": {
      "text/plain": [
       "'false'"
      ]
     },
     "execution_count": 9,
     "metadata": {},
     "output_type": "execute_result"
    }
   ],
   "source": [
    "json.dumps(False)"
   ]
  },
  {
   "cell_type": "code",
   "execution_count": 10,
   "id": "579a4181",
   "metadata": {},
   "outputs": [],
   "source": [
    "d = {\n",
    " 'a': True,\n",
    " 'b': 'Hello',\n",
    " 'c': None}"
   ]
  },
  {
   "cell_type": "code",
   "execution_count": 11,
   "id": "51c03d4b",
   "metadata": {},
   "outputs": [
    {
     "data": {
      "text/plain": [
       "'{\"a\": true, \"b\": \"Hello\", \"c\": null}'"
      ]
     },
     "execution_count": 11,
     "metadata": {},
     "output_type": "execute_result"
    }
   ],
   "source": [
    "json.dumps(d)"
   ]
  },
  {
   "cell_type": "code",
   "execution_count": 12,
   "id": "51468921",
   "metadata": {},
   "outputs": [],
   "source": [
    "#--------- complex nested structures use pprint()"
   ]
  },
  {
   "cell_type": "code",
   "execution_count": 13,
   "id": "2b09d111",
   "metadata": {},
   "outputs": [],
   "source": [
    "from urllib.request import urlopen"
   ]
  },
  {
   "cell_type": "code",
   "execution_count": 37,
   "id": "11ab940b",
   "metadata": {},
   "outputs": [],
   "source": [
    "import json"
   ]
  },
  {
   "cell_type": "code",
   "execution_count": 78,
   "id": "bd1e945f",
   "metadata": {},
   "outputs": [],
   "source": [
    "u = urlopen('https://jsonplaceholder.typicode.com/todos')"
   ]
  },
  {
   "cell_type": "code",
   "execution_count": 79,
   "id": "42db724b",
   "metadata": {},
   "outputs": [],
   "source": [
    "resp = json.loads(u.read().decode('utf-8'))"
   ]
  },
  {
   "cell_type": "code",
   "execution_count": 81,
   "id": "0d59d8b3",
   "metadata": {},
   "outputs": [],
   "source": [
    "from pprint import pprint"
   ]
  },
  {
   "cell_type": "code",
   "execution_count": 82,
   "id": "48ef934a",
   "metadata": {},
   "outputs": [
    {
     "name": "stdout",
     "output_type": "stream",
     "text": [
      "[{'completed': False, 'id': 1, 'title': 'delectus aut autem', 'userId': 1},\n",
      " {'completed': False,\n",
      "  'id': 2,\n",
      "  'title': 'quis ut nam facilis et officia qui',\n",
      "  'userId': 1},\n",
      " {'completed': False, 'id': 3, 'title': 'fugiat veniam minus', 'userId': 1},\n",
      " {'completed': True, 'id': 4, 'title': 'et porro tempora', 'userId': 1},\n",
      " {'completed': False,\n",
      "  'id': 5,\n",
      "  'title': 'laboriosam mollitia et enim quasi adipisci quia provident illum',\n",
      "  'userId': 1},\n",
      " {'completed': False,\n",
      "  'id': 6,\n",
      "  'title': 'qui ullam ratione quibusdam voluptatem quia omnis',\n",
      "  'userId': 1},\n",
      " {'completed': False,\n",
      "  'id': 7,\n",
      "  'title': 'illo expedita consequatur quia in',\n",
      "  'userId': 1},\n",
      " {'completed': True,\n",
      "  'id': 8,\n",
      "  'title': 'quo adipisci enim quam ut ab',\n",
      "  'userId': 1},\n",
      " {'completed': False,\n",
      "  'id': 9,\n",
      "  'title': 'molestiae perspiciatis ipsa',\n",
      "  'userId': 1},\n",
      " {'completed': True,\n",
      "  'id': 10,\n",
      "  'title': 'illo est ratione doloremque quia maiores aut',\n",
      "  'userId': 1},\n",
      " {'completed': True,\n",
      "  'id': 11,\n",
      "  'title': 'vero rerum temporibus dolor',\n",
      "  'userId': 1},\n",
      " {'completed': True,\n",
      "  'id': 12,\n",
      "  'title': 'ipsa repellendus fugit nisi',\n",
      "  'userId': 1},\n",
      " {'completed': False, 'id': 13, 'title': 'et doloremque nulla', 'userId': 1},\n",
      " {'completed': True,\n",
      "  'id': 14,\n",
      "  'title': 'repellendus sunt dolores architecto voluptatum',\n",
      "  'userId': 1},\n",
      " {'completed': True,\n",
      "  'id': 15,\n",
      "  'title': 'ab voluptatum amet voluptas',\n",
      "  'userId': 1},\n",
      " {'completed': True,\n",
      "  'id': 16,\n",
      "  'title': 'accusamus eos facilis sint et aut voluptatem',\n",
      "  'userId': 1},\n",
      " {'completed': True,\n",
      "  'id': 17,\n",
      "  'title': 'quo laboriosam deleniti aut qui',\n",
      "  'userId': 1},\n",
      " {'completed': False,\n",
      "  'id': 18,\n",
      "  'title': 'dolorum est consequatur ea mollitia in culpa',\n",
      "  'userId': 1},\n",
      " {'completed': True,\n",
      "  'id': 19,\n",
      "  'title': 'molestiae ipsa aut voluptatibus pariatur dolor nihil',\n",
      "  'userId': 1},\n",
      " {'completed': True,\n",
      "  'id': 20,\n",
      "  'title': 'ullam nobis libero sapiente ad optio sint',\n",
      "  'userId': 1},\n",
      " {'completed': False,\n",
      "  'id': 21,\n",
      "  'title': 'suscipit repellat esse quibusdam voluptatem incidunt',\n",
      "  'userId': 2},\n",
      " {'completed': True,\n",
      "  'id': 22,\n",
      "  'title': 'distinctio vitae autem nihil ut molestias quo',\n",
      "  'userId': 2},\n",
      " {'completed': False,\n",
      "  'id': 23,\n",
      "  'title': 'et itaque necessitatibus maxime molestiae qui quas velit',\n",
      "  'userId': 2},\n",
      " {'completed': False,\n",
      "  'id': 24,\n",
      "  'title': 'adipisci non ad dicta qui amet quaerat doloribus ea',\n",
      "  'userId': 2},\n",
      " {'completed': True,\n",
      "  'id': 25,\n",
      "  'title': 'voluptas quo tenetur perspiciatis explicabo natus',\n",
      "  'userId': 2},\n",
      " {'completed': True, 'id': 26, 'title': 'aliquam aut quasi', 'userId': 2},\n",
      " {'completed': True,\n",
      "  'id': 27,\n",
      "  'title': 'veritatis pariatur delectus',\n",
      "  'userId': 2},\n",
      " {'completed': False,\n",
      "  'id': 28,\n",
      "  'title': 'nesciunt totam sit blanditiis sit',\n",
      "  'userId': 2},\n",
      " {'completed': False, 'id': 29, 'title': 'laborum aut in quam', 'userId': 2},\n",
      " {'completed': True,\n",
      "  'id': 30,\n",
      "  'title': 'nemo perspiciatis repellat ut dolor libero commodi blanditiis '\n",
      "           'omnis',\n",
      "  'userId': 2},\n",
      " {'completed': False,\n",
      "  'id': 31,\n",
      "  'title': 'repudiandae totam in est sint facere fuga',\n",
      "  'userId': 2},\n",
      " {'completed': False,\n",
      "  'id': 32,\n",
      "  'title': 'earum doloribus ea doloremque quis',\n",
      "  'userId': 2},\n",
      " {'completed': False, 'id': 33, 'title': 'sint sit aut vero', 'userId': 2},\n",
      " {'completed': False,\n",
      "  'id': 34,\n",
      "  'title': 'porro aut necessitatibus eaque distinctio',\n",
      "  'userId': 2},\n",
      " {'completed': True,\n",
      "  'id': 35,\n",
      "  'title': 'repellendus veritatis molestias dicta incidunt',\n",
      "  'userId': 2},\n",
      " {'completed': True,\n",
      "  'id': 36,\n",
      "  'title': 'excepturi deleniti adipisci voluptatem et neque optio illum ad',\n",
      "  'userId': 2},\n",
      " {'completed': False, 'id': 37, 'title': 'sunt cum tempora', 'userId': 2},\n",
      " {'completed': False, 'id': 38, 'title': 'totam quia non', 'userId': 2},\n",
      " {'completed': False,\n",
      "  'id': 39,\n",
      "  'title': 'doloremque quibusdam asperiores libero corrupti illum qui omnis',\n",
      "  'userId': 2},\n",
      " {'completed': True,\n",
      "  'id': 40,\n",
      "  'title': 'totam atque quo nesciunt',\n",
      "  'userId': 2},\n",
      " {'completed': False,\n",
      "  'id': 41,\n",
      "  'title': 'aliquid amet impedit consequatur aspernatur placeat eaque fugiat '\n",
      "           'suscipit',\n",
      "  'userId': 3},\n",
      " {'completed': False,\n",
      "  'id': 42,\n",
      "  'title': 'rerum perferendis error quia ut eveniet',\n",
      "  'userId': 3},\n",
      " {'completed': True,\n",
      "  'id': 43,\n",
      "  'title': 'tempore ut sint quis recusandae',\n",
      "  'userId': 3},\n",
      " {'completed': True,\n",
      "  'id': 44,\n",
      "  'title': 'cum debitis quis accusamus doloremque ipsa natus sapiente omnis',\n",
      "  'userId': 3},\n",
      " {'completed': False,\n",
      "  'id': 45,\n",
      "  'title': 'velit soluta adipisci molestias reiciendis harum',\n",
      "  'userId': 3},\n",
      " {'completed': False,\n",
      "  'id': 46,\n",
      "  'title': 'vel voluptatem repellat nihil placeat corporis',\n",
      "  'userId': 3},\n",
      " {'completed': False,\n",
      "  'id': 47,\n",
      "  'title': 'nam qui rerum fugiat accusamus',\n",
      "  'userId': 3},\n",
      " {'completed': False,\n",
      "  'id': 48,\n",
      "  'title': 'sit reprehenderit omnis quia',\n",
      "  'userId': 3},\n",
      " {'completed': False,\n",
      "  'id': 49,\n",
      "  'title': 'ut necessitatibus aut maiores debitis officia blanditiis velit et',\n",
      "  'userId': 3},\n",
      " {'completed': True,\n",
      "  'id': 50,\n",
      "  'title': 'cupiditate necessitatibus ullam aut quis dolor voluptate',\n",
      "  'userId': 3},\n",
      " {'completed': False,\n",
      "  'id': 51,\n",
      "  'title': 'distinctio exercitationem ab doloribus',\n",
      "  'userId': 3},\n",
      " {'completed': False,\n",
      "  'id': 52,\n",
      "  'title': 'nesciunt dolorum quis recusandae ad pariatur ratione',\n",
      "  'userId': 3},\n",
      " {'completed': False,\n",
      "  'id': 53,\n",
      "  'title': 'qui labore est occaecati recusandae aliquid quam',\n",
      "  'userId': 3},\n",
      " {'completed': True,\n",
      "  'id': 54,\n",
      "  'title': 'quis et est ut voluptate quam dolor',\n",
      "  'userId': 3},\n",
      " {'completed': True,\n",
      "  'id': 55,\n",
      "  'title': 'voluptatum omnis minima qui occaecati provident nulla voluptatem '\n",
      "           'ratione',\n",
      "  'userId': 3},\n",
      " {'completed': True,\n",
      "  'id': 56,\n",
      "  'title': 'deleniti ea temporibus enim',\n",
      "  'userId': 3},\n",
      " {'completed': False,\n",
      "  'id': 57,\n",
      "  'title': 'pariatur et magnam ea doloribus similique voluptatem rerum quia',\n",
      "  'userId': 3},\n",
      " {'completed': False,\n",
      "  'id': 58,\n",
      "  'title': 'est dicta totam qui explicabo doloribus qui dignissimos',\n",
      "  'userId': 3},\n",
      " {'completed': False,\n",
      "  'id': 59,\n",
      "  'title': 'perspiciatis velit id laborum placeat iusto et aliquam odio',\n",
      "  'userId': 3},\n",
      " {'completed': True,\n",
      "  'id': 60,\n",
      "  'title': 'et sequi qui architecto ut adipisci',\n",
      "  'userId': 3},\n",
      " {'completed': True,\n",
      "  'id': 61,\n",
      "  'title': 'odit optio omnis qui sunt',\n",
      "  'userId': 4},\n",
      " {'completed': False,\n",
      "  'id': 62,\n",
      "  'title': 'et placeat et tempore aspernatur sint numquam',\n",
      "  'userId': 4},\n",
      " {'completed': True,\n",
      "  'id': 63,\n",
      "  'title': 'doloremque aut dolores quidem fuga qui nulla',\n",
      "  'userId': 4},\n",
      " {'completed': False,\n",
      "  'id': 64,\n",
      "  'title': 'voluptas consequatur qui ut quia magnam nemo esse',\n",
      "  'userId': 4},\n",
      " {'completed': False,\n",
      "  'id': 65,\n",
      "  'title': 'fugiat pariatur ratione ut asperiores necessitatibus magni',\n",
      "  'userId': 4},\n",
      " {'completed': False,\n",
      "  'id': 66,\n",
      "  'title': 'rerum eum molestias autem voluptatum sit optio',\n",
      "  'userId': 4},\n",
      " {'completed': False,\n",
      "  'id': 67,\n",
      "  'title': 'quia voluptatibus voluptatem quos similique maiores repellat',\n",
      "  'userId': 4},\n",
      " {'completed': False,\n",
      "  'id': 68,\n",
      "  'title': 'aut id perspiciatis voluptatem iusto',\n",
      "  'userId': 4},\n",
      " {'completed': False,\n",
      "  'id': 69,\n",
      "  'title': 'doloribus sint dolorum ab adipisci itaque dignissimos aliquam '\n",
      "           'suscipit',\n",
      "  'userId': 4},\n",
      " {'completed': False,\n",
      "  'id': 70,\n",
      "  'title': 'ut sequi accusantium et mollitia delectus sunt',\n",
      "  'userId': 4},\n",
      " {'completed': False, 'id': 71, 'title': 'aut velit saepe ullam', 'userId': 4},\n",
      " {'completed': False,\n",
      "  'id': 72,\n",
      "  'title': 'praesentium facilis facere quis harum voluptatibus voluptatem eum',\n",
      "  'userId': 4},\n",
      " {'completed': True,\n",
      "  'id': 73,\n",
      "  'title': 'sint amet quia totam corporis qui exercitationem commodi',\n",
      "  'userId': 4},\n",
      " {'completed': False,\n",
      "  'id': 74,\n",
      "  'title': 'expedita tempore nobis eveniet laborum maiores',\n",
      "  'userId': 4},\n",
      " {'completed': False,\n",
      "  'id': 75,\n",
      "  'title': 'occaecati adipisci est possimus totam',\n",
      "  'userId': 4},\n",
      " {'completed': True, 'id': 76, 'title': 'sequi dolorem sed', 'userId': 4},\n",
      " {'completed': False,\n",
      "  'id': 77,\n",
      "  'title': 'maiores aut nesciunt delectus exercitationem vel assumenda '\n",
      "           'eligendi at',\n",
      "  'userId': 4},\n",
      " {'completed': False,\n",
      "  'id': 78,\n",
      "  'title': 'reiciendis est magnam amet nemo iste recusandae impedit quaerat',\n",
      "  'userId': 4},\n",
      " {'completed': True, 'id': 79, 'title': 'eum ipsa maxime ut', 'userId': 4},\n",
      " {'completed': True,\n",
      "  'id': 80,\n",
      "  'title': 'tempore molestias dolores rerum sequi voluptates ipsum consequatur',\n",
      "  'userId': 4},\n",
      " {'completed': True, 'id': 81, 'title': 'suscipit qui totam', 'userId': 5},\n",
      " {'completed': False,\n",
      "  'id': 82,\n",
      "  'title': 'voluptates eum voluptas et dicta',\n",
      "  'userId': 5},\n",
      " {'completed': True,\n",
      "  'id': 83,\n",
      "  'title': 'quidem at rerum quis ex aut sit quam',\n",
      "  'userId': 5},\n",
      " {'completed': False,\n",
      "  'id': 84,\n",
      "  'title': 'sunt veritatis ut voluptate',\n",
      "  'userId': 5},\n",
      " {'completed': True, 'id': 85, 'title': 'et quia ad iste a', 'userId': 5},\n",
      " {'completed': True, 'id': 86, 'title': 'incidunt ut saepe autem', 'userId': 5},\n",
      " {'completed': True,\n",
      "  'id': 87,\n",
      "  'title': 'laudantium quae eligendi consequatur quia et vero autem',\n",
      "  'userId': 5},\n",
      " {'completed': False,\n",
      "  'id': 88,\n",
      "  'title': 'vitae aut excepturi laboriosam sint aliquam et et accusantium',\n",
      "  'userId': 5},\n",
      " {'completed': True, 'id': 89, 'title': 'sequi ut omnis et', 'userId': 5},\n",
      " {'completed': True,\n",
      "  'id': 90,\n",
      "  'title': 'molestiae nisi accusantium tenetur dolorem et',\n",
      "  'userId': 5},\n",
      " {'completed': True,\n",
      "  'id': 91,\n",
      "  'title': 'nulla quis consequatur saepe qui id expedita',\n",
      "  'userId': 5},\n",
      " {'completed': True, 'id': 92, 'title': 'in omnis laboriosam', 'userId': 5},\n",
      " {'completed': True,\n",
      "  'id': 93,\n",
      "  'title': 'odio iure consequatur molestiae quibusdam necessitatibus quia sint',\n",
      "  'userId': 5},\n",
      " {'completed': False,\n",
      "  'id': 94,\n",
      "  'title': 'facilis modi saepe mollitia',\n",
      "  'userId': 5},\n",
      " {'completed': True,\n",
      "  'id': 95,\n",
      "  'title': 'vel nihil et molestiae iusto assumenda nemo quo ut',\n",
      "  'userId': 5},\n",
      " {'completed': False,\n",
      "  'id': 96,\n",
      "  'title': 'nobis suscipit ducimus enim asperiores voluptas',\n",
      "  'userId': 5},\n",
      " {'completed': False,\n",
      "  'id': 97,\n",
      "  'title': 'dolorum laboriosam eos qui iure aliquam',\n",
      "  'userId': 5},\n",
      " {'completed': True,\n",
      "  'id': 98,\n",
      "  'title': 'debitis accusantium ut quo facilis nihil quis sapiente '\n",
      "           'necessitatibus',\n",
      "  'userId': 5},\n",
      " {'completed': False,\n",
      "  'id': 99,\n",
      "  'title': 'neque voluptates ratione',\n",
      "  'userId': 5},\n",
      " {'completed': False,\n",
      "  'id': 100,\n",
      "  'title': 'excepturi a et neque qui expedita vel voluptate',\n",
      "  'userId': 5},\n",
      " {'completed': False,\n",
      "  'id': 101,\n",
      "  'title': 'explicabo enim cumque porro aperiam occaecati minima',\n",
      "  'userId': 6},\n",
      " {'completed': False, 'id': 102, 'title': 'sed ab consequatur', 'userId': 6},\n",
      " {'completed': False,\n",
      "  'id': 103,\n",
      "  'title': 'non sunt delectus illo nulla tenetur enim omnis',\n",
      "  'userId': 6},\n",
      " {'completed': False,\n",
      "  'id': 104,\n",
      "  'title': 'excepturi non laudantium quo',\n",
      "  'userId': 6},\n",
      " {'completed': True,\n",
      "  'id': 105,\n",
      "  'title': 'totam quia dolorem et illum repellat voluptas optio',\n",
      "  'userId': 6},\n",
      " {'completed': True,\n",
      "  'id': 106,\n",
      "  'title': 'ad illo quis voluptatem temporibus',\n",
      "  'userId': 6},\n",
      " {'completed': False,\n",
      "  'id': 107,\n",
      "  'title': 'praesentium facilis omnis laudantium fugit ad iusto nihil nesciunt',\n",
      "  'userId': 6},\n",
      " {'completed': True,\n",
      "  'id': 108,\n",
      "  'title': 'a eos eaque nihil et exercitationem incidunt delectus',\n",
      "  'userId': 6},\n",
      " {'completed': True,\n",
      "  'id': 109,\n",
      "  'title': 'autem temporibus harum quisquam in culpa',\n",
      "  'userId': 6},\n",
      " {'completed': True, 'id': 110, 'title': 'aut aut ea corporis', 'userId': 6},\n",
      " {'completed': False,\n",
      "  'id': 111,\n",
      "  'title': 'magni accusantium labore et id quis provident',\n",
      "  'userId': 6},\n",
      " {'completed': False,\n",
      "  'id': 112,\n",
      "  'title': 'consectetur impedit quisquam qui deserunt non rerum consequuntur '\n",
      "           'eius',\n",
      "  'userId': 6},\n",
      " {'completed': False,\n",
      "  'id': 113,\n",
      "  'title': 'quia atque aliquam sunt impedit voluptatum rerum assumenda nisi',\n",
      "  'userId': 6},\n",
      " {'completed': False,\n",
      "  'id': 114,\n",
      "  'title': 'cupiditate quos possimus corporis quisquam exercitationem beatae',\n",
      "  'userId': 6},\n",
      " {'completed': False, 'id': 115, 'title': 'sed et ea eum', 'userId': 6},\n",
      " {'completed': True,\n",
      "  'id': 116,\n",
      "  'title': 'ipsa dolores vel facilis ut',\n",
      "  'userId': 6},\n",
      " {'completed': False,\n",
      "  'id': 117,\n",
      "  'title': 'sequi quae est et qui qui eveniet asperiores',\n",
      "  'userId': 6},\n",
      " {'completed': False,\n",
      "  'id': 118,\n",
      "  'title': 'quia modi consequatur vero fugiat',\n",
      "  'userId': 6},\n",
      " {'completed': False,\n",
      "  'id': 119,\n",
      "  'title': 'corporis ducimus ea perspiciatis iste',\n",
      "  'userId': 6},\n",
      " {'completed': False,\n",
      "  'id': 120,\n",
      "  'title': 'dolorem laboriosam vel voluptas et aliquam quasi',\n",
      "  'userId': 6},\n",
      " {'completed': True,\n",
      "  'id': 121,\n",
      "  'title': 'inventore aut nihil minima laudantium hic qui omnis',\n",
      "  'userId': 7},\n",
      " {'completed': True,\n",
      "  'id': 122,\n",
      "  'title': 'provident aut nobis culpa',\n",
      "  'userId': 7},\n",
      " {'completed': False,\n",
      "  'id': 123,\n",
      "  'title': 'esse et quis iste est earum aut impedit',\n",
      "  'userId': 7},\n",
      " {'completed': False, 'id': 124, 'title': 'qui consectetur id', 'userId': 7},\n",
      " {'completed': False,\n",
      "  'id': 125,\n",
      "  'title': 'aut quasi autem iste tempore illum possimus',\n",
      "  'userId': 7},\n",
      " {'completed': True,\n",
      "  'id': 126,\n",
      "  'title': 'ut asperiores perspiciatis veniam ipsum rerum saepe',\n",
      "  'userId': 7},\n",
      " {'completed': True,\n",
      "  'id': 127,\n",
      "  'title': 'voluptatem libero consectetur rerum ut',\n",
      "  'userId': 7},\n",
      " {'completed': False,\n",
      "  'id': 128,\n",
      "  'title': 'eius omnis est qui voluptatem autem',\n",
      "  'userId': 7},\n",
      " {'completed': False,\n",
      "  'id': 129,\n",
      "  'title': 'rerum culpa quis harum',\n",
      "  'userId': 7},\n",
      " {'completed': True,\n",
      "  'id': 130,\n",
      "  'title': 'nulla aliquid eveniet harum laborum libero alias ut unde',\n",
      "  'userId': 7},\n",
      " {'completed': False, 'id': 131, 'title': 'qui ea incidunt quis', 'userId': 7},\n",
      " {'completed': True,\n",
      "  'id': 132,\n",
      "  'title': 'qui molestiae voluptatibus velit iure harum quisquam',\n",
      "  'userId': 7},\n",
      " {'completed': True,\n",
      "  'id': 133,\n",
      "  'title': 'et labore eos enim rerum consequatur sunt',\n",
      "  'userId': 7},\n",
      " {'completed': False,\n",
      "  'id': 134,\n",
      "  'title': 'molestiae doloribus et laborum quod ea',\n",
      "  'userId': 7},\n",
      " {'completed': False,\n",
      "  'id': 135,\n",
      "  'title': 'facere ipsa nam eum voluptates reiciendis vero qui',\n",
      "  'userId': 7},\n",
      " {'completed': False,\n",
      "  'id': 136,\n",
      "  'title': 'asperiores illo tempora fuga sed ut quasi adipisci',\n",
      "  'userId': 7},\n",
      " {'completed': False, 'id': 137, 'title': 'qui sit non', 'userId': 7},\n",
      " {'completed': True,\n",
      "  'id': 138,\n",
      "  'title': 'placeat minima consequatur rem qui ut',\n",
      "  'userId': 7},\n",
      " {'completed': False,\n",
      "  'id': 139,\n",
      "  'title': 'consequatur doloribus id possimus voluptas a voluptatem',\n",
      "  'userId': 7},\n",
      " {'completed': True,\n",
      "  'id': 140,\n",
      "  'title': 'aut consectetur in blanditiis deserunt quia sed laboriosam',\n",
      "  'userId': 7},\n",
      " {'completed': True,\n",
      "  'id': 141,\n",
      "  'title': 'explicabo consectetur debitis voluptates quas quae culpa rerum non',\n",
      "  'userId': 8},\n",
      " {'completed': True,\n",
      "  'id': 142,\n",
      "  'title': 'maiores accusantium architecto necessitatibus reiciendis ea aut',\n",
      "  'userId': 8},\n",
      " {'completed': False,\n",
      "  'id': 143,\n",
      "  'title': 'eum non recusandae cupiditate animi',\n",
      "  'userId': 8},\n",
      " {'completed': False,\n",
      "  'id': 144,\n",
      "  'title': 'ut eum exercitationem sint',\n",
      "  'userId': 8},\n",
      " {'completed': False,\n",
      "  'id': 145,\n",
      "  'title': 'beatae qui ullam incidunt voluptatem non nisi aliquam',\n",
      "  'userId': 8},\n",
      " {'completed': True,\n",
      "  'id': 146,\n",
      "  'title': 'molestiae suscipit ratione nihil odio libero impedit vero totam',\n",
      "  'userId': 8},\n",
      " {'completed': True,\n",
      "  'id': 147,\n",
      "  'title': 'eum itaque quod reprehenderit et facilis dolor autem ut',\n",
      "  'userId': 8},\n",
      " {'completed': False,\n",
      "  'id': 148,\n",
      "  'title': 'esse quas et quo quasi exercitationem',\n",
      "  'userId': 8},\n",
      " {'completed': False,\n",
      "  'id': 149,\n",
      "  'title': 'animi voluptas quod perferendis est',\n",
      "  'userId': 8},\n",
      " {'completed': False,\n",
      "  'id': 150,\n",
      "  'title': 'eos amet tempore laudantium fugit a',\n",
      "  'userId': 8},\n",
      " {'completed': True,\n",
      "  'id': 151,\n",
      "  'title': 'accusamus adipisci dicta qui quo ea explicabo sed vero',\n",
      "  'userId': 8},\n",
      " {'completed': False,\n",
      "  'id': 152,\n",
      "  'title': 'odit eligendi recusandae doloremque cumque non',\n",
      "  'userId': 8},\n",
      " {'completed': False,\n",
      "  'id': 153,\n",
      "  'title': 'ea aperiam consequatur qui repellat eos',\n",
      "  'userId': 8},\n",
      " {'completed': True, 'id': 154, 'title': 'rerum non ex sapiente', 'userId': 8},\n",
      " {'completed': True,\n",
      "  'id': 155,\n",
      "  'title': 'voluptatem nobis consequatur et assumenda magnam',\n",
      "  'userId': 8},\n",
      " {'completed': True,\n",
      "  'id': 156,\n",
      "  'title': 'nam quia quia nulla repellat assumenda quibusdam sit nobis',\n",
      "  'userId': 8},\n",
      " {'completed': True,\n",
      "  'id': 157,\n",
      "  'title': 'dolorem veniam quisquam deserunt repellendus',\n",
      "  'userId': 8},\n",
      " {'completed': True,\n",
      "  'id': 158,\n",
      "  'title': 'debitis vitae delectus et harum accusamus aut deleniti a',\n",
      "  'userId': 8},\n",
      " {'completed': True,\n",
      "  'id': 159,\n",
      "  'title': 'debitis adipisci quibusdam aliquam sed dolore ea praesentium nobis',\n",
      "  'userId': 8},\n",
      " {'completed': False,\n",
      "  'id': 160,\n",
      "  'title': 'et praesentium aliquam est',\n",
      "  'userId': 8},\n",
      " {'completed': True,\n",
      "  'id': 161,\n",
      "  'title': 'ex hic consequuntur earum omnis alias ut occaecati culpa',\n",
      "  'userId': 9},\n",
      " {'completed': True,\n",
      "  'id': 162,\n",
      "  'title': 'omnis laboriosam molestias animi sunt dolore',\n",
      "  'userId': 9},\n",
      " {'completed': False,\n",
      "  'id': 163,\n",
      "  'title': 'natus corrupti maxime laudantium et voluptatem laboriosam odit',\n",
      "  'userId': 9},\n",
      " {'completed': False,\n",
      "  'id': 164,\n",
      "  'title': 'reprehenderit quos aut aut consequatur est sed',\n",
      "  'userId': 9},\n",
      " {'completed': False,\n",
      "  'id': 165,\n",
      "  'title': 'fugiat perferendis sed aut quidem',\n",
      "  'userId': 9},\n",
      " {'completed': False,\n",
      "  'id': 166,\n",
      "  'title': 'quos quo possimus suscipit minima ut',\n",
      "  'userId': 9},\n",
      " {'completed': False,\n",
      "  'id': 167,\n",
      "  'title': 'et quis minus quo a asperiores molestiae',\n",
      "  'userId': 9},\n",
      " {'completed': False,\n",
      "  'id': 168,\n",
      "  'title': 'recusandae quia qui sunt libero',\n",
      "  'userId': 9},\n",
      " {'completed': True,\n",
      "  'id': 169,\n",
      "  'title': 'ea odio perferendis officiis',\n",
      "  'userId': 9},\n",
      " {'completed': False,\n",
      "  'id': 170,\n",
      "  'title': 'quisquam aliquam quia doloribus aut',\n",
      "  'userId': 9},\n",
      " {'completed': True,\n",
      "  'id': 171,\n",
      "  'title': 'fugiat aut voluptatibus corrupti deleniti velit iste odio',\n",
      "  'userId': 9},\n",
      " {'completed': False,\n",
      "  'id': 172,\n",
      "  'title': 'et provident amet rerum consectetur et voluptatum',\n",
      "  'userId': 9},\n",
      " {'completed': False, 'id': 173, 'title': 'harum ad aperiam quis', 'userId': 9},\n",
      " {'completed': False, 'id': 174, 'title': 'similique aut quo', 'userId': 9},\n",
      " {'completed': True,\n",
      "  'id': 175,\n",
      "  'title': 'laudantium eius officia perferendis provident perspiciatis '\n",
      "           'asperiores',\n",
      "  'userId': 9},\n",
      " {'completed': False,\n",
      "  'id': 176,\n",
      "  'title': 'magni soluta corrupti ut maiores rem quidem',\n",
      "  'userId': 9},\n",
      " {'completed': False,\n",
      "  'id': 177,\n",
      "  'title': 'et placeat temporibus voluptas est tempora quos quibusdam',\n",
      "  'userId': 9},\n",
      " {'completed': True,\n",
      "  'id': 178,\n",
      "  'title': 'nesciunt itaque commodi tempore',\n",
      "  'userId': 9},\n",
      " {'completed': True,\n",
      "  'id': 179,\n",
      "  'title': 'omnis consequuntur cupiditate impedit itaque ipsam quo',\n",
      "  'userId': 9},\n",
      " {'completed': True,\n",
      "  'id': 180,\n",
      "  'title': 'debitis nisi et dolorem repellat et',\n",
      "  'userId': 9},\n",
      " {'completed': False,\n",
      "  'id': 181,\n",
      "  'title': 'ut cupiditate sequi aliquam fuga maiores',\n",
      "  'userId': 10},\n",
      " {'completed': True,\n",
      "  'id': 182,\n",
      "  'title': 'inventore saepe cumque et aut illum enim',\n",
      "  'userId': 10},\n",
      " {'completed': True,\n",
      "  'id': 183,\n",
      "  'title': 'omnis nulla eum aliquam distinctio',\n",
      "  'userId': 10},\n",
      " {'completed': False,\n",
      "  'id': 184,\n",
      "  'title': 'molestias modi perferendis perspiciatis',\n",
      "  'userId': 10},\n",
      " {'completed': False,\n",
      "  'id': 185,\n",
      "  'title': 'voluptates dignissimos sed doloribus animi quaerat aut',\n",
      "  'userId': 10},\n",
      " {'completed': False,\n",
      "  'id': 186,\n",
      "  'title': 'explicabo odio est et',\n",
      "  'userId': 10},\n",
      " {'completed': False,\n",
      "  'id': 187,\n",
      "  'title': 'consequuntur animi possimus',\n",
      "  'userId': 10},\n",
      " {'completed': True, 'id': 188, 'title': 'vel non beatae est', 'userId': 10},\n",
      " {'completed': True,\n",
      "  'id': 189,\n",
      "  'title': 'culpa eius et voluptatem et',\n",
      "  'userId': 10},\n",
      " {'completed': True,\n",
      "  'id': 190,\n",
      "  'title': 'accusamus sint iusto et voluptatem exercitationem',\n",
      "  'userId': 10},\n",
      " {'completed': True,\n",
      "  'id': 191,\n",
      "  'title': 'temporibus atque distinctio omnis eius impedit tempore molestias '\n",
      "           'pariatur',\n",
      "  'userId': 10},\n",
      " {'completed': False,\n",
      "  'id': 192,\n",
      "  'title': 'ut quas possimus exercitationem sint voluptates',\n",
      "  'userId': 10},\n",
      " {'completed': True,\n",
      "  'id': 193,\n",
      "  'title': 'rerum debitis voluptatem qui eveniet tempora distinctio a',\n",
      "  'userId': 10},\n",
      " {'completed': False,\n",
      "  'id': 194,\n",
      "  'title': 'sed ut vero sit molestiae',\n",
      "  'userId': 10},\n",
      " {'completed': True,\n",
      "  'id': 195,\n",
      "  'title': 'rerum ex veniam mollitia voluptatibus pariatur',\n",
      "  'userId': 10},\n",
      " {'completed': True,\n",
      "  'id': 196,\n",
      "  'title': 'consequuntur aut ut fugit similique',\n",
      "  'userId': 10},\n",
      " {'completed': True,\n",
      "  'id': 197,\n",
      "  'title': 'dignissimos quo nobis earum saepe',\n",
      "  'userId': 10},\n",
      " {'completed': True,\n",
      "  'id': 198,\n",
      "  'title': 'quis eius est sint explicabo',\n",
      "  'userId': 10},\n",
      " {'completed': True,\n",
      "  'id': 199,\n",
      "  'title': 'numquam repellendus a magnam',\n",
      "  'userId': 10},\n",
      " {'completed': False,\n",
      "  'id': 200,\n",
      "  'title': 'ipsam aperiam voluptates qui',\n",
      "  'userId': 10}]\n"
     ]
    }
   ],
   "source": [
    "pprint(resp)"
   ]
  },
  {
   "cell_type": "code",
   "execution_count": 38,
   "id": "b770e9d5",
   "metadata": {},
   "outputs": [],
   "source": [
    "#---- decode JSON data, preserving its order in an OrderedDict"
   ]
  },
  {
   "cell_type": "code",
   "execution_count": 39,
   "id": "569b5ff7",
   "metadata": {},
   "outputs": [],
   "source": [
    "s = '{\"name\": \"ACME\", \"shares\": 50, \"price\": 490.1}'"
   ]
  },
  {
   "cell_type": "code",
   "execution_count": 40,
   "id": "4af46b86",
   "metadata": {},
   "outputs": [],
   "source": [
    "from collections import OrderedDict"
   ]
  },
  {
   "cell_type": "code",
   "execution_count": 89,
   "id": "ed87fa3d",
   "metadata": {},
   "outputs": [],
   "source": [
    "data = json.loads(s, object_pairs_hook=OrderedDict)"
   ]
  },
  {
   "cell_type": "code",
   "execution_count": 42,
   "id": "9cc375df",
   "metadata": {},
   "outputs": [
    {
     "data": {
      "text/plain": [
       "OrderedDict([('name', 'ACME'), ('shares', 50), ('price', 490.1)])"
      ]
     },
     "execution_count": 42,
     "metadata": {},
     "output_type": "execute_result"
    }
   ],
   "source": [
    "data\n"
   ]
  },
  {
   "cell_type": "code",
   "execution_count": 43,
   "id": "c7d76e16",
   "metadata": {},
   "outputs": [],
   "source": [
    "#-------- turn a JSON dictionary into a Python object"
   ]
  },
  {
   "cell_type": "code",
   "execution_count": 44,
   "id": "9403c64b",
   "metadata": {},
   "outputs": [],
   "source": [
    " class JSONObject:\n",
    "        def __init__(self, d):\n",
    "             self.__dict__ = d\n",
    "                "
   ]
  },
  {
   "cell_type": "code",
   "execution_count": 85,
   "id": "78c82b7c",
   "metadata": {},
   "outputs": [],
   "source": [
    "data = json.loads(s, object_hook=JSONObject)"
   ]
  },
  {
   "cell_type": "code",
   "execution_count": 46,
   "id": "2df17337",
   "metadata": {},
   "outputs": [
    {
     "data": {
      "text/plain": [
       "'ACME'"
      ]
     },
     "execution_count": 46,
     "metadata": {},
     "output_type": "execute_result"
    }
   ],
   "source": [
    " data.name"
   ]
  },
  {
   "cell_type": "code",
   "execution_count": 47,
   "id": "64c6c889",
   "metadata": {},
   "outputs": [
    {
     "data": {
      "text/plain": [
       "50"
      ]
     },
     "execution_count": 47,
     "metadata": {},
     "output_type": "execute_result"
    }
   ],
   "source": [
    "data.shares"
   ]
  },
  {
   "cell_type": "code",
   "execution_count": 48,
   "id": "2407a843",
   "metadata": {},
   "outputs": [
    {
     "data": {
      "text/plain": [
       "490.1"
      ]
     },
     "execution_count": 48,
     "metadata": {},
     "output_type": "execute_result"
    }
   ],
   "source": [
    "data.price"
   ]
  },
  {
   "cell_type": "code",
   "execution_count": 49,
   "id": "d56589d1",
   "metadata": {},
   "outputs": [],
   "source": [
    "#---------------------------"
   ]
  },
  {
   "cell_type": "code",
   "execution_count": 56,
   "id": "1c028b6e",
   "metadata": {},
   "outputs": [],
   "source": [
    "data1 = json.loads(s, object_hook=JSONObject)"
   ]
  },
  {
   "cell_type": "code",
   "execution_count": 83,
   "id": "6cc0e75b",
   "metadata": {},
   "outputs": [
    {
     "ename": "NameError",
     "evalue": "name 'data1' is not defined",
     "output_type": "error",
     "traceback": [
      "\u001b[0;31m---------------------------------------------------------------------------\u001b[0m",
      "\u001b[0;31mNameError\u001b[0m                                 Traceback (most recent call last)",
      "Input \u001b[0;32mIn [83]\u001b[0m, in \u001b[0;36m<cell line: 1>\u001b[0;34m()\u001b[0m\n\u001b[0;32m----> 1\u001b[0m \u001b[38;5;28mprint\u001b[39m(json\u001b[38;5;241m.\u001b[39mdumps(\u001b[43mdata1\u001b[49m))\n",
      "\u001b[0;31mNameError\u001b[0m: name 'data1' is not defined"
     ]
    }
   ],
   "source": [
    "print(json.dumps(data1))"
   ]
  },
  {
   "cell_type": "code",
   "execution_count": 59,
   "id": "491a9eca",
   "metadata": {},
   "outputs": [
    {
     "ename": "TypeError",
     "evalue": "Object of type JSONObject is not JSON serializable",
     "output_type": "error",
     "traceback": [
      "\u001b[0;31m---------------------------------------------------------------------------\u001b[0m",
      "\u001b[0;31mTypeError\u001b[0m                                 Traceback (most recent call last)",
      "Input \u001b[0;32mIn [59]\u001b[0m, in \u001b[0;36m<cell line: 1>\u001b[0;34m()\u001b[0m\n\u001b[0;32m----> 1\u001b[0m \u001b[38;5;28mprint\u001b[39m(\u001b[43mjson\u001b[49m\u001b[38;5;241;43m.\u001b[39;49m\u001b[43mdumps\u001b[49m\u001b[43m(\u001b[49m\u001b[43mdata\u001b[49m\u001b[43m,\u001b[49m\u001b[43m \u001b[49m\u001b[43msort_keys\u001b[49m\u001b[38;5;241;43m=\u001b[39;49m\u001b[38;5;28;43;01mTrue\u001b[39;49;00m\u001b[43m)\u001b[49m)\n",
      "File \u001b[0;32m~/opt/anaconda3/lib/python3.9/json/__init__.py:234\u001b[0m, in \u001b[0;36mdumps\u001b[0;34m(obj, skipkeys, ensure_ascii, check_circular, allow_nan, cls, indent, separators, default, sort_keys, **kw)\u001b[0m\n\u001b[1;32m    232\u001b[0m \u001b[38;5;28;01mif\u001b[39;00m \u001b[38;5;28mcls\u001b[39m \u001b[38;5;129;01mis\u001b[39;00m \u001b[38;5;28;01mNone\u001b[39;00m:\n\u001b[1;32m    233\u001b[0m     \u001b[38;5;28mcls\u001b[39m \u001b[38;5;241m=\u001b[39m JSONEncoder\n\u001b[0;32m--> 234\u001b[0m \u001b[38;5;28;01mreturn\u001b[39;00m \u001b[38;5;28;43mcls\u001b[39;49m\u001b[43m(\u001b[49m\n\u001b[1;32m    235\u001b[0m \u001b[43m    \u001b[49m\u001b[43mskipkeys\u001b[49m\u001b[38;5;241;43m=\u001b[39;49m\u001b[43mskipkeys\u001b[49m\u001b[43m,\u001b[49m\u001b[43m \u001b[49m\u001b[43mensure_ascii\u001b[49m\u001b[38;5;241;43m=\u001b[39;49m\u001b[43mensure_ascii\u001b[49m\u001b[43m,\u001b[49m\n\u001b[1;32m    236\u001b[0m \u001b[43m    \u001b[49m\u001b[43mcheck_circular\u001b[49m\u001b[38;5;241;43m=\u001b[39;49m\u001b[43mcheck_circular\u001b[49m\u001b[43m,\u001b[49m\u001b[43m \u001b[49m\u001b[43mallow_nan\u001b[49m\u001b[38;5;241;43m=\u001b[39;49m\u001b[43mallow_nan\u001b[49m\u001b[43m,\u001b[49m\u001b[43m \u001b[49m\u001b[43mindent\u001b[49m\u001b[38;5;241;43m=\u001b[39;49m\u001b[43mindent\u001b[49m\u001b[43m,\u001b[49m\n\u001b[1;32m    237\u001b[0m \u001b[43m    \u001b[49m\u001b[43mseparators\u001b[49m\u001b[38;5;241;43m=\u001b[39;49m\u001b[43mseparators\u001b[49m\u001b[43m,\u001b[49m\u001b[43m \u001b[49m\u001b[43mdefault\u001b[49m\u001b[38;5;241;43m=\u001b[39;49m\u001b[43mdefault\u001b[49m\u001b[43m,\u001b[49m\u001b[43m \u001b[49m\u001b[43msort_keys\u001b[49m\u001b[38;5;241;43m=\u001b[39;49m\u001b[43msort_keys\u001b[49m\u001b[43m,\u001b[49m\n\u001b[1;32m    238\u001b[0m \u001b[43m    \u001b[49m\u001b[38;5;241;43m*\u001b[39;49m\u001b[38;5;241;43m*\u001b[39;49m\u001b[43mkw\u001b[49m\u001b[43m)\u001b[49m\u001b[38;5;241;43m.\u001b[39;49m\u001b[43mencode\u001b[49m\u001b[43m(\u001b[49m\u001b[43mobj\u001b[49m\u001b[43m)\u001b[49m\n",
      "File \u001b[0;32m~/opt/anaconda3/lib/python3.9/json/encoder.py:199\u001b[0m, in \u001b[0;36mJSONEncoder.encode\u001b[0;34m(self, o)\u001b[0m\n\u001b[1;32m    195\u001b[0m         \u001b[38;5;28;01mreturn\u001b[39;00m encode_basestring(o)\n\u001b[1;32m    196\u001b[0m \u001b[38;5;66;03m# This doesn't pass the iterator directly to ''.join() because the\u001b[39;00m\n\u001b[1;32m    197\u001b[0m \u001b[38;5;66;03m# exceptions aren't as detailed.  The list call should be roughly\u001b[39;00m\n\u001b[1;32m    198\u001b[0m \u001b[38;5;66;03m# equivalent to the PySequence_Fast that ''.join() would do.\u001b[39;00m\n\u001b[0;32m--> 199\u001b[0m chunks \u001b[38;5;241m=\u001b[39m \u001b[38;5;28;43mself\u001b[39;49m\u001b[38;5;241;43m.\u001b[39;49m\u001b[43miterencode\u001b[49m\u001b[43m(\u001b[49m\u001b[43mo\u001b[49m\u001b[43m,\u001b[49m\u001b[43m \u001b[49m\u001b[43m_one_shot\u001b[49m\u001b[38;5;241;43m=\u001b[39;49m\u001b[38;5;28;43;01mTrue\u001b[39;49;00m\u001b[43m)\u001b[49m\n\u001b[1;32m    200\u001b[0m \u001b[38;5;28;01mif\u001b[39;00m \u001b[38;5;129;01mnot\u001b[39;00m \u001b[38;5;28misinstance\u001b[39m(chunks, (\u001b[38;5;28mlist\u001b[39m, \u001b[38;5;28mtuple\u001b[39m)):\n\u001b[1;32m    201\u001b[0m     chunks \u001b[38;5;241m=\u001b[39m \u001b[38;5;28mlist\u001b[39m(chunks)\n",
      "File \u001b[0;32m~/opt/anaconda3/lib/python3.9/json/encoder.py:257\u001b[0m, in \u001b[0;36mJSONEncoder.iterencode\u001b[0;34m(self, o, _one_shot)\u001b[0m\n\u001b[1;32m    252\u001b[0m \u001b[38;5;28;01melse\u001b[39;00m:\n\u001b[1;32m    253\u001b[0m     _iterencode \u001b[38;5;241m=\u001b[39m _make_iterencode(\n\u001b[1;32m    254\u001b[0m         markers, \u001b[38;5;28mself\u001b[39m\u001b[38;5;241m.\u001b[39mdefault, _encoder, \u001b[38;5;28mself\u001b[39m\u001b[38;5;241m.\u001b[39mindent, floatstr,\n\u001b[1;32m    255\u001b[0m         \u001b[38;5;28mself\u001b[39m\u001b[38;5;241m.\u001b[39mkey_separator, \u001b[38;5;28mself\u001b[39m\u001b[38;5;241m.\u001b[39mitem_separator, \u001b[38;5;28mself\u001b[39m\u001b[38;5;241m.\u001b[39msort_keys,\n\u001b[1;32m    256\u001b[0m         \u001b[38;5;28mself\u001b[39m\u001b[38;5;241m.\u001b[39mskipkeys, _one_shot)\n\u001b[0;32m--> 257\u001b[0m \u001b[38;5;28;01mreturn\u001b[39;00m \u001b[43m_iterencode\u001b[49m\u001b[43m(\u001b[49m\u001b[43mo\u001b[49m\u001b[43m,\u001b[49m\u001b[43m \u001b[49m\u001b[38;5;241;43m0\u001b[39;49m\u001b[43m)\u001b[49m\n",
      "File \u001b[0;32m~/opt/anaconda3/lib/python3.9/json/encoder.py:179\u001b[0m, in \u001b[0;36mJSONEncoder.default\u001b[0;34m(self, o)\u001b[0m\n\u001b[1;32m    160\u001b[0m \u001b[38;5;28;01mdef\u001b[39;00m \u001b[38;5;21mdefault\u001b[39m(\u001b[38;5;28mself\u001b[39m, o):\n\u001b[1;32m    161\u001b[0m     \u001b[38;5;124;03m\"\"\"Implement this method in a subclass such that it returns\u001b[39;00m\n\u001b[1;32m    162\u001b[0m \u001b[38;5;124;03m    a serializable object for ``o``, or calls the base implementation\u001b[39;00m\n\u001b[1;32m    163\u001b[0m \u001b[38;5;124;03m    (to raise a ``TypeError``).\u001b[39;00m\n\u001b[0;32m   (...)\u001b[0m\n\u001b[1;32m    177\u001b[0m \n\u001b[1;32m    178\u001b[0m \u001b[38;5;124;03m    \"\"\"\u001b[39;00m\n\u001b[0;32m--> 179\u001b[0m     \u001b[38;5;28;01mraise\u001b[39;00m \u001b[38;5;167;01mTypeError\u001b[39;00m(\u001b[38;5;124mf\u001b[39m\u001b[38;5;124m'\u001b[39m\u001b[38;5;124mObject of type \u001b[39m\u001b[38;5;132;01m{\u001b[39;00mo\u001b[38;5;241m.\u001b[39m\u001b[38;5;18m__class__\u001b[39m\u001b[38;5;241m.\u001b[39m\u001b[38;5;18m__name__\u001b[39m\u001b[38;5;132;01m}\u001b[39;00m\u001b[38;5;124m \u001b[39m\u001b[38;5;124m'\u001b[39m\n\u001b[1;32m    180\u001b[0m                     \u001b[38;5;124mf\u001b[39m\u001b[38;5;124m'\u001b[39m\u001b[38;5;124mis not JSON serializable\u001b[39m\u001b[38;5;124m'\u001b[39m)\n",
      "\u001b[0;31mTypeError\u001b[0m: Object of type JSONObject is not JSON serializable"
     ]
    }
   ],
   "source": [
    "print(json.dumps(data, sort_keys=True))"
   ]
  },
  {
   "cell_type": "code",
   "execution_count": 60,
   "id": "9321b095",
   "metadata": {},
   "outputs": [],
   "source": [
    "# instances are not normally serializable as JSON. for example"
   ]
  },
  {
   "cell_type": "code",
   "execution_count": 61,
   "id": "3c8b1b1e",
   "metadata": {},
   "outputs": [],
   "source": [
    "class Point:\n",
    "    def __init__(self,x,y):\n",
    "        self.x = x\n",
    "        self.y = y"
   ]
  },
  {
   "cell_type": "code",
   "execution_count": 62,
   "id": "04caa3d9",
   "metadata": {},
   "outputs": [],
   "source": [
    "p = Point(2,3)"
   ]
  },
  {
   "cell_type": "code",
   "execution_count": 63,
   "id": "c276e87a",
   "metadata": {},
   "outputs": [
    {
     "ename": "TypeError",
     "evalue": "Object of type Point is not JSON serializable",
     "output_type": "error",
     "traceback": [
      "\u001b[0;31m---------------------------------------------------------------------------\u001b[0m",
      "\u001b[0;31mTypeError\u001b[0m                                 Traceback (most recent call last)",
      "Input \u001b[0;32mIn [63]\u001b[0m, in \u001b[0;36m<cell line: 1>\u001b[0;34m()\u001b[0m\n\u001b[0;32m----> 1\u001b[0m \u001b[43mjson\u001b[49m\u001b[38;5;241;43m.\u001b[39;49m\u001b[43mdumps\u001b[49m\u001b[43m(\u001b[49m\u001b[43mp\u001b[49m\u001b[43m)\u001b[49m\n",
      "File \u001b[0;32m~/opt/anaconda3/lib/python3.9/json/__init__.py:231\u001b[0m, in \u001b[0;36mdumps\u001b[0;34m(obj, skipkeys, ensure_ascii, check_circular, allow_nan, cls, indent, separators, default, sort_keys, **kw)\u001b[0m\n\u001b[1;32m    226\u001b[0m \u001b[38;5;66;03m# cached encoder\u001b[39;00m\n\u001b[1;32m    227\u001b[0m \u001b[38;5;28;01mif\u001b[39;00m (\u001b[38;5;129;01mnot\u001b[39;00m skipkeys \u001b[38;5;129;01mand\u001b[39;00m ensure_ascii \u001b[38;5;129;01mand\u001b[39;00m\n\u001b[1;32m    228\u001b[0m     check_circular \u001b[38;5;129;01mand\u001b[39;00m allow_nan \u001b[38;5;129;01mand\u001b[39;00m\n\u001b[1;32m    229\u001b[0m     \u001b[38;5;28mcls\u001b[39m \u001b[38;5;129;01mis\u001b[39;00m \u001b[38;5;28;01mNone\u001b[39;00m \u001b[38;5;129;01mand\u001b[39;00m indent \u001b[38;5;129;01mis\u001b[39;00m \u001b[38;5;28;01mNone\u001b[39;00m \u001b[38;5;129;01mand\u001b[39;00m separators \u001b[38;5;129;01mis\u001b[39;00m \u001b[38;5;28;01mNone\u001b[39;00m \u001b[38;5;129;01mand\u001b[39;00m\n\u001b[1;32m    230\u001b[0m     default \u001b[38;5;129;01mis\u001b[39;00m \u001b[38;5;28;01mNone\u001b[39;00m \u001b[38;5;129;01mand\u001b[39;00m \u001b[38;5;129;01mnot\u001b[39;00m sort_keys \u001b[38;5;129;01mand\u001b[39;00m \u001b[38;5;129;01mnot\u001b[39;00m kw):\n\u001b[0;32m--> 231\u001b[0m     \u001b[38;5;28;01mreturn\u001b[39;00m \u001b[43m_default_encoder\u001b[49m\u001b[38;5;241;43m.\u001b[39;49m\u001b[43mencode\u001b[49m\u001b[43m(\u001b[49m\u001b[43mobj\u001b[49m\u001b[43m)\u001b[49m\n\u001b[1;32m    232\u001b[0m \u001b[38;5;28;01mif\u001b[39;00m \u001b[38;5;28mcls\u001b[39m \u001b[38;5;129;01mis\u001b[39;00m \u001b[38;5;28;01mNone\u001b[39;00m:\n\u001b[1;32m    233\u001b[0m     \u001b[38;5;28mcls\u001b[39m \u001b[38;5;241m=\u001b[39m JSONEncoder\n",
      "File \u001b[0;32m~/opt/anaconda3/lib/python3.9/json/encoder.py:199\u001b[0m, in \u001b[0;36mJSONEncoder.encode\u001b[0;34m(self, o)\u001b[0m\n\u001b[1;32m    195\u001b[0m         \u001b[38;5;28;01mreturn\u001b[39;00m encode_basestring(o)\n\u001b[1;32m    196\u001b[0m \u001b[38;5;66;03m# This doesn't pass the iterator directly to ''.join() because the\u001b[39;00m\n\u001b[1;32m    197\u001b[0m \u001b[38;5;66;03m# exceptions aren't as detailed.  The list call should be roughly\u001b[39;00m\n\u001b[1;32m    198\u001b[0m \u001b[38;5;66;03m# equivalent to the PySequence_Fast that ''.join() would do.\u001b[39;00m\n\u001b[0;32m--> 199\u001b[0m chunks \u001b[38;5;241m=\u001b[39m \u001b[38;5;28;43mself\u001b[39;49m\u001b[38;5;241;43m.\u001b[39;49m\u001b[43miterencode\u001b[49m\u001b[43m(\u001b[49m\u001b[43mo\u001b[49m\u001b[43m,\u001b[49m\u001b[43m \u001b[49m\u001b[43m_one_shot\u001b[49m\u001b[38;5;241;43m=\u001b[39;49m\u001b[38;5;28;43;01mTrue\u001b[39;49;00m\u001b[43m)\u001b[49m\n\u001b[1;32m    200\u001b[0m \u001b[38;5;28;01mif\u001b[39;00m \u001b[38;5;129;01mnot\u001b[39;00m \u001b[38;5;28misinstance\u001b[39m(chunks, (\u001b[38;5;28mlist\u001b[39m, \u001b[38;5;28mtuple\u001b[39m)):\n\u001b[1;32m    201\u001b[0m     chunks \u001b[38;5;241m=\u001b[39m \u001b[38;5;28mlist\u001b[39m(chunks)\n",
      "File \u001b[0;32m~/opt/anaconda3/lib/python3.9/json/encoder.py:257\u001b[0m, in \u001b[0;36mJSONEncoder.iterencode\u001b[0;34m(self, o, _one_shot)\u001b[0m\n\u001b[1;32m    252\u001b[0m \u001b[38;5;28;01melse\u001b[39;00m:\n\u001b[1;32m    253\u001b[0m     _iterencode \u001b[38;5;241m=\u001b[39m _make_iterencode(\n\u001b[1;32m    254\u001b[0m         markers, \u001b[38;5;28mself\u001b[39m\u001b[38;5;241m.\u001b[39mdefault, _encoder, \u001b[38;5;28mself\u001b[39m\u001b[38;5;241m.\u001b[39mindent, floatstr,\n\u001b[1;32m    255\u001b[0m         \u001b[38;5;28mself\u001b[39m\u001b[38;5;241m.\u001b[39mkey_separator, \u001b[38;5;28mself\u001b[39m\u001b[38;5;241m.\u001b[39mitem_separator, \u001b[38;5;28mself\u001b[39m\u001b[38;5;241m.\u001b[39msort_keys,\n\u001b[1;32m    256\u001b[0m         \u001b[38;5;28mself\u001b[39m\u001b[38;5;241m.\u001b[39mskipkeys, _one_shot)\n\u001b[0;32m--> 257\u001b[0m \u001b[38;5;28;01mreturn\u001b[39;00m \u001b[43m_iterencode\u001b[49m\u001b[43m(\u001b[49m\u001b[43mo\u001b[49m\u001b[43m,\u001b[49m\u001b[43m \u001b[49m\u001b[38;5;241;43m0\u001b[39;49m\u001b[43m)\u001b[49m\n",
      "File \u001b[0;32m~/opt/anaconda3/lib/python3.9/json/encoder.py:179\u001b[0m, in \u001b[0;36mJSONEncoder.default\u001b[0;34m(self, o)\u001b[0m\n\u001b[1;32m    160\u001b[0m \u001b[38;5;28;01mdef\u001b[39;00m \u001b[38;5;21mdefault\u001b[39m(\u001b[38;5;28mself\u001b[39m, o):\n\u001b[1;32m    161\u001b[0m     \u001b[38;5;124;03m\"\"\"Implement this method in a subclass such that it returns\u001b[39;00m\n\u001b[1;32m    162\u001b[0m \u001b[38;5;124;03m    a serializable object for ``o``, or calls the base implementation\u001b[39;00m\n\u001b[1;32m    163\u001b[0m \u001b[38;5;124;03m    (to raise a ``TypeError``).\u001b[39;00m\n\u001b[0;32m   (...)\u001b[0m\n\u001b[1;32m    177\u001b[0m \n\u001b[1;32m    178\u001b[0m \u001b[38;5;124;03m    \"\"\"\u001b[39;00m\n\u001b[0;32m--> 179\u001b[0m     \u001b[38;5;28;01mraise\u001b[39;00m \u001b[38;5;167;01mTypeError\u001b[39;00m(\u001b[38;5;124mf\u001b[39m\u001b[38;5;124m'\u001b[39m\u001b[38;5;124mObject of type \u001b[39m\u001b[38;5;132;01m{\u001b[39;00mo\u001b[38;5;241m.\u001b[39m\u001b[38;5;18m__class__\u001b[39m\u001b[38;5;241m.\u001b[39m\u001b[38;5;18m__name__\u001b[39m\u001b[38;5;132;01m}\u001b[39;00m\u001b[38;5;124m \u001b[39m\u001b[38;5;124m'\u001b[39m\n\u001b[1;32m    180\u001b[0m                     \u001b[38;5;124mf\u001b[39m\u001b[38;5;124m'\u001b[39m\u001b[38;5;124mis not JSON serializable\u001b[39m\u001b[38;5;124m'\u001b[39m)\n",
      "\u001b[0;31mTypeError\u001b[0m: Object of type Point is not JSON serializable"
     ]
    }
   ],
   "source": [
    "json.dumps(p)"
   ]
  },
  {
   "cell_type": "code",
   "execution_count": 64,
   "id": "658a850b",
   "metadata": {},
   "outputs": [],
   "source": [
    "#------- to serialize instances,you can supply a\n",
    "#function that takes an instance as input and returns a dictionary "
   ]
  },
  {
   "cell_type": "code",
   "execution_count": 65,
   "id": "1282fd76",
   "metadata": {},
   "outputs": [],
   "source": [
    "def serialize_instance(obj):\n",
    "    d = { '__classname__' : type(obj).__name__ } \n",
    "    d.update(vars(obj))\n",
    "    return d"
   ]
  },
  {
   "cell_type": "code",
   "execution_count": 66,
   "id": "0c959c3e",
   "metadata": {},
   "outputs": [],
   "source": [
    "#------- if you want to get an instance back ------"
   ]
  },
  {
   "cell_type": "code",
   "execution_count": 69,
   "id": "2897ade2",
   "metadata": {},
   "outputs": [],
   "source": [
    "# Dictionary mapping names to known classes\n",
    "classes = {\n",
    "        'Point' : Point\n",
    "}\n",
    "    \n",
    "def unserialize_object(d):\n",
    "    clsname = d.pop('__classname__', None) \n",
    "    if clsname:\n",
    "        cls = classes[clsname]\n",
    "        obj = cls.__new__(cls) # Make instance without calling __init__ \n",
    "        for key, value in d.items():\n",
    "                        setattr(obj, key, value)\n",
    "                        return obj\n",
    "    else:\n",
    "        return d"
   ]
  },
  {
   "cell_type": "code",
   "execution_count": 70,
   "id": "907e6708",
   "metadata": {},
   "outputs": [],
   "source": [
    "p = Point(2,3)"
   ]
  },
  {
   "cell_type": "code",
   "execution_count": 71,
   "id": "5e067160",
   "metadata": {},
   "outputs": [],
   "source": [
    " s = json.dumps(p, default=serialize_instance)"
   ]
  },
  {
   "cell_type": "code",
   "execution_count": 73,
   "id": "ed08cd89",
   "metadata": {},
   "outputs": [
    {
     "data": {
      "text/plain": [
       "'{\"__classname__\": \"Point\", \"x\": 2, \"y\": 3}'"
      ]
     },
     "execution_count": 73,
     "metadata": {},
     "output_type": "execute_result"
    }
   ],
   "source": [
    "s"
   ]
  },
  {
   "cell_type": "code",
   "execution_count": 74,
   "id": "06f10ed9",
   "metadata": {},
   "outputs": [],
   "source": [
    " a = json.loads(s, object_hook=unserialize_object)"
   ]
  },
  {
   "cell_type": "code",
   "execution_count": 75,
   "id": "110e44d1",
   "metadata": {},
   "outputs": [
    {
     "data": {
      "text/plain": [
       "<__main__.Point at 0x7f80a88be070>"
      ]
     },
     "execution_count": 75,
     "metadata": {},
     "output_type": "execute_result"
    }
   ],
   "source": [
    "a"
   ]
  },
  {
   "cell_type": "code",
   "execution_count": 76,
   "id": "0558255e",
   "metadata": {},
   "outputs": [
    {
     "data": {
      "text/plain": [
       "2"
      ]
     },
     "execution_count": 76,
     "metadata": {},
     "output_type": "execute_result"
    }
   ],
   "source": [
    "a.x"
   ]
  },
  {
   "cell_type": "code",
   "execution_count": 77,
   "id": "741b7634",
   "metadata": {},
   "outputs": [
    {
     "ename": "AttributeError",
     "evalue": "'Point' object has no attribute 'y'",
     "output_type": "error",
     "traceback": [
      "\u001b[0;31m---------------------------------------------------------------------------\u001b[0m",
      "\u001b[0;31mAttributeError\u001b[0m                            Traceback (most recent call last)",
      "Input \u001b[0;32mIn [77]\u001b[0m, in \u001b[0;36m<cell line: 1>\u001b[0;34m()\u001b[0m\n\u001b[0;32m----> 1\u001b[0m \u001b[43ma\u001b[49m\u001b[38;5;241;43m.\u001b[39;49m\u001b[43my\u001b[49m\n",
      "\u001b[0;31mAttributeError\u001b[0m: 'Point' object has no attribute 'y'"
     ]
    }
   ],
   "source": [
    "a.y"
   ]
  },
  {
   "cell_type": "code",
   "execution_count": null,
   "id": "c3859967",
   "metadata": {},
   "outputs": [],
   "source": []
  }
 ],
 "metadata": {
  "kernelspec": {
   "display_name": "Python 3 (ipykernel)",
   "language": "python",
   "name": "python3"
  },
  "language_info": {
   "codemirror_mode": {
    "name": "ipython",
    "version": 3
   },
   "file_extension": ".py",
   "mimetype": "text/x-python",
   "name": "python",
   "nbconvert_exporter": "python",
   "pygments_lexer": "ipython3",
   "version": "3.9.12"
  }
 },
 "nbformat": 4,
 "nbformat_minor": 5
}
